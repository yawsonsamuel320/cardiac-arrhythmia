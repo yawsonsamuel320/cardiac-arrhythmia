{
  "cells": [
    {
      "cell_type": "markdown",
      "metadata": {
        "id": "view-in-github",
        "colab_type": "text"
      },
      "source": [
        "<a href=\"https://colab.research.google.com/github/yawsonsamuel320/cardiac-arrhythmia/blob/main/Arrythmia_Final_Year_Project.ipynb\" target=\"_parent\"><img src=\"https://colab.research.google.com/assets/colab-badge.svg\" alt=\"Open In Colab\"/></a>"
      ]
    },
    {
      "cell_type": "markdown",
      "metadata": {
        "id": "aRCYrDlJKgOf"
      },
      "source": [
        "##**1. Preparation of workspace**"
      ]
    },
    {
      "cell_type": "markdown",
      "metadata": {
        "id": "g5ka0YZMK875"
      },
      "source": [
        "###**1.1 Installation of packages**"
      ]
    },
    {
      "cell_type": "code",
      "execution_count": 1,
      "metadata": {
        "id": "4-fukAukTl2G",
        "colab": {
          "base_uri": "https://localhost:8080/",
          "height": 1000
        },
        "outputId": "bf0793a1-6287-46ea-f79a-d064ff4bae64"
      },
      "outputs": [
        {
          "output_type": "stream",
          "name": "stdout",
          "text": [
            "Looking in indexes: https://pypi.org/simple, https://us-python.pkg.dev/colab-wheels/public/simple/\n",
            "Collecting matplotlib==3.1.1\n",
            "  Downloading matplotlib-3.1.1-cp37-cp37m-manylinux1_x86_64.whl (13.1 MB)\n",
            "\u001b[K     |████████████████████████████████| 13.1 MB 9.3 MB/s \n",
            "\u001b[?25hRequirement already satisfied: kiwisolver>=1.0.1 in /usr/local/lib/python3.7/dist-packages (from matplotlib==3.1.1) (1.4.4)\n",
            "Requirement already satisfied: python-dateutil>=2.1 in /usr/local/lib/python3.7/dist-packages (from matplotlib==3.1.1) (2.8.2)\n",
            "Requirement already satisfied: numpy>=1.11 in /usr/local/lib/python3.7/dist-packages (from matplotlib==3.1.1) (1.21.6)\n",
            "Requirement already satisfied: cycler>=0.10 in /usr/local/lib/python3.7/dist-packages (from matplotlib==3.1.1) (0.11.0)\n",
            "Requirement already satisfied: pyparsing!=2.0.4,!=2.1.2,!=2.1.6,>=2.0.1 in /usr/local/lib/python3.7/dist-packages (from matplotlib==3.1.1) (3.0.9)\n",
            "Requirement already satisfied: typing-extensions in /usr/local/lib/python3.7/dist-packages (from kiwisolver>=1.0.1->matplotlib==3.1.1) (4.1.1)\n",
            "Requirement already satisfied: six>=1.5 in /usr/local/lib/python3.7/dist-packages (from python-dateutil>=2.1->matplotlib==3.1.1) (1.15.0)\n",
            "Installing collected packages: matplotlib\n",
            "  Attempting uninstall: matplotlib\n",
            "    Found existing installation: matplotlib 3.2.2\n",
            "    Uninstalling matplotlib-3.2.2:\n",
            "      Successfully uninstalled matplotlib-3.2.2\n",
            "Successfully installed matplotlib-3.1.1\n"
          ]
        },
        {
          "output_type": "display_data",
          "data": {
            "application/vnd.colab-display-data+json": {
              "pip_warning": {
                "packages": [
                  "matplotlib",
                  "mpl_toolkits"
                ]
              }
            }
          },
          "metadata": {}
        },
        {
          "output_type": "stream",
          "name": "stdout",
          "text": [
            "Looking in indexes: https://pypi.org/simple, https://us-python.pkg.dev/colab-wheels/public/simple/\n",
            "Collecting BaselineWanderRemoval\n",
            "  Downloading BaselineWanderRemoval-2017.10.25.tar.gz (1.3 kB)\n",
            "Requirement already satisfied: numpy in /usr/local/lib/python3.7/dist-packages (from BaselineWanderRemoval) (1.21.6)\n",
            "Requirement already satisfied: scipy in /usr/local/lib/python3.7/dist-packages (from BaselineWanderRemoval) (1.7.3)\n",
            "Building wheels for collected packages: BaselineWanderRemoval\n",
            "  Building wheel for BaselineWanderRemoval (setup.py) ... \u001b[?25l\u001b[?25hdone\n",
            "  Created wheel for BaselineWanderRemoval: filename=BaselineWanderRemoval-2017.10.25-py3-none-any.whl size=1899 sha256=291742a6be45ec5f0f006338dee772b273e4109244d14f10d9e872799c4b739e\n",
            "  Stored in directory: /root/.cache/pip/wheels/51/2f/33/eca9eceae17f735e827d713fc470c3f589064ef68b9987b1a0\n",
            "Successfully built BaselineWanderRemoval\n",
            "Installing collected packages: BaselineWanderRemoval\n",
            "Successfully installed BaselineWanderRemoval-2017.10.25\n",
            "Looking in indexes: https://pypi.org/simple, https://us-python.pkg.dev/colab-wheels/public/simple/\n",
            "Collecting wfdb\n",
            "  Downloading wfdb-4.0.0-py3-none-any.whl (161 kB)\n",
            "\u001b[K     |████████████████████████████████| 161 kB 7.1 MB/s \n",
            "\u001b[?25hRequirement already satisfied: requests<3.0.0,>=2.8.1 in /usr/local/lib/python3.7/dist-packages (from wfdb) (2.23.0)\n",
            "Requirement already satisfied: scipy<2.0.0,>=1.0.0 in /usr/local/lib/python3.7/dist-packages (from wfdb) (1.7.3)\n",
            "Collecting matplotlib<4.0.0,>=3.2.2\n",
            "  Downloading matplotlib-3.5.3-cp37-cp37m-manylinux_2_5_x86_64.manylinux1_x86_64.whl (11.2 MB)\n",
            "\u001b[K     |████████████████████████████████| 11.2 MB 10.4 MB/s \n",
            "\u001b[?25hRequirement already satisfied: pandas<2.0.0,>=1.0.0 in /usr/local/lib/python3.7/dist-packages (from wfdb) (1.3.5)\n",
            "Requirement already satisfied: SoundFile<0.12.0,>=0.10.0 in /usr/local/lib/python3.7/dist-packages (from wfdb) (0.11.0)\n",
            "Requirement already satisfied: numpy<2.0.0,>=1.10.1 in /usr/local/lib/python3.7/dist-packages (from wfdb) (1.21.6)\n",
            "Requirement already satisfied: pyparsing>=2.2.1 in /usr/local/lib/python3.7/dist-packages (from matplotlib<4.0.0,>=3.2.2->wfdb) (3.0.9)\n",
            "Requirement already satisfied: cycler>=0.10 in /usr/local/lib/python3.7/dist-packages (from matplotlib<4.0.0,>=3.2.2->wfdb) (0.11.0)\n",
            "Collecting fonttools>=4.22.0\n",
            "  Downloading fonttools-4.38.0-py3-none-any.whl (965 kB)\n",
            "\u001b[K     |████████████████████████████████| 965 kB 23.9 MB/s \n",
            "\u001b[?25hRequirement already satisfied: python-dateutil>=2.7 in /usr/local/lib/python3.7/dist-packages (from matplotlib<4.0.0,>=3.2.2->wfdb) (2.8.2)\n",
            "Requirement already satisfied: pillow>=6.2.0 in /usr/local/lib/python3.7/dist-packages (from matplotlib<4.0.0,>=3.2.2->wfdb) (7.1.2)\n",
            "Requirement already satisfied: packaging>=20.0 in /usr/local/lib/python3.7/dist-packages (from matplotlib<4.0.0,>=3.2.2->wfdb) (21.3)\n",
            "Requirement already satisfied: kiwisolver>=1.0.1 in /usr/local/lib/python3.7/dist-packages (from matplotlib<4.0.0,>=3.2.2->wfdb) (1.4.4)\n",
            "Requirement already satisfied: typing-extensions in /usr/local/lib/python3.7/dist-packages (from kiwisolver>=1.0.1->matplotlib<4.0.0,>=3.2.2->wfdb) (4.1.1)\n",
            "Requirement already satisfied: pytz>=2017.3 in /usr/local/lib/python3.7/dist-packages (from pandas<2.0.0,>=1.0.0->wfdb) (2022.6)\n",
            "Requirement already satisfied: six>=1.5 in /usr/local/lib/python3.7/dist-packages (from python-dateutil>=2.7->matplotlib<4.0.0,>=3.2.2->wfdb) (1.15.0)\n",
            "Requirement already satisfied: certifi>=2017.4.17 in /usr/local/lib/python3.7/dist-packages (from requests<3.0.0,>=2.8.1->wfdb) (2022.9.24)\n",
            "Requirement already satisfied: chardet<4,>=3.0.2 in /usr/local/lib/python3.7/dist-packages (from requests<3.0.0,>=2.8.1->wfdb) (3.0.4)\n",
            "Requirement already satisfied: idna<3,>=2.5 in /usr/local/lib/python3.7/dist-packages (from requests<3.0.0,>=2.8.1->wfdb) (2.10)\n",
            "Requirement already satisfied: urllib3!=1.25.0,!=1.25.1,<1.26,>=1.21.1 in /usr/local/lib/python3.7/dist-packages (from requests<3.0.0,>=2.8.1->wfdb) (1.24.3)\n",
            "Requirement already satisfied: cffi>=1.0 in /usr/local/lib/python3.7/dist-packages (from SoundFile<0.12.0,>=0.10.0->wfdb) (1.15.1)\n",
            "Requirement already satisfied: pycparser in /usr/local/lib/python3.7/dist-packages (from cffi>=1.0->SoundFile<0.12.0,>=0.10.0->wfdb) (2.21)\n",
            "Installing collected packages: fonttools, matplotlib, wfdb\n",
            "  Attempting uninstall: matplotlib\n",
            "    Found existing installation: matplotlib 3.1.1\n",
            "    Uninstalling matplotlib-3.1.1:\n",
            "      Successfully uninstalled matplotlib-3.1.1\n",
            "Successfully installed fonttools-4.38.0 matplotlib-3.5.3 wfdb-4.0.0\n"
          ]
        },
        {
          "output_type": "display_data",
          "data": {
            "application/vnd.colab-display-data+json": {
              "pip_warning": {
                "packages": [
                  "matplotlib",
                  "mpl_toolkits"
                ]
              }
            }
          },
          "metadata": {}
        },
        {
          "output_type": "stream",
          "name": "stdout",
          "text": [
            "Looking in indexes: https://pypi.org/simple, https://us-python.pkg.dev/colab-wheels/public/simple/\n",
            "Requirement already satisfied: tqdm in /usr/local/lib/python3.7/dist-packages (4.64.1)\n",
            "Looking in indexes: https://pypi.org/simple, https://us-python.pkg.dev/colab-wheels/public/simple/\n",
            "Collecting py-ecg-detectors\n",
            "  Downloading py_ecg_detectors-1.3.2-py3-none-any.whl (25 kB)\n",
            "Collecting gatspy\n",
            "  Downloading gatspy-0.3.tar.gz (554 kB)\n",
            "\u001b[K     |████████████████████████████████| 554 kB 11.3 MB/s \n",
            "\u001b[?25hRequirement already satisfied: numpy in /usr/local/lib/python3.7/dist-packages (from py-ecg-detectors) (1.21.6)\n",
            "Requirement already satisfied: pywavelets in /usr/local/lib/python3.7/dist-packages (from py-ecg-detectors) (1.3.0)\n",
            "Requirement already satisfied: scipy in /usr/local/lib/python3.7/dist-packages (from py-ecg-detectors) (1.7.3)\n",
            "Building wheels for collected packages: gatspy\n",
            "  Building wheel for gatspy (setup.py) ... \u001b[?25l\u001b[?25hdone\n",
            "  Created wheel for gatspy: filename=gatspy-0.3-py3-none-any.whl size=43818 sha256=221c81bbfcb2913245d2f3b584ce455fbc81cc2a7f40deba89414d6d3e30f576\n",
            "  Stored in directory: /root/.cache/pip/wheels/1f/c1/4c/8de278f816259b4f67e2356c0bda260a593375661e400bf31f\n",
            "Successfully built gatspy\n",
            "Installing collected packages: gatspy, py-ecg-detectors\n",
            "Successfully installed gatspy-0.3 py-ecg-detectors-1.3.2\n",
            "Looking in indexes: https://pypi.org/simple, https://us-python.pkg.dev/colab-wheels/public/simple/\n",
            "Requirement already satisfied: matplotlib in /usr/local/lib/python3.7/dist-packages (3.5.3)\n",
            "Requirement already satisfied: numpy>=1.17 in /usr/local/lib/python3.7/dist-packages (from matplotlib) (1.21.6)\n",
            "Requirement already satisfied: python-dateutil>=2.7 in /usr/local/lib/python3.7/dist-packages (from matplotlib) (2.8.2)\n",
            "Requirement already satisfied: kiwisolver>=1.0.1 in /usr/local/lib/python3.7/dist-packages (from matplotlib) (1.4.4)\n",
            "Requirement already satisfied: cycler>=0.10 in /usr/local/lib/python3.7/dist-packages (from matplotlib) (0.11.0)\n",
            "Requirement already satisfied: packaging>=20.0 in /usr/local/lib/python3.7/dist-packages (from matplotlib) (21.3)\n",
            "Requirement already satisfied: pillow>=6.2.0 in /usr/local/lib/python3.7/dist-packages (from matplotlib) (7.1.2)\n",
            "Requirement already satisfied: fonttools>=4.22.0 in /usr/local/lib/python3.7/dist-packages (from matplotlib) (4.38.0)\n",
            "Requirement already satisfied: pyparsing>=2.2.1 in /usr/local/lib/python3.7/dist-packages (from matplotlib) (3.0.9)\n",
            "Requirement already satisfied: typing-extensions in /usr/local/lib/python3.7/dist-packages (from kiwisolver>=1.0.1->matplotlib) (4.1.1)\n",
            "Requirement already satisfied: six>=1.5 in /usr/local/lib/python3.7/dist-packages (from python-dateutil>=2.7->matplotlib) (1.15.0)\n"
          ]
        }
      ],
      "source": [
        "!pip install matplotlib==3.1.1\n",
        "!pip install BaselineWanderRemoval\n",
        "!pip install wfdb\n",
        "!pip install tqdm\n",
        "!pip install py-ecg-detectors\n",
        "!pip install matplotlib"
      ]
    },
    {
      "cell_type": "markdown",
      "metadata": {
        "id": "nvBDC2ytLQpt"
      },
      "source": [
        "###**1.2 Mount Google Drive**"
      ]
    },
    {
      "cell_type": "code",
      "execution_count": 2,
      "metadata": {
        "colab": {
          "base_uri": "https://localhost:8080/"
        },
        "id": "-1biW5BwWj3_",
        "outputId": "5ef5b3e8-60e3-4610-baf0-07018dbcdf73"
      },
      "outputs": [
        {
          "output_type": "stream",
          "name": "stdout",
          "text": [
            "Mounted at /content/drive\n"
          ]
        }
      ],
      "source": [
        "from google.colab import drive\n",
        "drive.mount('/content/drive')"
      ]
    },
    {
      "cell_type": "markdown",
      "metadata": {
        "id": "hITCUFHFLfFv"
      },
      "source": [
        "###**1.3 Import of necessary packages**"
      ]
    },
    {
      "cell_type": "code",
      "source": [
        "import pickle\n",
        "import pandas as pd\n",
        "from sklearn.decomposition import PCA, FastICA"
      ],
      "metadata": {
        "id": "9xAZA34m_h89"
      },
      "execution_count": 1,
      "outputs": []
    },
    {
      "cell_type": "code",
      "execution_count": 24,
      "metadata": {
        "id": "BNWMkmYLUhlw"
      },
      "outputs": [],
      "source": [
        "import pickle\n",
        "import time\n",
        "import warnings\n",
        "warnings.filterwarnings(\"ignore\")\n",
        "\n",
        "from sklearn.metrics import classification_report, precision_recall_fscore_support\n",
        "from sklearn.svm import SVC\n",
        "from sklearn.pipeline import make_pipeline\n",
        "from sklearn.preprocessing import StandardScaler\n",
        "from sklearn.model_selection import train_test_split\n",
        "from sklearn import preprocessing\n",
        "from sklearn.decomposition import FastICA, PCA\n",
        "\n",
        "import pywt\n",
        "import pandas as pd\n",
        "import numpy as np\n",
        "import matplotlib.pyplot as plt\n",
        "from os import listdir\n",
        "import BaselineWanderRemoval as BWR\n",
        "import wfdb\n",
        "\n",
        "from scipy import signal\n",
        "from scipy.signal import find_peaks"
      ]
    },
    {
      "cell_type": "code",
      "execution_count": 3,
      "metadata": {
        "id": "Ece1vs5SUhlz"
      },
      "outputs": [],
      "source": [
        "# data must be downloaded and path provided\n",
        "data_path = '/content/drive/MyDrive/datasets/mit-bih-arrhythmia-database-1.0.0/'"
      ]
    },
    {
      "cell_type": "code",
      "execution_count": 4,
      "metadata": {
        "colab": {
          "base_uri": "https://localhost:8080/"
        },
        "id": "2tXkmjFxTp1J",
        "outputId": "049a254c-3e05-4ed9-d1e4-338ac6a3b060"
      },
      "outputs": [
        {
          "output_type": "stream",
          "name": "stdout",
          "text": [
            "/content/drive/MyDrive/datasets/mit-bih-arrhythmia-database-1.0.0\n"
          ]
        }
      ],
      "source": [
        "%cd /content/drive/MyDrive/datasets/mit-bih-arrhythmia-database-1.0.0"
      ]
    },
    {
      "cell_type": "markdown",
      "metadata": {
        "id": "plGllOi2Uhl1"
      },
      "source": [
        "Let's load all the annotations and see the distribution of heart beat types across all files. "
      ]
    },
    {
      "cell_type": "code",
      "execution_count": 7,
      "metadata": {
        "id": "cxvGY0oNUhl0"
      },
      "outputs": [],
      "source": [
        "# list of patients\n",
        "id_list = ['100','101','102','103','104','105','106','107',\n",
        "       '108','109','111','112','113','114','115','116',\n",
        "       '117','118','119','121','122','123','124','200',\n",
        "       '201','202','203','205','207','208','209','210',\n",
        "       '212','213','214','215','217','219','220','221',\n",
        "       '222','223','228','230','231','232','233','234']"
      ]
    },
    {
      "cell_type": "code",
      "execution_count": 8,
      "metadata": {
        "id": "JqXLCBESUhl2"
      },
      "outputs": [],
      "source": [
        "df = pd.DataFrame()\n",
        "\n",
        "for pt in id_list:\n",
        "    file = data_path + pt\n",
        "    annotation = wfdb.rdann(file, 'atr')\n",
        "    sym = annotation.symbol\n",
        "    \n",
        "    values, counts = np.unique(sym, return_counts=True)\n",
        "    df_sub = pd.DataFrame({'sym':values, 'val':counts, 'pt':[pt]*len(counts)})\n",
        "    df = pd.concat([df, df_sub],axis = 0)"
      ]
    },
    {
      "cell_type": "code",
      "execution_count": 9,
      "metadata": {
        "id": "57fVCvlZUhl3"
      },
      "outputs": [],
      "source": [
        "# list of nonbeat and abnormal\n",
        "nonbeat = ['[','!',']','x','(',')','p','t','u','`',\n",
        "           '\\'','^','|','~','+','s','T','*','D','=','\"','@','Q','?']\n",
        "abnormal = ['L','R','V','/','A','f','F','j','a','E','J','e','S']"
      ]
    },
    {
      "cell_type": "code",
      "execution_count": 10,
      "metadata": {
        "id": "cbiyIQYVUhl3"
      },
      "outputs": [],
      "source": [
        "# break into normal, abnormal or nonbeat\n",
        "df['cat'] = -1\n",
        "df.loc[df.sym == 'N','cat'] = 0\n",
        "df.loc[df.sym.isin(abnormal), 'cat'] = 1"
      ]
    },
    {
      "cell_type": "code",
      "execution_count": 11,
      "metadata": {
        "id": "IX1HwnbQxTXo"
      },
      "outputs": [],
      "source": [
        "# break into normal, abnormal or nonbeat\n",
        "df['cat'] = df[\"sym\"]\n",
        "df.loc[df.sym.isin(nonbeat), 'cat'] = \"X\""
      ]
    },
    {
      "cell_type": "code",
      "execution_count": 12,
      "metadata": {
        "colab": {
          "base_uri": "https://localhost:8080/",
          "height": 424
        },
        "id": "cZMv3OlXw8gp",
        "outputId": "78e870ec-2a2a-44c3-c3b5-4db1de1b2dfd"
      },
      "outputs": [
        {
          "output_type": "execute_result",
          "data": {
            "text/plain": [
              "   sym   val   pt cat\n",
              "0    +     1  100   X\n",
              "1    A    33  100   A\n",
              "2    N  2239  100   N\n",
              "3    V     1  100   V\n",
              "0    +     1  101   X\n",
              "..  ..   ...  ...  ..\n",
              "0    +     3  234   X\n",
              "1    J    50  234   J\n",
              "2    N  2700  234   N\n",
              "3    V     3  234   V\n",
              "4    ~     8  234   X\n",
              "\n",
              "[283 rows x 4 columns]"
            ],
            "text/html": [
              "\n",
              "  <div id=\"df-38fa7189-e933-4af2-b8f8-39e5314b2d0b\">\n",
              "    <div class=\"colab-df-container\">\n",
              "      <div>\n",
              "<style scoped>\n",
              "    .dataframe tbody tr th:only-of-type {\n",
              "        vertical-align: middle;\n",
              "    }\n",
              "\n",
              "    .dataframe tbody tr th {\n",
              "        vertical-align: top;\n",
              "    }\n",
              "\n",
              "    .dataframe thead th {\n",
              "        text-align: right;\n",
              "    }\n",
              "</style>\n",
              "<table border=\"1\" class=\"dataframe\">\n",
              "  <thead>\n",
              "    <tr style=\"text-align: right;\">\n",
              "      <th></th>\n",
              "      <th>sym</th>\n",
              "      <th>val</th>\n",
              "      <th>pt</th>\n",
              "      <th>cat</th>\n",
              "    </tr>\n",
              "  </thead>\n",
              "  <tbody>\n",
              "    <tr>\n",
              "      <th>0</th>\n",
              "      <td>+</td>\n",
              "      <td>1</td>\n",
              "      <td>100</td>\n",
              "      <td>X</td>\n",
              "    </tr>\n",
              "    <tr>\n",
              "      <th>1</th>\n",
              "      <td>A</td>\n",
              "      <td>33</td>\n",
              "      <td>100</td>\n",
              "      <td>A</td>\n",
              "    </tr>\n",
              "    <tr>\n",
              "      <th>2</th>\n",
              "      <td>N</td>\n",
              "      <td>2239</td>\n",
              "      <td>100</td>\n",
              "      <td>N</td>\n",
              "    </tr>\n",
              "    <tr>\n",
              "      <th>3</th>\n",
              "      <td>V</td>\n",
              "      <td>1</td>\n",
              "      <td>100</td>\n",
              "      <td>V</td>\n",
              "    </tr>\n",
              "    <tr>\n",
              "      <th>0</th>\n",
              "      <td>+</td>\n",
              "      <td>1</td>\n",
              "      <td>101</td>\n",
              "      <td>X</td>\n",
              "    </tr>\n",
              "    <tr>\n",
              "      <th>...</th>\n",
              "      <td>...</td>\n",
              "      <td>...</td>\n",
              "      <td>...</td>\n",
              "      <td>...</td>\n",
              "    </tr>\n",
              "    <tr>\n",
              "      <th>0</th>\n",
              "      <td>+</td>\n",
              "      <td>3</td>\n",
              "      <td>234</td>\n",
              "      <td>X</td>\n",
              "    </tr>\n",
              "    <tr>\n",
              "      <th>1</th>\n",
              "      <td>J</td>\n",
              "      <td>50</td>\n",
              "      <td>234</td>\n",
              "      <td>J</td>\n",
              "    </tr>\n",
              "    <tr>\n",
              "      <th>2</th>\n",
              "      <td>N</td>\n",
              "      <td>2700</td>\n",
              "      <td>234</td>\n",
              "      <td>N</td>\n",
              "    </tr>\n",
              "    <tr>\n",
              "      <th>3</th>\n",
              "      <td>V</td>\n",
              "      <td>3</td>\n",
              "      <td>234</td>\n",
              "      <td>V</td>\n",
              "    </tr>\n",
              "    <tr>\n",
              "      <th>4</th>\n",
              "      <td>~</td>\n",
              "      <td>8</td>\n",
              "      <td>234</td>\n",
              "      <td>X</td>\n",
              "    </tr>\n",
              "  </tbody>\n",
              "</table>\n",
              "<p>283 rows × 4 columns</p>\n",
              "</div>\n",
              "      <button class=\"colab-df-convert\" onclick=\"convertToInteractive('df-38fa7189-e933-4af2-b8f8-39e5314b2d0b')\"\n",
              "              title=\"Convert this dataframe to an interactive table.\"\n",
              "              style=\"display:none;\">\n",
              "        \n",
              "  <svg xmlns=\"http://www.w3.org/2000/svg\" height=\"24px\"viewBox=\"0 0 24 24\"\n",
              "       width=\"24px\">\n",
              "    <path d=\"M0 0h24v24H0V0z\" fill=\"none\"/>\n",
              "    <path d=\"M18.56 5.44l.94 2.06.94-2.06 2.06-.94-2.06-.94-.94-2.06-.94 2.06-2.06.94zm-11 1L8.5 8.5l.94-2.06 2.06-.94-2.06-.94L8.5 2.5l-.94 2.06-2.06.94zm10 10l.94 2.06.94-2.06 2.06-.94-2.06-.94-.94-2.06-.94 2.06-2.06.94z\"/><path d=\"M17.41 7.96l-1.37-1.37c-.4-.4-.92-.59-1.43-.59-.52 0-1.04.2-1.43.59L10.3 9.45l-7.72 7.72c-.78.78-.78 2.05 0 2.83L4 21.41c.39.39.9.59 1.41.59.51 0 1.02-.2 1.41-.59l7.78-7.78 2.81-2.81c.8-.78.8-2.07 0-2.86zM5.41 20L4 18.59l7.72-7.72 1.47 1.35L5.41 20z\"/>\n",
              "  </svg>\n",
              "      </button>\n",
              "      \n",
              "  <style>\n",
              "    .colab-df-container {\n",
              "      display:flex;\n",
              "      flex-wrap:wrap;\n",
              "      gap: 12px;\n",
              "    }\n",
              "\n",
              "    .colab-df-convert {\n",
              "      background-color: #E8F0FE;\n",
              "      border: none;\n",
              "      border-radius: 50%;\n",
              "      cursor: pointer;\n",
              "      display: none;\n",
              "      fill: #1967D2;\n",
              "      height: 32px;\n",
              "      padding: 0 0 0 0;\n",
              "      width: 32px;\n",
              "    }\n",
              "\n",
              "    .colab-df-convert:hover {\n",
              "      background-color: #E2EBFA;\n",
              "      box-shadow: 0px 1px 2px rgba(60, 64, 67, 0.3), 0px 1px 3px 1px rgba(60, 64, 67, 0.15);\n",
              "      fill: #174EA6;\n",
              "    }\n",
              "\n",
              "    [theme=dark] .colab-df-convert {\n",
              "      background-color: #3B4455;\n",
              "      fill: #D2E3FC;\n",
              "    }\n",
              "\n",
              "    [theme=dark] .colab-df-convert:hover {\n",
              "      background-color: #434B5C;\n",
              "      box-shadow: 0px 1px 3px 1px rgba(0, 0, 0, 0.15);\n",
              "      filter: drop-shadow(0px 1px 2px rgba(0, 0, 0, 0.3));\n",
              "      fill: #FFFFFF;\n",
              "    }\n",
              "  </style>\n",
              "\n",
              "      <script>\n",
              "        const buttonEl =\n",
              "          document.querySelector('#df-38fa7189-e933-4af2-b8f8-39e5314b2d0b button.colab-df-convert');\n",
              "        buttonEl.style.display =\n",
              "          google.colab.kernel.accessAllowed ? 'block' : 'none';\n",
              "\n",
              "        async function convertToInteractive(key) {\n",
              "          const element = document.querySelector('#df-38fa7189-e933-4af2-b8f8-39e5314b2d0b');\n",
              "          const dataTable =\n",
              "            await google.colab.kernel.invokeFunction('convertToInteractive',\n",
              "                                                     [key], {});\n",
              "          if (!dataTable) return;\n",
              "\n",
              "          const docLinkHtml = 'Like what you see? Visit the ' +\n",
              "            '<a target=\"_blank\" href=https://colab.research.google.com/notebooks/data_table.ipynb>data table notebook</a>'\n",
              "            + ' to learn more about interactive tables.';\n",
              "          element.innerHTML = '';\n",
              "          dataTable['output_type'] = 'display_data';\n",
              "          await google.colab.output.renderOutput(dataTable, element);\n",
              "          const docLink = document.createElement('div');\n",
              "          docLink.innerHTML = docLinkHtml;\n",
              "          element.appendChild(docLink);\n",
              "        }\n",
              "      </script>\n",
              "    </div>\n",
              "  </div>\n",
              "  "
            ]
          },
          "metadata": {},
          "execution_count": 12
        }
      ],
      "source": [
        "df"
      ]
    },
    {
      "cell_type": "code",
      "execution_count": 13,
      "metadata": {
        "id": "FHEndrvtUhl4"
      },
      "outputs": [],
      "source": [
        "def load_ecg(file):\n",
        "    # load the ecg\n",
        "    # example file: 'mit-bih-arrhythmia-database-1.0.0/101'\n",
        "    \n",
        "    # load the ecg\n",
        "    record = wfdb.rdrecord(file)\n",
        "    # load the annotation\n",
        "    annotation = wfdb.rdann(file, 'atr')\n",
        "    \n",
        "    # extract the signal\n",
        "    p_signal = record.p_signal\n",
        "    \n",
        "    # verify frequency is 360\n",
        "    assert record.fs == 360, 'sample freq is not 360'\n",
        "    \n",
        "    # extract symbols and annotation index\n",
        "    atr_sym = annotation.symbol\n",
        "    atr_sample = annotation.sample\n",
        "    \n",
        "    return p_signal, atr_sym, atr_sample "
      ]
    },
    {
      "cell_type": "markdown",
      "metadata": {
        "id": "FCGGe1JWUhl5"
      },
      "source": [
        "Let's check out what abnormal beats are in a patient's ecg:"
      ]
    },
    {
      "cell_type": "code",
      "execution_count": 14,
      "metadata": {
        "id": "NMhtUZbYUhl5"
      },
      "outputs": [],
      "source": [
        "file = data_path + id_list[3]"
      ]
    },
    {
      "cell_type": "code",
      "execution_count": 15,
      "metadata": {
        "id": "xt_qJlDCUhl5"
      },
      "outputs": [],
      "source": [
        "p_signal, atr_sym, atr_sample = load_ecg(file)"
      ]
    },
    {
      "cell_type": "code",
      "source": [
        "# In the array of p_signal, the ECG signal of interest is the first values in each array\n",
        "x = p_signal[:,0]"
      ],
      "metadata": {
        "id": "kzzoHEOrlTJL"
      },
      "execution_count": 16,
      "outputs": []
    },
    {
      "cell_type": "code",
      "execution_count": 17,
      "metadata": {
        "colab": {
          "base_uri": "https://localhost:8080/",
          "height": 286
        },
        "id": "RaE1Q1vDIrxG",
        "outputId": "85b527b3-051c-45d6-e601-60cf9b723a60"
      },
      "outputs": [
        {
          "output_type": "execute_result",
          "data": {
            "text/plain": [
              "[<matplotlib.lines.Line2D at 0x7fe138d1c890>]"
            ]
          },
          "metadata": {},
          "execution_count": 17
        },
        {
          "output_type": "display_data",
          "data": {
            "text/plain": [
              "<Figure size 432x288 with 1 Axes>"
            ],
            "image/png": "[encoded data removed]"
          },
          "metadata": {
            "needs_background": "light"
          }
        }
      ],
      "source": [
        "plt.plot(x[0:2000])"
      ]
    },
    {
      "cell_type": "code",
      "execution_count": 18,
      "metadata": {
        "colab": {
          "base_uri": "https://localhost:8080/",
          "height": 282
        },
        "id": "KVEnXuMuIbQi",
        "outputId": "d524b4e7-bbff-4504-b0f6-d29628017c2e"
      },
      "outputs": [
        {
          "output_type": "execute_result",
          "data": {
            "text/plain": [
              "[<matplotlib.lines.Line2D at 0x7fe135990490>]"
            ]
          },
          "metadata": {},
          "execution_count": 18
        },
        {
          "output_type": "display_data",
          "data": {
            "text/plain": [
              "<Figure size 432x288 with 1 Axes>"
            ],
            "image/png": "[encoded data removed]"
          },
          "metadata": {
            "needs_background": "light"
          }
        }
      ],
      "source": [
        "plt.plot(atr_sample[0:2000], x[atr_sample][0:2000], \"x\")"
      ]
    },
    {
      "cell_type": "code",
      "execution_count": 36,
      "metadata": {
        "colab": {
          "base_uri": "https://localhost:8080/",
          "height": 609
        },
        "id": "VSYmXQboULM9",
        "outputId": "af13327c-964c-4aee-fe01-3d575b29c3b0"
      },
      "outputs": [
        {
          "output_type": "execute_result",
          "data": {
            "text/plain": [
              "[<matplotlib.lines.Line2D at 0x7fe133b80790>]"
            ]
          },
          "metadata": {},
          "execution_count": 36
        },
        {
          "output_type": "display_data",
          "data": {
            "text/plain": [
              "<Figure size 1440x720 with 1 Axes>"
            ],
            "image/png": "[encoded data removed]"
          },
          "metadata": {
            "needs_background": "light"
          }
        }
      ],
      "source": [
        "plt.figure(figsize=(20, 10))\n",
        "plt.plot([i for i in range(0, 2000)], x[0:2000])\n",
        "plt.plot(atr_sample[0:2091], x[atr_sample], \"x\")\n",
        "plt.plot([i for i in range(0, 2000)], [0 for i in range(0, 2000)], \"r--\")"
      ]
    },
    {
      "cell_type": "code",
      "execution_count": 26,
      "metadata": {
        "colab": {
          "base_uri": "https://localhost:8080/",
          "height": 265
        },
        "id": "Z5Keb95_HIxS",
        "outputId": "45213afe-a938-4238-8626-836e4e73ae6d"
      },
      "outputs": [
        {
          "output_type": "display_data",
          "data": {
            "text/plain": [
              "<Figure size 432x288 with 1 Axes>"
            ],
            "image/png": "[encoded data removed]"
          },
          "metadata": {
            "needs_background": "light"
          }
        }
      ],
      "source": [
        "peaks, _ = find_peaks(x, distance=150)\n",
        "plt.plot(x)\n",
        "plt.plot(peaks, x[peaks], \"x\")\n",
        "plt.show()"
      ]
    },
    {
      "cell_type": "code",
      "execution_count": 55,
      "metadata": {
        "colab": {
          "base_uri": "https://localhost:8080/",
          "height": 265
        },
        "id": "829Uf_d8HTeS",
        "outputId": "1de494e9-8d0e-4fa6-e720-1a70017814bb"
      },
      "outputs": [
        {
          "output_type": "display_data",
          "data": {
            "text/plain": [
              "<Figure size 432x288 with 1 Axes>"
            ],
            "image/png": "[encoded data removed]"
          },
          "metadata": {
            "needs_background": "light"
          }
        }
      ],
      "source": [
        "from scipy.misc import electrocardiogram\n",
        "x = electrocardiogram()[17000:18000]\n",
        "peaks, properties = find_peaks(x, prominence=1, width=5)\n",
        "plt.plot(x)\n",
        "plt.plot(peaks, x[peaks], \"x\")\n",
        "plt.vlines(x=peaks, ymin=x[peaks] - properties[\"prominences\"],\n",
        "           ymax = x[peaks], color = \"C1\")\n",
        "plt.hlines(y=properties[\"width_heights\"], xmin=properties[\"left_ips\"],\n",
        "           xmax=properties[\"right_ips\"], color = \"C1\")\n",
        "plt.show()"
      ]
    },
    {
      "cell_type": "code",
      "execution_count": 56,
      "metadata": {
        "id": "t1NE2K_5KEh4"
      },
      "outputs": [],
      "source": [
        "ecg = p_signal[:, 0][0:2166]"
      ]
    },
    {
      "cell_type": "code",
      "execution_count": 64,
      "metadata": {
        "id": "pW1vKo6Obcoi",
        "colab": {
          "base_uri": "https://localhost:8080/",
          "height": 595
        },
        "outputId": "423a2271-79db-43ef-af9a-76f0d991db16"
      },
      "outputs": [
        {
          "output_type": "display_data",
          "data": {
            "text/plain": [
              "<Figure size 1440x720 with 1 Axes>"
            ],
            "image/png": "[encoded data removed]"
          },
          "metadata": {
            "needs_background": "light"
          }
        }
      ],
      "source": [
        "plt.figure(figsize=(20, 10))\n",
        "plt.plot(ecg)\n",
        "peaks, properties = find_peaks(ecg, prominence=1, width=1)\n",
        "plt.plot(peaks[:2166], ecg[peaks], \"x\")\n",
        "plt.vlines(x=peaks, ymin=ecg[peaks] - properties[\"prominences\"],\n",
        "           ymax = ecg[peaks], color = \"C1\")\n",
        "plt.hlines(y=properties[\"width_heights\"], xmin=properties[\"left_ips\"],\n",
        "           xmax=properties[\"right_ips\"], color = \"C1\")\n",
        "plt.show()"
      ]
    },
    {
      "cell_type": "code",
      "execution_count": 65,
      "metadata": {
        "colab": {
          "base_uri": "https://localhost:8080/",
          "height": 269
        },
        "id": "lt8ppywwNOTJ",
        "outputId": "25adbc1d-b2ed-4e73-cb57-5defb224db3c"
      },
      "outputs": [
        {
          "output_type": "display_data",
          "data": {
            "text/plain": [
              "<Figure size 432x288 with 1 Axes>"
            ],
            "image/png": "[encoded data removed]"
          },
          "metadata": {
            "needs_background": "light"
          }
        }
      ],
      "source": [
        "peaks, properties = find_peaks(ecg, width=10)\n",
        "plt.plot(ecg)\n",
        "plt.plot(peaks, ecg[peaks], \"x\")\n",
        "plt.vlines(x=peaks, ymin=ecg[peaks] - properties[\"prominences\"],\n",
        "           ymax = ecg[peaks], color = \"C1\")\n",
        "plt.hlines(y=properties[\"width_heights\"], xmin=properties[\"left_ips\"],\n",
        "           xmax=properties[\"right_ips\"], color = \"C1\")\n",
        "plt.show()"
      ]
    },
    {
      "cell_type": "code",
      "execution_count": 33,
      "metadata": {
        "id": "Klj6cQMuN97v",
        "colab": {
          "base_uri": "https://localhost:8080/"
        },
        "outputId": "f32c3ca6-e435-4b01-a358-83e0bc55ffdf"
      },
      "outputs": [
        {
          "output_type": "execute_result",
          "data": {
            "text/plain": [
              "(array([  62,  132,  139,  205,  361,  428,  432,  439,  516,  666,  968,\n",
              "        1049, 1122, 1273, 1337, 1345, 1349, 1424, 1578, 1643, 1651, 1656,\n",
              "        1732, 1902, 1979]),\n",
              " {'prominences': array([0.57 , 0.07 , 0.07 , 0.12 , 0.64 , 0.06 , 0.06 , 0.06 , 0.15 ,\n",
              "         0.625, 0.635, 0.075, 0.145, 0.695, 0.075, 0.075, 0.075, 0.14 ,\n",
              "         0.66 , 0.08 , 0.08 , 0.08 , 0.135, 0.645, 0.065]),\n",
              "  'left_bases': array([  10,  107,  107,  184,  274,  406,  406,  406,  491,  583,  884,\n",
              "         1011, 1101, 1188, 1311, 1311, 1311, 1401, 1490, 1612, 1612, 1612,\n",
              "         1707, 1804, 1936]),\n",
              "  'right_bases': array([ 254,  178,  178,  254,  565,  478,  478,  478,  565,  865, 1170,\n",
              "         1089, 1170, 1472, 1389, 1389, 1389, 1472, 1783, 1707, 1707, 1707,\n",
              "         1783, 2116, 2031]),\n",
              "  'widths': array([37.5       , 23.66666667, 23.66666667, 20.5       , 39.51428571,\n",
              "         23.66666667, 23.66666667, 23.66666667, 27.75      , 37.875     ,\n",
              "         41.80357143, 35.        , 20.125     , 41.6       , 29.        ,\n",
              "         29.        , 29.        , 20.        , 41.2       , 30.        ,\n",
              "         30.        , 30.        , 22.53333333, 44.375     , 29.375     ]),\n",
              "  'width_heights': array([-0.1   , -0.25  , -0.25  , -0.265 , -0.205 , -0.325 , -0.325 ,\n",
              "         -0.325 , -0.325 , -0.2375, -0.2575, -0.3125, -0.3075, -0.2125,\n",
              "         -0.3075, -0.3075, -0.3075, -0.31  , -0.2   , -0.31  , -0.31  ,\n",
              "         -0.31  , -0.3075, -0.1875, -0.2975]),\n",
              "  'left_ips': array([  41.66666667,  118.33333333,  118.33333333,  191.        ,\n",
              "          341.2       ,  418.33333333,  418.33333333,  418.33333333,\n",
              "          501.5       ,  644.5       ,  946.125     , 1022.5       ,\n",
              "         1108.75      , 1250.5       , 1329.25      , 1329.25      ,\n",
              "         1329.25      , 1411.        , 1554.        , 1635.        ,\n",
              "         1635.        , 1635.        , 1715.3       , 1874.875     ,\n",
              "         1959.375     ]),\n",
              "  'right_ips': array([  79.16666667,  142.        ,  142.        ,  211.5       ,\n",
              "          380.71428571,  442.        ,  442.        ,  442.        ,\n",
              "          529.25      ,  682.375     ,  987.92857143, 1057.5       ,\n",
              "         1128.875     , 1292.1       , 1358.25      , 1358.25      ,\n",
              "         1358.25      , 1431.        , 1595.2       , 1665.        ,\n",
              "         1665.        , 1665.        , 1737.83333333, 1919.25      ,\n",
              "         1988.75      ])})"
            ]
          },
          "metadata": {},
          "execution_count": 33
        }
      ],
      "source": [
        "find_peaks(ecg, width=20)"
      ]
    },
    {
      "cell_type": "code",
      "execution_count": 34,
      "metadata": {
        "id": "jBmKVsbYHOjp",
        "colab": {
          "base_uri": "https://localhost:8080/",
          "height": 265
        },
        "outputId": "e7ee1b59-fc60-44b4-a6db-f040f168cd4e"
      },
      "outputs": [
        {
          "output_type": "display_data",
          "data": {
            "text/plain": [
              "<Figure size 432x288 with 1 Axes>"
            ],
            "image/png": "[encoded data removed]"
          },
          "metadata": {
            "needs_background": "light"
          }
        }
      ],
      "source": [
        "peaks, _ = find_peaks(x, height=0)\n",
        "plt.plot(x)\n",
        "plt.plot(peaks, x[peaks], \"x\")\n",
        "plt.plot(np.zeros_like(x), \"--\", color=\"gray\")\n",
        "plt.show()"
      ]
    },
    {
      "cell_type": "code",
      "execution_count": 35,
      "metadata": {
        "id": "GffVBxbKXZTe",
        "colab": {
          "base_uri": "https://localhost:8080/",
          "height": 217
        },
        "outputId": "7fa30892-230c-41c2-dd21-804cafd2edf5"
      },
      "outputs": [
        {
          "output_type": "error",
          "ename": "NameError",
          "evalue": "ignored",
          "traceback": [
            "\u001b[0;31m---------------------------------------------------------------------------\u001b[0m",
            "\u001b[0;31mNameError\u001b[0m                                 Traceback (most recent call last)",
            "\u001b[0;32m<ipython-input-35-8266616fa6bb>\u001b[0m in \u001b[0;36m<module>\u001b[0;34m\u001b[0m\n\u001b[1;32m      1\u001b[0m \u001b[0mplt\u001b[0m\u001b[0;34m.\u001b[0m\u001b[0mfigure\u001b[0m\u001b[0;34m(\u001b[0m\u001b[0mfigsize\u001b[0m\u001b[0;34m=\u001b[0m\u001b[0;34m(\u001b[0m\u001b[0;36m20\u001b[0m\u001b[0;34m,\u001b[0m \u001b[0;36m10\u001b[0m\u001b[0;34m)\u001b[0m\u001b[0;34m)\u001b[0m\u001b[0;34m\u001b[0m\u001b[0;34m\u001b[0m\u001b[0m\n\u001b[0;32m----> 2\u001b[0;31m \u001b[0mplt\u001b[0m\u001b[0;34m.\u001b[0m\u001b[0mplot\u001b[0m\u001b[0;34m(\u001b[0m\u001b[0;34m[\u001b[0m\u001b[0mi\u001b[0m \u001b[0;32mfor\u001b[0m \u001b[0mi\u001b[0m \u001b[0;32min\u001b[0m \u001b[0mrange\u001b[0m\u001b[0;34m(\u001b[0m\u001b[0;36m0\u001b[0m\u001b[0;34m,\u001b[0m \u001b[0;36m2000\u001b[0m\u001b[0;34m)\u001b[0m\u001b[0;34m]\u001b[0m\u001b[0;34m,\u001b[0m \u001b[0mBWR\u001b[0m\u001b[0;34m.\u001b[0m\u001b[0mfix_baseline_wander\u001b[0m\u001b[0;34m(\u001b[0m\u001b[0mdata\u001b[0m\u001b[0;34m,\u001b[0m \u001b[0msr\u001b[0m\u001b[0;34m=\u001b[0m\u001b[0;36m200\u001b[0m\u001b[0;34m)\u001b[0m\u001b[0;34m[\u001b[0m\u001b[0;36m0\u001b[0m\u001b[0;34m:\u001b[0m\u001b[0;36m2000\u001b[0m\u001b[0;34m]\u001b[0m\u001b[0;34m)\u001b[0m\u001b[0;34m\u001b[0m\u001b[0;34m\u001b[0m\u001b[0m\n\u001b[0m\u001b[1;32m      3\u001b[0m \u001b[0mplt\u001b[0m\u001b[0;34m.\u001b[0m\u001b[0mplot\u001b[0m\u001b[0;34m(\u001b[0m\u001b[0;34m[\u001b[0m\u001b[0mi\u001b[0m \u001b[0;32mfor\u001b[0m \u001b[0mi\u001b[0m \u001b[0;32min\u001b[0m \u001b[0mrange\u001b[0m\u001b[0;34m(\u001b[0m\u001b[0;36m0\u001b[0m\u001b[0;34m,\u001b[0m \u001b[0;36m2000\u001b[0m\u001b[0;34m)\u001b[0m\u001b[0;34m]\u001b[0m\u001b[0;34m,\u001b[0m \u001b[0;34m[\u001b[0m\u001b[0;36m0\u001b[0m \u001b[0;32mfor\u001b[0m \u001b[0mi\u001b[0m \u001b[0;32min\u001b[0m \u001b[0mrange\u001b[0m\u001b[0;34m(\u001b[0m\u001b[0;36m0\u001b[0m\u001b[0;34m,\u001b[0m \u001b[0;36m2000\u001b[0m\u001b[0;34m)\u001b[0m\u001b[0;34m]\u001b[0m\u001b[0;34m,\u001b[0m \u001b[0;34m\"r--\"\u001b[0m\u001b[0;34m)\u001b[0m\u001b[0;34m\u001b[0m\u001b[0;34m\u001b[0m\u001b[0m\n",
            "\u001b[0;31mNameError\u001b[0m: name 'data' is not defined"
          ]
        },
        {
          "output_type": "display_data",
          "data": {
            "text/plain": [
              "<Figure size 1440x720 with 0 Axes>"
            ]
          },
          "metadata": {}
        }
      ],
      "source": [
        "\n",
        "\n",
        "plt.figure(figsize=(20, 10))\n",
        "plt.plot([i for i in range(0, 2000)], BWR.fix_baseline_wander(data, sr=200)[0:2000])\n",
        "plt.plot([i for i in range(0, 2000)], [0 for i in range(0, 2000)], \"r--\")"
      ]
    },
    {
      "cell_type": "code",
      "execution_count": null,
      "metadata": {
        "id": "dSETwJT4aD1o"
      },
      "outputs": [],
      "source": [
        "\n",
        "\n",
        "sos = signal.butter(1, 40, 'hp', fs=360, output='sos')"
      ]
    },
    {
      "cell_type": "code",
      "execution_count": null,
      "metadata": {
        "id": "6mm5uDOWXjxl",
        "colab": {
          "base_uri": "https://localhost:8080/",
          "height": 165
        },
        "outputId": "614ce67f-30a6-4206-e3c4-bba2a5f6bdf8"
      },
      "outputs": [
        {
          "output_type": "error",
          "ename": "NameError",
          "evalue": "ignored",
          "traceback": [
            "\u001b[0;31m---------------------------------------------------------------------------\u001b[0m",
            "\u001b[0;31mNameError\u001b[0m                                 Traceback (most recent call last)",
            "\u001b[0;32m<ipython-input-46-ab726a7249b6>\u001b[0m in \u001b[0;36m<module>\u001b[0;34m\u001b[0m\n\u001b[0;32m----> 1\u001b[0;31m \u001b[0mbwr_data\u001b[0m \u001b[0;34m=\u001b[0m \u001b[0mBWR\u001b[0m\u001b[0;34m.\u001b[0m\u001b[0mfix_baseline_wander\u001b[0m\u001b[0;34m(\u001b[0m\u001b[0mdata\u001b[0m\u001b[0;34m,\u001b[0m \u001b[0msr\u001b[0m\u001b[0;34m=\u001b[0m\u001b[0;36m300\u001b[0m\u001b[0;34m)\u001b[0m\u001b[0;34m\u001b[0m\u001b[0;34m\u001b[0m\u001b[0m\n\u001b[0m",
            "\u001b[0;31mNameError\u001b[0m: name 'data' is not defined"
          ]
        }
      ],
      "source": [
        "bwr_data = BWR.fix_baseline_wander(data, sr=300)"
      ]
    },
    {
      "cell_type": "code",
      "execution_count": null,
      "metadata": {
        "id": "9n0CKa6Wasq8"
      },
      "outputs": [],
      "source": [
        "filtered_data = signal.sosfilt(sos, bwr_data)"
      ]
    },
    {
      "cell_type": "code",
      "execution_count": null,
      "metadata": {
        "id": "ODG_EF8fXn-j"
      },
      "outputs": [],
      "source": [
        "\n",
        "sos = signal.butter(1, 40, 'hp', fs=360, output='sos')\n",
        "filtered_data = signal.sosfilt(sos, bwr_data)\n",
        "\n",
        "plt.figure(figsize=(20, 10))\n",
        "plt.plot([i for i in range(0, 2000)], filtered_data[0:2000])\n",
        "plt.plot([i for i in range(0, 2000)], [0 for i in range(0, 2000)], \"r--\")"
      ]
    },
    {
      "cell_type": "code",
      "execution_count": null,
      "metadata": {
        "id": "0foYf4NSXzED"
      },
      "outputs": [],
      "source": [
        "\n",
        "\n",
        "wavelet_type='db8'\n",
        "DWTcoeffs = pywt.wavedec(filtered_data[:301],wavelet_type, level=4, axis=-1)\n",
        "\n",
        "A4, D4, D3, D2, D1 = DWTcoeffs\n",
        "features = np.concatenate((A4, D4, D3))"
      ]
    },
    {
      "cell_type": "code",
      "execution_count": null,
      "metadata": {
        "colab": {
          "base_uri": "https://localhost:8080/"
        },
        "id": "Zwa82RNWb7Ct",
        "outputId": "01db8cef-dcaa-4963-d290-d1d876e684b8"
      },
      "outputs": [
        {
          "data": {
            "text/plain": [
              "650000"
            ]
          },
          "execution_count": 46,
          "metadata": {},
          "output_type": "execute_result"
        }
      ],
      "source": [
        "len(data)"
      ]
    },
    {
      "cell_type": "code",
      "execution_count": null,
      "metadata": {
        "colab": {
          "base_uri": "https://localhost:8080/"
        },
        "id": "8TLXT3yFW5pY",
        "outputId": "40699fc4-144f-4bcf-af5e-025cc2812ebb"
      },
      "outputs": [
        {
          "data": {
            "text/plain": [
              "(5, 32)"
            ]
          },
          "execution_count": 47,
          "metadata": {},
          "output_type": "execute_result"
        }
      ],
      "source": [
        "len(DWTcoeffs), len(DWTcoeffs[0])"
      ]
    },
    {
      "cell_type": "code",
      "execution_count": null,
      "metadata": {
        "id": "A6xpsE6HcCbN"
      },
      "outputs": [],
      "source": [
        "DWTcoeffs = pywt.wavedec(filtered_data[:301],wavelet_type, level=4, axis=-1)\n",
        "A4, D4, D3, D2, D1 = DWTcoeffs\n",
        "features = np.concatenate((A4, D4, D3))"
      ]
    },
    {
      "cell_type": "code",
      "execution_count": null,
      "metadata": {
        "colab": {
          "base_uri": "https://localhost:8080/"
        },
        "id": "3Ay1JERzcPX1",
        "outputId": "7ab4c668-409f-45aa-9519-482ec4faed98"
      },
      "outputs": [
        {
          "data": {
            "text/plain": [
              "96"
            ]
          },
          "execution_count": 49,
          "metadata": {},
          "output_type": "execute_result"
        }
      ],
      "source": [
        "len(A4)*3"
      ]
    },
    {
      "cell_type": "code",
      "execution_count": null,
      "metadata": {
        "id": "3bWjNoqweMEI"
      },
      "outputs": [],
      "source": [
        "features = np.concatenate((A4, D4, D3))"
      ]
    },
    {
      "cell_type": "code",
      "execution_count": null,
      "metadata": {
        "colab": {
          "base_uri": "https://localhost:8080/",
          "height": 174
        },
        "id": "BuQojr30zN6x",
        "outputId": "905ef0c0-ed18-4fae-9fbc-873321670c6b"
      },
      "outputs": [
        {
          "data": {
            "text/html": [
              "\n",
              "  <div id=\"df-163f72fb-ed5a-4693-ac93-82d9d1c73ae6\">\n",
              "    <div class=\"colab-df-container\">\n",
              "      <div>\n",
              "<style scoped>\n",
              "    .dataframe tbody tr th:only-of-type {\n",
              "        vertical-align: middle;\n",
              "    }\n",
              "\n",
              "    .dataframe tbody tr th {\n",
              "        vertical-align: top;\n",
              "    }\n",
              "\n",
              "    .dataframe thead th {\n",
              "        text-align: right;\n",
              "    }\n",
              "</style>\n",
              "<table border=\"1\" class=\"dataframe\">\n",
              "  <thead>\n",
              "    <tr style=\"text-align: right;\">\n",
              "      <th></th>\n",
              "      <th>0</th>\n",
              "      <th>1</th>\n",
              "      <th>2</th>\n",
              "      <th>3</th>\n",
              "      <th>4</th>\n",
              "      <th>5</th>\n",
              "      <th>6</th>\n",
              "      <th>7</th>\n",
              "      <th>8</th>\n",
              "      <th>9</th>\n",
              "      <th>...</th>\n",
              "      <th>104</th>\n",
              "      <th>105</th>\n",
              "      <th>106</th>\n",
              "      <th>107</th>\n",
              "      <th>108</th>\n",
              "      <th>109</th>\n",
              "      <th>110</th>\n",
              "      <th>111</th>\n",
              "      <th>112</th>\n",
              "      <th>113</th>\n",
              "    </tr>\n",
              "  </thead>\n",
              "  <tbody>\n",
              "    <tr>\n",
              "      <th>0</th>\n",
              "      <td>-0.105591</td>\n",
              "      <td>-0.091069</td>\n",
              "      <td>-0.039577</td>\n",
              "      <td>-0.133222</td>\n",
              "      <td>-0.06178</td>\n",
              "      <td>-0.056754</td>\n",
              "      <td>-0.141391</td>\n",
              "      <td>-0.040656</td>\n",
              "      <td>-0.078145</td>\n",
              "      <td>-0.134007</td>\n",
              "      <td>...</td>\n",
              "      <td>0.006666</td>\n",
              "      <td>0.001938</td>\n",
              "      <td>0.002613</td>\n",
              "      <td>-0.003197</td>\n",
              "      <td>0.003096</td>\n",
              "      <td>-0.005159</td>\n",
              "      <td>-0.00246</td>\n",
              "      <td>-0.007846</td>\n",
              "      <td>0.001955</td>\n",
              "      <td>0.00784</td>\n",
              "    </tr>\n",
              "  </tbody>\n",
              "</table>\n",
              "<p>1 rows × 114 columns</p>\n",
              "</div>\n",
              "      <button class=\"colab-df-convert\" onclick=\"convertToInteractive('df-163f72fb-ed5a-4693-ac93-82d9d1c73ae6')\"\n",
              "              title=\"Convert this dataframe to an interactive table.\"\n",
              "              style=\"display:none;\">\n",
              "        \n",
              "  <svg xmlns=\"http://www.w3.org/2000/svg\" height=\"24px\"viewBox=\"0 0 24 24\"\n",
              "       width=\"24px\">\n",
              "    <path d=\"M0 0h24v24H0V0z\" fill=\"none\"/>\n",
              "    <path d=\"M18.56 5.44l.94 2.06.94-2.06 2.06-.94-2.06-.94-.94-2.06-.94 2.06-2.06.94zm-11 1L8.5 8.5l.94-2.06 2.06-.94-2.06-.94L8.5 2.5l-.94 2.06-2.06.94zm10 10l.94 2.06.94-2.06 2.06-.94-2.06-.94-.94-2.06-.94 2.06-2.06.94z\"/><path d=\"M17.41 7.96l-1.37-1.37c-.4-.4-.92-.59-1.43-.59-.52 0-1.04.2-1.43.59L10.3 9.45l-7.72 7.72c-.78.78-.78 2.05 0 2.83L4 21.41c.39.39.9.59 1.41.59.51 0 1.02-.2 1.41-.59l7.78-7.78 2.81-2.81c.8-.78.8-2.07 0-2.86zM5.41 20L4 18.59l7.72-7.72 1.47 1.35L5.41 20z\"/>\n",
              "  </svg>\n",
              "      </button>\n",
              "      \n",
              "  <style>\n",
              "    .colab-df-container {\n",
              "      display:flex;\n",
              "      flex-wrap:wrap;\n",
              "      gap: 12px;\n",
              "    }\n",
              "\n",
              "    .colab-df-convert {\n",
              "      background-color: #E8F0FE;\n",
              "      border: none;\n",
              "      border-radius: 50%;\n",
              "      cursor: pointer;\n",
              "      display: none;\n",
              "      fill: #1967D2;\n",
              "      height: 32px;\n",
              "      padding: 0 0 0 0;\n",
              "      width: 32px;\n",
              "    }\n",
              "\n",
              "    .colab-df-convert:hover {\n",
              "      background-color: #E2EBFA;\n",
              "      box-shadow: 0px 1px 2px rgba(60, 64, 67, 0.3), 0px 1px 3px 1px rgba(60, 64, 67, 0.15);\n",
              "      fill: #174EA6;\n",
              "    }\n",
              "\n",
              "    [theme=dark] .colab-df-convert {\n",
              "      background-color: #3B4455;\n",
              "      fill: #D2E3FC;\n",
              "    }\n",
              "\n",
              "    [theme=dark] .colab-df-convert:hover {\n",
              "      background-color: #434B5C;\n",
              "      box-shadow: 0px 1px 3px 1px rgba(0, 0, 0, 0.15);\n",
              "      filter: drop-shadow(0px 1px 2px rgba(0, 0, 0, 0.3));\n",
              "      fill: #FFFFFF;\n",
              "    }\n",
              "  </style>\n",
              "\n",
              "      <script>\n",
              "        const buttonEl =\n",
              "          document.querySelector('#df-163f72fb-ed5a-4693-ac93-82d9d1c73ae6 button.colab-df-convert');\n",
              "        buttonEl.style.display =\n",
              "          google.colab.kernel.accessAllowed ? 'block' : 'none';\n",
              "\n",
              "        async function convertToInteractive(key) {\n",
              "          const element = document.querySelector('#df-163f72fb-ed5a-4693-ac93-82d9d1c73ae6');\n",
              "          const dataTable =\n",
              "            await google.colab.kernel.invokeFunction('convertToInteractive',\n",
              "                                                     [key], {});\n",
              "          if (!dataTable) return;\n",
              "\n",
              "          const docLinkHtml = 'Like what you see? Visit the ' +\n",
              "            '<a target=\"_blank\" href=https://colab.research.google.com/notebooks/data_table.ipynb>data table notebook</a>'\n",
              "            + ' to learn more about interactive tables.';\n",
              "          element.innerHTML = '';\n",
              "          dataTable['output_type'] = 'display_data';\n",
              "          await google.colab.output.renderOutput(dataTable, element);\n",
              "          const docLink = document.createElement('div');\n",
              "          docLink.innerHTML = docLinkHtml;\n",
              "          element.appendChild(docLink);\n",
              "        }\n",
              "      </script>\n",
              "    </div>\n",
              "  </div>\n",
              "  "
            ],
            "text/plain": [
              "        0         1         2         3        4         5         6    \\\n",
              "0 -0.105591 -0.091069 -0.039577 -0.133222 -0.06178 -0.056754 -0.141391   \n",
              "\n",
              "        7         8         9    ...       104       105       106       107  \\\n",
              "0 -0.040656 -0.078145 -0.134007  ...  0.006666  0.001938  0.002613 -0.003197   \n",
              "\n",
              "        108       109      110       111       112      113  \n",
              "0  0.003096 -0.005159 -0.00246 -0.007846  0.001955  0.00784  \n",
              "\n",
              "[1 rows x 114 columns]"
            ]
          },
          "execution_count": 51,
          "metadata": {},
          "output_type": "execute_result"
        }
      ],
      "source": [
        "\n",
        "\n",
        "\n",
        "X = pd.DataFrame()\n",
        "X.append(pd.Series(features), ignore_index=True)"
      ]
    },
    {
      "cell_type": "code",
      "execution_count": null,
      "metadata": {
        "colab": {
          "base_uri": "https://localhost:8080/"
        },
        "id": "qZvAKcu0c9Zh",
        "outputId": "968bcbd4-6529-4dfe-e17d-fb294de3a4e9"
      },
      "outputs": [
        {
          "name": "stdout",
          "output_type": "stream",
          "text": [
            "114\n"
          ]
        }
      ],
      "source": [
        "features = np.concatenate((A4, D4, D3))\n",
        "print(len(features))"
      ]
    },
    {
      "cell_type": "code",
      "execution_count": null,
      "metadata": {
        "colab": {
          "base_uri": "https://localhost:8080/",
          "height": 165
        },
        "id": "zvDWSRMZct7Y",
        "outputId": "62678d3f-962a-4b83-a657-d3e482b43bcc"
      },
      "outputs": [
        {
          "ename": "NameError",
          "evalue": "ignored",
          "output_type": "error",
          "traceback": [
            "\u001b[0;31m---------------------------------------------------------------------------\u001b[0m",
            "\u001b[0;31mNameError\u001b[0m                                 Traceback (most recent call last)",
            "\u001b[0;32m<ipython-input-27-ea95632baf5d>\u001b[0m in \u001b[0;36m<module>\u001b[0;34m()\u001b[0m\n\u001b[0;32m----> 1\u001b[0;31m \u001b[0mplt\u001b[0m\u001b[0;34m.\u001b[0m\u001b[0mplot\u001b[0m\u001b[0;34m(\u001b[0m\u001b[0mA4\u001b[0m\u001b[0;34m)\u001b[0m\u001b[0;34m\u001b[0m\u001b[0;34m\u001b[0m\u001b[0m\n\u001b[0m",
            "\u001b[0;31mNameError\u001b[0m: name 'A4' is not defined"
          ]
        }
      ],
      "source": [
        "plt.plot(A4)"
      ]
    },
    {
      "cell_type": "code",
      "execution_count": null,
      "metadata": {
        "id": "gOjs7B1Jcy-y"
      },
      "outputs": [],
      "source": [
        "plt.plot(D4)"
      ]
    },
    {
      "cell_type": "code",
      "execution_count": null,
      "metadata": {
        "colab": {
          "base_uri": "https://localhost:8080/",
          "height": 282
        },
        "id": "3nBsCPHfc1ri",
        "outputId": "475f1795-b5d6-46aa-c4a4-89b06318d598"
      },
      "outputs": [
        {
          "data": {
            "text/plain": [
              "[<matplotlib.lines.Line2D at 0x7f4cf84e4e10>]"
            ]
          },
          "execution_count": 56,
          "metadata": {},
          "output_type": "execute_result"
        },
        {
          "data": {
            "image/png": "[encoded data removed]",
            "text/plain": [
              "<Figure size 432x288 with 1 Axes>"
            ]
          },
          "metadata": {},
          "output_type": "display_data"
        }
      ],
      "source": [
        "plt.plot(D3)"
      ]
    },
    {
      "cell_type": "code",
      "execution_count": null,
      "metadata": {
        "colab": {
          "base_uri": "https://localhost:8080/",
          "height": 282
        },
        "id": "GNEEPaD2dpEf",
        "outputId": "5c2d5ae0-4200-4b75-bb86-572acb3ef2ca"
      },
      "outputs": [
        {
          "data": {
            "text/plain": [
              "[<matplotlib.lines.Line2D at 0x7f4cf8474310>]"
            ]
          },
          "execution_count": 57,
          "metadata": {},
          "output_type": "execute_result"
        },
        {
          "data": {
            "image/png": "[encoded data removed]",
            "text/plain": [
              "<Figure size 432x288 with 1 Axes>"
            ]
          },
          "metadata": {},
          "output_type": "display_data"
        }
      ],
      "source": [
        "plt.plot(D2)"
      ]
    },
    {
      "cell_type": "code",
      "execution_count": null,
      "metadata": {
        "colab": {
          "base_uri": "https://localhost:8080/",
          "height": 284
        },
        "id": "WsEqRaCtdueA",
        "outputId": "dcd36402-28a1-4c89-debe-5ae02cf89612"
      },
      "outputs": [
        {
          "data": {
            "text/plain": [
              "[<matplotlib.lines.Line2D at 0x7f4cf83f2210>]"
            ]
          },
          "execution_count": 58,
          "metadata": {},
          "output_type": "execute_result"
        },
        {
          "data": {
            "image/png": "[encoded data removed]",
            "text/plain": [
              "<Figure size 432x288 with 1 Axes>"
            ]
          },
          "metadata": {},
          "output_type": "display_data"
        }
      ],
      "source": [
        "plt.plot(D1)"
      ]
    },
    {
      "cell_type": "code",
      "execution_count": null,
      "metadata": {
        "colab": {
          "base_uri": "https://localhost:8080/"
        },
        "id": "ebkXiVUjUhl5",
        "outputId": "af68694f-3f86-4d5f-e307-1c1295048bc9"
      },
      "outputs": [
        {
          "name": "stdout",
          "output_type": "stream",
          "text": [
            "+ 3\n",
            "J 50\n",
            "N 2700\n",
            "V 3\n",
            "~ 8\n"
          ]
        }
      ],
      "source": [
        "values, counts = np.unique(sym, return_counts=True)\n",
        "for v,c in zip(values, counts):\n",
        "    print(v,c)"
      ]
    },
    {
      "cell_type": "markdown",
      "metadata": {
        "id": "J_2C_4vGUhl6"
      },
      "source": [
        "Let's make a plot of these, zooming in on one of the abnormal beats"
      ]
    },
    {
      "cell_type": "code",
      "execution_count": null,
      "metadata": {
        "colab": {
          "base_uri": "https://localhost:8080/"
        },
        "id": "karKhDQxCegh",
        "outputId": "8e4617d1-6617-40ad-bc78-7530bce672e7"
      },
      "outputs": [
        {
          "data": {
            "text/plain": [
              "['[',\n",
              " '!',\n",
              " ']',\n",
              " 'x',\n",
              " '(',\n",
              " ')',\n",
              " 'p',\n",
              " 't',\n",
              " 'u',\n",
              " '`',\n",
              " \"'\",\n",
              " '^',\n",
              " '|',\n",
              " '~',\n",
              " '+',\n",
              " 's',\n",
              " 'T',\n",
              " '*',\n",
              " 'D',\n",
              " '=',\n",
              " '\"',\n",
              " '@',\n",
              " 'Q',\n",
              " '?',\n",
              " 'L',\n",
              " 'R',\n",
              " 'V',\n",
              " '/',\n",
              " 'A',\n",
              " 'f',\n",
              " 'F',\n",
              " 'j',\n",
              " 'a',\n",
              " 'E',\n",
              " 'J',\n",
              " 'e',\n",
              " 'S']"
            ]
          },
          "execution_count": 56,
          "metadata": {},
          "output_type": "execute_result"
        }
      ],
      "source": [
        "nonbeat + abnormal"
      ]
    },
    {
      "cell_type": "code",
      "execution_count": null,
      "metadata": {
        "colab": {
          "base_uri": "https://localhost:8080/"
        },
        "id": "VMS7zpzgEIOc",
        "outputId": "79cd17aa-c472-44df-ac68-270da5b7ac4c"
      },
      "outputs": [
        {
          "name": "stderr",
          "output_type": "stream",
          "text": [
            "/usr/local/lib/python3.7/dist-packages/ipykernel_launcher.py:1: DeprecationWarning: The default dtype for empty Series will be 'object' instead of 'float64' in a future version. Specify a dtype explicitly to silence this warning.\n",
            "  \"\"\"Entry point for launching an IPython kernel.\n"
          ]
        },
        {
          "data": {
            "text/plain": [
              "0    1\n",
              "dtype: int64"
            ]
          },
          "execution_count": 31,
          "metadata": {},
          "output_type": "execute_result"
        }
      ],
      "source": [
        "pd.Series().append(pd.Series(1))"
      ]
    },
    {
      "cell_type": "code",
      "execution_count": null,
      "metadata": {
        "id": "ZHsAZLqaAeq_"
      },
      "outputs": [],
      "source": [
        "def make_dataset():\n",
        "  X = pd.DataFrame()\n",
        "  y = pd.DataFrame()\n",
        "\n",
        "  for pt in id_list:\n",
        "    file = data_path + pt\n",
        "    p_signal, atr_sym, atr_sample = load_ecg(file)\n",
        "\n",
        "    # list of nonbeat and abnormal\n",
        "    nonbeat_list = ['[','!',']','x','(',')','p','t','u','`',\n",
        "              '\\'','^','|','~','+','s','T','*','D','=','\"','@','Q','?']\n",
        "    abnormal_list = ['L','R','V','/','A','f','F','j','a','E','J','e','S', 'P']\n",
        "    \n",
        "    index_list = [b for a,b in zip(atr_sym,atr_sample) if a in abnormal + [\"N\"]]\n",
        "\n",
        "    for index in index_list:\n",
        "      left = index - 100\n",
        "      right = index + 100\n",
        "\n",
        "      segment = p_signal[left:right, 0]\n",
        "      bwr_segment = BWR.fix_baseline_wander(segment, sr=200)\n",
        "      sos = signal.butter(1, 40, 'hp', fs=360, output='sos')\n",
        "      filtered_segment = signal.sosfilt(sos, bwr_segment)\n",
        "\n",
        "      wavelet_type='db8'\n",
        "      DWTcoeffs = pywt.wavedec(filtered_segment, wavelet_type, level=4, axis=-1)\n",
        "      A4, D4, D3, D2, D1 = DWTcoeffs\n",
        "\n",
        "      features = pd.Series(np.concatenate((A4, D4, D3)))\n",
        "      label = pd.Series([atr_sym[index]])\n",
        "\n",
        "      X.append(features)\n",
        "      y.append(label)\n",
        "\n",
        "      return X, y\n"
      ]
    },
    {
      "cell_type": "code",
      "execution_count": null,
      "metadata": {
        "id": "s8oE4cS5RSNb"
      },
      "outputs": [],
      "source": [
        "!pip freeze"
      ]
    },
    {
      "cell_type": "code",
      "execution_count": null,
      "metadata": {
        "colab": {
          "base_uri": "https://localhost:8080/",
          "height": 123
        },
        "id": "bPXjFZJeEwP9",
        "outputId": "fa821385-f2d4-415e-8741-eb9414694179"
      },
      "outputs": [
        {
          "data": {
            "application/vnd.google.colaboratory.intrinsic+json": {
              "type": "string"
            },
            "text/plain": [
              "'from tqdm import tqdm\\nX = pd.DataFrame()\\ny = pd.DataFrame()\\n\\nfor pt in tqdm(pts):\\n  file = data_path + pt\\n  \\n  p_signal, atr_sym, atr_sample = load_ecg(file)\\n\\n\\n  # list of nonbeat and abnormal\\n  nonbeat_list = [\\'[\\',\\'!\\',\\']\\',\\'x\\',\\'(\\',\\')\\',\\'p\\',\\'t\\',\\'u\\',\\'`\\',\\n            \\'\\'\\',\\'^\\',\\'|\\',\\'~\\',\\'+\\',\\'s\\',\\'T\\',\\'*\\',\\'D\\',\\'=\\',\\'\"\\',\\'@\\',\\'Q\\',\\'?\\']\\n  abnormal_list = [\\'L\\',\\'R\\',\\'V\\',\\'/\\',\\'A\\',\\'f\\',\\'F\\',\\'j\\',\\'a\\',\\'E\\',\\'J\\',\\'e\\',\\'S\\', \\'P\\']\\n  \\n  index_list = [b for a,b in zip(atr_sym,atr_sample) if a in abnormal + [\"N\"]]\\n\\n  for index in index_list[1:]:\\n    left = index - 100\\n    right = index + 200\\n    \\n    segment = p_signal[left:right, 0]\\n    bwr_segment = BWR.fix_baseline_wander(segment, sr=200)\\n    sos = signal.butter(1, 40, \\'hp\\', fs=360, output=\\'sos\\')\\n    filtered_segment = signal.sosfilt(sos, bwr_segment)\\n\\n    wavelet_type=\\'db8\\'\\n    DWTcoeffs = pywt.wavedec(filtered_segment, wavelet_type, level=4, axis=-1)\\n    A4, D4, D3, D2, D1 = DWTcoeffs\\n\\n    features = pd.Series(np.concatenate((A4, D4, D3)))\\n    label = pd.Series([atr_sym[np.where(atr_sample == index)[0][0]]])\\n\\n    X = X.append(features, ignore_index=True)\\n    y = y.append(label, ignore_index=True)'"
            ]
          },
          "execution_count": 34,
          "metadata": {},
          "output_type": "execute_result"
        }
      ],
      "source": [
        "\"\"\"from tqdm import tqdm\n",
        "X = pd.DataFrame()\n",
        "y = pd.DataFrame()\n",
        "\n",
        "for pt in tqdm(id_list):\n",
        "  file = data_path + pt\n",
        "  \n",
        "  p_signal, atr_sym, atr_sample = load_ecg(file)\n",
        "\n",
        "\n",
        "  # list of nonbeat and abnormal\n",
        "  nonbeat_list = ['[','!',']','x','(',')','p','t','u','`',\n",
        "            '\\'','^','|','~','+','s','T','*','D','=','\"','@','Q','?']\n",
        "  abnormal_list = ['L','R','V','/','A','f','F','j','a','E','J','e','S', 'P']\n",
        "  \n",
        "  index_list = [b for a,b in zip(atr_sym,atr_sample) if a in abnormal + [\"N\"]]\n",
        "\n",
        "  for index in index_list[1:]:\n",
        "    left = index - 100\n",
        "    right = index + 200\n",
        "    \n",
        "    segment = p_signal[left:right, 0]\n",
        "    bwr_segment = BWR.fix_baseline_wander(segment, sr=200)\n",
        "    sos = signal.butter(1, 40, 'hp', fs=360, output='sos')\n",
        "    filtered_segment = signal.sosfilt(sos, bwr_segment)\n",
        "\n",
        "    wavelet_type='db8'\n",
        "    DWTcoeffs = pywt.wavedec(filtered_segment, wavelet_type, level=4, axis=-1)\n",
        "    A4, D4, D3, D2, D1 = DWTcoeffs\n",
        "\n",
        "    features = pd.Series(np.concatenate((A4, D4, D3)))\n",
        "    label = pd.Series([atr_sym[np.where(atr_sample == index)[0][0]]])\n",
        "\n",
        "    X = X.append(features, ignore_index=True)\n",
        "    y = y.append(label, ignore_index=True)\"\"\""
      ]
    },
    {
      "cell_type": "code",
      "execution_count": null,
      "metadata": {
        "colab": {
          "base_uri": "https://localhost:8080/"
        },
        "id": "kSyDZ5abcBV1",
        "outputId": "c62a9990-18a4-4be2-aa5c-a6cc92dc099c"
      },
      "outputs": [
        {
          "data": {
            "text/plain": [
              "0"
            ]
          },
          "execution_count": 61,
          "metadata": {},
          "output_type": "execute_result"
        }
      ],
      "source": [
        "len(X)"
      ]
    },
    {
      "cell_type": "code",
      "execution_count": null,
      "metadata": {
        "colab": {
          "base_uri": "https://localhost:8080/"
        },
        "id": "_4nJu4f0bwJn",
        "outputId": "24f80e32-1e90-455d-eb9f-d8d1b9c8b07e"
      },
      "outputs": [
        {
          "data": {
            "text/plain": [
              "0"
            ]
          },
          "execution_count": 62,
          "metadata": {},
          "output_type": "execute_result"
        }
      ],
      "source": [
        "X.isnull().any(axis=1).sum()"
      ]
    },
    {
      "cell_type": "code",
      "execution_count": null,
      "metadata": {
        "colab": {
          "base_uri": "https://localhost:8080/",
          "height": 49
        },
        "id": "4LgH69gJzpjX",
        "outputId": "67b7269c-046f-44e2-fdda-b6f64395f1bf"
      },
      "outputs": [
        {
          "data": {
            "text/html": [
              "\n",
              "  <div id=\"df-1a4680df-c262-4105-b0ad-c6c1a1ec9369\">\n",
              "    <div class=\"colab-df-container\">\n",
              "      <div>\n",
              "<style scoped>\n",
              "    .dataframe tbody tr th:only-of-type {\n",
              "        vertical-align: middle;\n",
              "    }\n",
              "\n",
              "    .dataframe tbody tr th {\n",
              "        vertical-align: top;\n",
              "    }\n",
              "\n",
              "    .dataframe thead th {\n",
              "        text-align: right;\n",
              "    }\n",
              "</style>\n",
              "<table border=\"1\" class=\"dataframe\">\n",
              "  <thead>\n",
              "    <tr style=\"text-align: right;\">\n",
              "      <th></th>\n",
              "    </tr>\n",
              "  </thead>\n",
              "  <tbody>\n",
              "  </tbody>\n",
              "</table>\n",
              "</div>\n",
              "      <button class=\"colab-df-convert\" onclick=\"convertToInteractive('df-1a4680df-c262-4105-b0ad-c6c1a1ec9369')\"\n",
              "              title=\"Convert this dataframe to an interactive table.\"\n",
              "              style=\"display:none;\">\n",
              "        \n",
              "  <svg xmlns=\"http://www.w3.org/2000/svg\" height=\"24px\"viewBox=\"0 0 24 24\"\n",
              "       width=\"24px\">\n",
              "    <path d=\"M0 0h24v24H0V0z\" fill=\"none\"/>\n",
              "    <path d=\"M18.56 5.44l.94 2.06.94-2.06 2.06-.94-2.06-.94-.94-2.06-.94 2.06-2.06.94zm-11 1L8.5 8.5l.94-2.06 2.06-.94-2.06-.94L8.5 2.5l-.94 2.06-2.06.94zm10 10l.94 2.06.94-2.06 2.06-.94-2.06-.94-.94-2.06-.94 2.06-2.06.94z\"/><path d=\"M17.41 7.96l-1.37-1.37c-.4-.4-.92-.59-1.43-.59-.52 0-1.04.2-1.43.59L10.3 9.45l-7.72 7.72c-.78.78-.78 2.05 0 2.83L4 21.41c.39.39.9.59 1.41.59.51 0 1.02-.2 1.41-.59l7.78-7.78 2.81-2.81c.8-.78.8-2.07 0-2.86zM5.41 20L4 18.59l7.72-7.72 1.47 1.35L5.41 20z\"/>\n",
              "  </svg>\n",
              "      </button>\n",
              "      \n",
              "  <style>\n",
              "    .colab-df-container {\n",
              "      display:flex;\n",
              "      flex-wrap:wrap;\n",
              "      gap: 12px;\n",
              "    }\n",
              "\n",
              "    .colab-df-convert {\n",
              "      background-color: #E8F0FE;\n",
              "      border: none;\n",
              "      border-radius: 50%;\n",
              "      cursor: pointer;\n",
              "      display: none;\n",
              "      fill: #1967D2;\n",
              "      height: 32px;\n",
              "      padding: 0 0 0 0;\n",
              "      width: 32px;\n",
              "    }\n",
              "\n",
              "    .colab-df-convert:hover {\n",
              "      background-color: #E2EBFA;\n",
              "      box-shadow: 0px 1px 2px rgba(60, 64, 67, 0.3), 0px 1px 3px 1px rgba(60, 64, 67, 0.15);\n",
              "      fill: #174EA6;\n",
              "    }\n",
              "\n",
              "    [theme=dark] .colab-df-convert {\n",
              "      background-color: #3B4455;\n",
              "      fill: #D2E3FC;\n",
              "    }\n",
              "\n",
              "    [theme=dark] .colab-df-convert:hover {\n",
              "      background-color: #434B5C;\n",
              "      box-shadow: 0px 1px 3px 1px rgba(0, 0, 0, 0.15);\n",
              "      filter: drop-shadow(0px 1px 2px rgba(0, 0, 0, 0.3));\n",
              "      fill: #FFFFFF;\n",
              "    }\n",
              "  </style>\n",
              "\n",
              "      <script>\n",
              "        const buttonEl =\n",
              "          document.querySelector('#df-1a4680df-c262-4105-b0ad-c6c1a1ec9369 button.colab-df-convert');\n",
              "        buttonEl.style.display =\n",
              "          google.colab.kernel.accessAllowed ? 'block' : 'none';\n",
              "\n",
              "        async function convertToInteractive(key) {\n",
              "          const element = document.querySelector('#df-1a4680df-c262-4105-b0ad-c6c1a1ec9369');\n",
              "          const dataTable =\n",
              "            await google.colab.kernel.invokeFunction('convertToInteractive',\n",
              "                                                     [key], {});\n",
              "          if (!dataTable) return;\n",
              "\n",
              "          const docLinkHtml = 'Like what you see? Visit the ' +\n",
              "            '<a target=\"_blank\" href=https://colab.research.google.com/notebooks/data_table.ipynb>data table notebook</a>'\n",
              "            + ' to learn more about interactive tables.';\n",
              "          element.innerHTML = '';\n",
              "          dataTable['output_type'] = 'display_data';\n",
              "          await google.colab.output.renderOutput(dataTable, element);\n",
              "          const docLink = document.createElement('div');\n",
              "          docLink.innerHTML = docLinkHtml;\n",
              "          element.appendChild(docLink);\n",
              "        }\n",
              "      </script>\n",
              "    </div>\n",
              "  </div>\n",
              "  "
            ],
            "text/plain": [
              "Empty DataFrame\n",
              "Columns: []\n",
              "Index: []"
            ]
          },
          "execution_count": 63,
          "metadata": {},
          "output_type": "execute_result"
        }
      ],
      "source": [
        "X"
      ]
    },
    {
      "cell_type": "code",
      "execution_count": null,
      "metadata": {
        "id": "MBEiTwU_crci"
      },
      "outputs": [],
      "source": [
        "#X.to_csv(\"Features.csv\")"
      ]
    },
    {
      "cell_type": "code",
      "execution_count": null,
      "metadata": {
        "id": "Xw-ku5bedHpI"
      },
      "outputs": [],
      "source": [
        "#y.to_csv(\"Labels.csv\")"
      ]
    },
    {
      "cell_type": "code",
      "execution_count": null,
      "metadata": {
        "colab": {
          "base_uri": "https://localhost:8080/"
        },
        "id": "kL8QGMkrdTv0",
        "outputId": "388aed34-8759-4957-e0aa-990190c6353d"
      },
      "outputs": [
        {
          "name": "stdout",
          "output_type": "stream",
          "text": [
            "/content/drive/MyDrive/datasets/mit-bih-arrhythmia-database-1.0.0\n"
          ]
        }
      ],
      "source": [
        "!pwd"
      ]
    },
    {
      "cell_type": "code",
      "execution_count": null,
      "metadata": {
        "id": "oIq3myXxdnBI"
      },
      "outputs": [],
      "source": [
        "X = pd.read_csv(\"/content/drive/MyDrive/datasets/mit-bih-arrhythmia-database-1.0.0/Features.csv\")\n",
        "y = pd.read_csv(\"/content/drive/MyDrive/datasets/mit-bih-arrhythmia-database-1.0.0/Labels.csv\")"
      ]
    },
    {
      "cell_type": "code",
      "execution_count": null,
      "metadata": {
        "colab": {
          "base_uri": "https://localhost:8080/"
        },
        "id": "KrFrHgvNBEIf",
        "outputId": "6f31d1ad-b229-4f0b-e092-588735774091"
      },
      "outputs": [
        {
          "output_type": "execute_result",
          "data": {
            "text/plain": [
              "True"
            ]
          },
          "metadata": {},
          "execution_count": 50
        }
      ],
      "source": [
        "len(X) == len(y)"
      ]
    },
    {
      "cell_type": "code",
      "execution_count": null,
      "metadata": {
        "colab": {
          "base_uri": "https://localhost:8080/"
        },
        "id": "8MZADXTaeGZ8",
        "outputId": "acbc3113-628d-4379-fcaf-49bdef733d32"
      },
      "outputs": [
        {
          "output_type": "execute_result",
          "data": {
            "text/plain": [
              "109413"
            ]
          },
          "metadata": {},
          "execution_count": 51
        }
      ],
      "source": [
        "len(y)"
      ]
    },
    {
      "cell_type": "code",
      "execution_count": null,
      "metadata": {
        "colab": {
          "base_uri": "https://localhost:8080/"
        },
        "id": "KIojqih7zuO8",
        "outputId": "da3d500c-fac6-4dba-e236-d8e664cbc175"
      },
      "outputs": [
        {
          "output_type": "execute_result",
          "data": {
            "text/plain": [
              "30"
            ]
          },
          "metadata": {},
          "execution_count": 52
        }
      ],
      "source": [
        "X.isnull().any(axis=1).sum()"
      ]
    },
    {
      "cell_type": "code",
      "execution_count": null,
      "metadata": {
        "id": "Z3RsjjL-cXf7"
      },
      "outputs": [],
      "source": [
        "X_ = X[~ X.isnull().any(axis=1)]\n",
        "y_ = y[~ X.isnull().any(axis=1)]"
      ]
    },
    {
      "cell_type": "code",
      "execution_count": null,
      "metadata": {
        "colab": {
          "base_uri": "https://localhost:8080/"
        },
        "id": "xT0eZAbIeswO",
        "outputId": "8102cc63-c26c-4d21-91d7-85b2a3d5b92b"
      },
      "outputs": [
        {
          "output_type": "execute_result",
          "data": {
            "text/plain": [
              "False"
            ]
          },
          "metadata": {},
          "execution_count": 54
        }
      ],
      "source": [
        "X_.isnull().any().any()"
      ]
    },
    {
      "cell_type": "code",
      "execution_count": null,
      "metadata": {
        "colab": {
          "base_uri": "https://localhost:8080/"
        },
        "id": "FBlkDC7MSUWc",
        "outputId": "72db423c-f295-448d-a973-44248d7a31e5"
      },
      "outputs": [
        {
          "output_type": "execute_result",
          "data": {
            "text/plain": [
              "109383"
            ]
          },
          "metadata": {},
          "execution_count": 55
        }
      ],
      "source": [
        "len(X_)"
      ]
    },
    {
      "cell_type": "code",
      "execution_count": null,
      "metadata": {
        "id": "kOdYwN_pBG3P"
      },
      "outputs": [],
      "source": [
        "le = preprocessing.LabelEncoder()"
      ]
    },
    {
      "cell_type": "code",
      "execution_count": null,
      "metadata": {
        "colab": {
          "base_uri": "https://localhost:8080/"
        },
        "id": "V7eLw_ihfEGa",
        "outputId": "d89d3ebf-9728-4b5a-f50b-fe92030b616c"
      },
      "outputs": [
        {
          "output_type": "execute_result",
          "data": {
            "text/plain": [
              "Index(['Unnamed: 0', '0'], dtype='object')"
            ]
          },
          "metadata": {},
          "execution_count": 57
        }
      ],
      "source": [
        "y_.columns"
      ]
    },
    {
      "cell_type": "code",
      "execution_count": null,
      "metadata": {
        "id": "vjchdWlw4MIx"
      },
      "outputs": [],
      "source": [
        "y_[\"0\"] = le.fit_transform(y_[\"0\"])"
      ]
    },
    {
      "cell_type": "code",
      "execution_count": null,
      "metadata": {
        "id": "_WZ8v1Oc4YUo"
      },
      "outputs": [],
      "source": [
        "le_dict = dict(zip(le.classes_, le.transform(le.classes_)))"
      ]
    },
    {
      "cell_type": "code",
      "execution_count": null,
      "metadata": {
        "id": "aenj2DlK3Q1S"
      },
      "outputs": [],
      "source": [
        "le_decoded_list = [\"\" \n",
        "                   \"Aterial \",\n",
        "                   \"ksk\"\n",
        "]"
      ]
    },
    {
      "cell_type": "code",
      "execution_count": null,
      "metadata": {
        "colab": {
          "base_uri": "https://localhost:8080/"
        },
        "id": "5pkJHEcC8kfW",
        "outputId": "bf134c99-c725-47a7-eadb-92e359e873f3"
      },
      "outputs": [
        {
          "output_type": "execute_result",
          "data": {
            "text/plain": [
              "0         6\n",
              "1         6\n",
              "2         6\n",
              "3         6\n",
              "4         6\n",
              "         ..\n",
              "109408    6\n",
              "109409    6\n",
              "109410    6\n",
              "109411    6\n",
              "109412    6\n",
              "Name: 0, Length: 109383, dtype: int64"
            ]
          },
          "metadata": {},
          "execution_count": 61
        }
      ],
      "source": [
        "y_[\"0\"]"
      ]
    },
    {
      "cell_type": "code",
      "execution_count": null,
      "metadata": {
        "colab": {
          "base_uri": "https://localhost:8080/"
        },
        "id": "-GnTQY01CICq",
        "outputId": "5d431208-a675-4f82-ae0e-c9b110264d32"
      },
      "outputs": [
        {
          "output_type": "execute_result",
          "data": {
            "text/plain": [
              "array(['/', 'A', 'E', 'F', 'J', 'L', 'N', 'R', 'S', 'V', 'a', 'e', 'f',\n",
              "       'j'], dtype=object)"
            ]
          },
          "metadata": {},
          "execution_count": 62
        }
      ],
      "source": [
        "le.classes_"
      ]
    },
    {
      "cell_type": "code",
      "execution_count": null,
      "metadata": {
        "id": "t0KMGAqN33df"
      },
      "outputs": [],
      "source": [
        "le.inverse_transform(le.classes_)"
      ]
    },
    {
      "cell_type": "code",
      "execution_count": null,
      "metadata": {
        "id": "N3gaWnnt3qbe"
      },
      "outputs": [],
      "source": [
        "y_"
      ]
    },
    {
      "cell_type": "code",
      "execution_count": null,
      "metadata": {
        "colab": {
          "base_uri": "https://localhost:8080/",
          "height": 505
        },
        "id": "ArTaK5P73xzU",
        "outputId": "746ebb2d-6fc4-4127-85ac-2c6a5895fda2"
      },
      "outputs": [
        {
          "output_type": "execute_result",
          "data": {
            "text/plain": [
              "        Unnamed: 0         0         1         2         3         4  \\\n",
              "0                0 -0.030866 -0.028724 -0.011237 -0.034910 -0.019827   \n",
              "1                1 -0.040595 -0.035016 -0.023343 -0.046994 -0.027808   \n",
              "2                2 -0.042023 -0.044820 -0.029205 -0.046762 -0.038867   \n",
              "3                3 -0.039438 -0.032722 -0.023109 -0.047609 -0.025463   \n",
              "4                4 -0.043054 -0.042713 -0.026510 -0.048220 -0.035295   \n",
              "...            ...       ...       ...       ...       ...       ...   \n",
              "109408      109408 -0.043055 -0.032286 -0.008420 -0.050198 -0.018959   \n",
              "109409      109409 -0.043023 -0.040537 -0.030125 -0.051174 -0.036387   \n",
              "109410      109410 -0.034893 -0.033990 -0.027626 -0.040256 -0.031515   \n",
              "109411      109411 -0.033150 -0.029210 -0.013862 -0.037316 -0.020679   \n",
              "109412      109412 -0.011201 -0.013140 -0.008364 -0.013315 -0.012308   \n",
              "\n",
              "               5         6         7         8  ...       104       105  \\\n",
              "0      -0.019068 -0.039833 -0.015360 -0.023653  ... -0.003272  0.000558   \n",
              "1      -0.027257 -0.049094 -0.022516 -0.032750  ...  0.001009 -0.002207   \n",
              "2      -0.033574 -0.047183 -0.033664 -0.039810  ...  0.013014 -0.006383   \n",
              "3      -0.026382 -0.049767 -0.020351 -0.031508  ... -0.001816  0.005478   \n",
              "4      -0.031998 -0.050297 -0.029941 -0.038065  ... -0.001054 -0.004212   \n",
              "...          ...       ...       ...       ...  ...       ...       ...   \n",
              "109408 -0.017194 -0.055202 -0.009649 -0.026822  ... -0.008163  0.016061   \n",
              "109409 -0.028783 -0.046374 -0.028230 -0.038334  ... -0.032671 -0.001716   \n",
              "109410 -0.026807 -0.037283 -0.026597 -0.032572  ... -0.017290  0.022589   \n",
              "109411 -0.020880 -0.042050 -0.016437 -0.025194  ... -0.003647 -0.019774   \n",
              "109412 -0.007785 -0.010754 -0.009410 -0.011477  ... -0.021350  0.013721   \n",
              "\n",
              "             106       107       108       109       110       111       112  \\\n",
              "0      -0.007339 -0.011322  0.020229 -0.001146 -0.000275  0.001434 -0.003160   \n",
              "1      -0.013121  0.001112  0.005959  0.010091 -0.002753  0.002840  0.001841   \n",
              "2      -0.009629 -0.001831  0.008396  0.007767 -0.004050 -0.010008  0.007582   \n",
              "3      -0.005622  0.005219 -0.004600  0.004228 -0.005485  0.012284  0.014952   \n",
              "4      -0.005007 -0.005358  0.010740  0.001981  0.003907 -0.000523  0.001692   \n",
              "...          ...       ...       ...       ...       ...       ...       ...   \n",
              "109408  0.000178 -0.011523  0.015680 -0.013873 -0.005626  0.014940 -0.007267   \n",
              "109409  0.007283 -0.001700 -0.001506 -0.004036  0.019343  0.015427 -0.027098   \n",
              "109410  0.030945 -0.009799 -0.004389 -0.036069  0.003044  0.017544 -0.006785   \n",
              "109411  0.013721 -0.001328 -0.004545 -0.001915  0.023282 -0.010563  0.003813   \n",
              "109412 -0.020747 -0.024406  0.045886 -0.005199 -0.003213  0.017579 -0.022044   \n",
              "\n",
              "             113  \n",
              "0       0.006277  \n",
              "1      -0.006089  \n",
              "2      -0.000487  \n",
              "3       0.006117  \n",
              "4      -0.004457  \n",
              "...          ...  \n",
              "109408 -0.012305  \n",
              "109409  0.011245  \n",
              "109410  0.006392  \n",
              "109411  0.003407  \n",
              "109412  0.009405  \n",
              "\n",
              "[109383 rows x 115 columns]"
            ],
            "text/html": [
              "\n",
              "  <div id=\"df-28f3afd8-0dcb-4e68-961b-974dd771c414\">\n",
              "    <div class=\"colab-df-container\">\n",
              "      <div>\n",
              "<style scoped>\n",
              "    .dataframe tbody tr th:only-of-type {\n",
              "        vertical-align: middle;\n",
              "    }\n",
              "\n",
              "    .dataframe tbody tr th {\n",
              "        vertical-align: top;\n",
              "    }\n",
              "\n",
              "    .dataframe thead th {\n",
              "        text-align: right;\n",
              "    }\n",
              "</style>\n",
              "<table border=\"1\" class=\"dataframe\">\n",
              "  <thead>\n",
              "    <tr style=\"text-align: right;\">\n",
              "      <th></th>\n",
              "      <th>Unnamed: 0</th>\n",
              "      <th>0</th>\n",
              "      <th>1</th>\n",
              "      <th>2</th>\n",
              "      <th>3</th>\n",
              "      <th>4</th>\n",
              "      <th>5</th>\n",
              "      <th>6</th>\n",
              "      <th>7</th>\n",
              "      <th>8</th>\n",
              "      <th>...</th>\n",
              "      <th>104</th>\n",
              "      <th>105</th>\n",
              "      <th>106</th>\n",
              "      <th>107</th>\n",
              "      <th>108</th>\n",
              "      <th>109</th>\n",
              "      <th>110</th>\n",
              "      <th>111</th>\n",
              "      <th>112</th>\n",
              "      <th>113</th>\n",
              "    </tr>\n",
              "  </thead>\n",
              "  <tbody>\n",
              "    <tr>\n",
              "      <th>0</th>\n",
              "      <td>0</td>\n",
              "      <td>-0.030866</td>\n",
              "      <td>-0.028724</td>\n",
              "      <td>-0.011237</td>\n",
              "      <td>-0.034910</td>\n",
              "      <td>-0.019827</td>\n",
              "      <td>-0.019068</td>\n",
              "      <td>-0.039833</td>\n",
              "      <td>-0.015360</td>\n",
              "      <td>-0.023653</td>\n",
              "      <td>...</td>\n",
              "      <td>-0.003272</td>\n",
              "      <td>0.000558</td>\n",
              "      <td>-0.007339</td>\n",
              "      <td>-0.011322</td>\n",
              "      <td>0.020229</td>\n",
              "      <td>-0.001146</td>\n",
              "      <td>-0.000275</td>\n",
              "      <td>0.001434</td>\n",
              "      <td>-0.003160</td>\n",
              "      <td>0.006277</td>\n",
              "    </tr>\n",
              "    <tr>\n",
              "      <th>1</th>\n",
              "      <td>1</td>\n",
              "      <td>-0.040595</td>\n",
              "      <td>-0.035016</td>\n",
              "      <td>-0.023343</td>\n",
              "      <td>-0.046994</td>\n",
              "      <td>-0.027808</td>\n",
              "      <td>-0.027257</td>\n",
              "      <td>-0.049094</td>\n",
              "      <td>-0.022516</td>\n",
              "      <td>-0.032750</td>\n",
              "      <td>...</td>\n",
              "      <td>0.001009</td>\n",
              "      <td>-0.002207</td>\n",
              "      <td>-0.013121</td>\n",
              "      <td>0.001112</td>\n",
              "      <td>0.005959</td>\n",
              "      <td>0.010091</td>\n",
              "      <td>-0.002753</td>\n",
              "      <td>0.002840</td>\n",
              "      <td>0.001841</td>\n",
              "      <td>-0.006089</td>\n",
              "    </tr>\n",
              "    <tr>\n",
              "      <th>2</th>\n",
              "      <td>2</td>\n",
              "      <td>-0.042023</td>\n",
              "      <td>-0.044820</td>\n",
              "      <td>-0.029205</td>\n",
              "      <td>-0.046762</td>\n",
              "      <td>-0.038867</td>\n",
              "      <td>-0.033574</td>\n",
              "      <td>-0.047183</td>\n",
              "      <td>-0.033664</td>\n",
              "      <td>-0.039810</td>\n",
              "      <td>...</td>\n",
              "      <td>0.013014</td>\n",
              "      <td>-0.006383</td>\n",
              "      <td>-0.009629</td>\n",
              "      <td>-0.001831</td>\n",
              "      <td>0.008396</td>\n",
              "      <td>0.007767</td>\n",
              "      <td>-0.004050</td>\n",
              "      <td>-0.010008</td>\n",
              "      <td>0.007582</td>\n",
              "      <td>-0.000487</td>\n",
              "    </tr>\n",
              "    <tr>\n",
              "      <th>3</th>\n",
              "      <td>3</td>\n",
              "      <td>-0.039438</td>\n",
              "      <td>-0.032722</td>\n",
              "      <td>-0.023109</td>\n",
              "      <td>-0.047609</td>\n",
              "      <td>-0.025463</td>\n",
              "      <td>-0.026382</td>\n",
              "      <td>-0.049767</td>\n",
              "      <td>-0.020351</td>\n",
              "      <td>-0.031508</td>\n",
              "      <td>...</td>\n",
              "      <td>-0.001816</td>\n",
              "      <td>0.005478</td>\n",
              "      <td>-0.005622</td>\n",
              "      <td>0.005219</td>\n",
              "      <td>-0.004600</td>\n",
              "      <td>0.004228</td>\n",
              "      <td>-0.005485</td>\n",
              "      <td>0.012284</td>\n",
              "      <td>0.014952</td>\n",
              "      <td>0.006117</td>\n",
              "    </tr>\n",
              "    <tr>\n",
              "      <th>4</th>\n",
              "      <td>4</td>\n",
              "      <td>-0.043054</td>\n",
              "      <td>-0.042713</td>\n",
              "      <td>-0.026510</td>\n",
              "      <td>-0.048220</td>\n",
              "      <td>-0.035295</td>\n",
              "      <td>-0.031998</td>\n",
              "      <td>-0.050297</td>\n",
              "      <td>-0.029941</td>\n",
              "      <td>-0.038065</td>\n",
              "      <td>...</td>\n",
              "      <td>-0.001054</td>\n",
              "      <td>-0.004212</td>\n",
              "      <td>-0.005007</td>\n",
              "      <td>-0.005358</td>\n",
              "      <td>0.010740</td>\n",
              "      <td>0.001981</td>\n",
              "      <td>0.003907</td>\n",
              "      <td>-0.000523</td>\n",
              "      <td>0.001692</td>\n",
              "      <td>-0.004457</td>\n",
              "    </tr>\n",
              "    <tr>\n",
              "      <th>...</th>\n",
              "      <td>...</td>\n",
              "      <td>...</td>\n",
              "      <td>...</td>\n",
              "      <td>...</td>\n",
              "      <td>...</td>\n",
              "      <td>...</td>\n",
              "      <td>...</td>\n",
              "      <td>...</td>\n",
              "      <td>...</td>\n",
              "      <td>...</td>\n",
              "      <td>...</td>\n",
              "      <td>...</td>\n",
              "      <td>...</td>\n",
              "      <td>...</td>\n",
              "      <td>...</td>\n",
              "      <td>...</td>\n",
              "      <td>...</td>\n",
              "      <td>...</td>\n",
              "      <td>...</td>\n",
              "      <td>...</td>\n",
              "      <td>...</td>\n",
              "    </tr>\n",
              "    <tr>\n",
              "      <th>109408</th>\n",
              "      <td>109408</td>\n",
              "      <td>-0.043055</td>\n",
              "      <td>-0.032286</td>\n",
              "      <td>-0.008420</td>\n",
              "      <td>-0.050198</td>\n",
              "      <td>-0.018959</td>\n",
              "      <td>-0.017194</td>\n",
              "      <td>-0.055202</td>\n",
              "      <td>-0.009649</td>\n",
              "      <td>-0.026822</td>\n",
              "      <td>...</td>\n",
              "      <td>-0.008163</td>\n",
              "      <td>0.016061</td>\n",
              "      <td>0.000178</td>\n",
              "      <td>-0.011523</td>\n",
              "      <td>0.015680</td>\n",
              "      <td>-0.013873</td>\n",
              "      <td>-0.005626</td>\n",
              "      <td>0.014940</td>\n",
              "      <td>-0.007267</td>\n",
              "      <td>-0.012305</td>\n",
              "    </tr>\n",
              "    <tr>\n",
              "      <th>109409</th>\n",
              "      <td>109409</td>\n",
              "      <td>-0.043023</td>\n",
              "      <td>-0.040537</td>\n",
              "      <td>-0.030125</td>\n",
              "      <td>-0.051174</td>\n",
              "      <td>-0.036387</td>\n",
              "      <td>-0.028783</td>\n",
              "      <td>-0.046374</td>\n",
              "      <td>-0.028230</td>\n",
              "      <td>-0.038334</td>\n",
              "      <td>...</td>\n",
              "      <td>-0.032671</td>\n",
              "      <td>-0.001716</td>\n",
              "      <td>0.007283</td>\n",
              "      <td>-0.001700</td>\n",
              "      <td>-0.001506</td>\n",
              "      <td>-0.004036</td>\n",
              "      <td>0.019343</td>\n",
              "      <td>0.015427</td>\n",
              "      <td>-0.027098</td>\n",
              "      <td>0.011245</td>\n",
              "    </tr>\n",
              "    <tr>\n",
              "      <th>109410</th>\n",
              "      <td>109410</td>\n",
              "      <td>-0.034893</td>\n",
              "      <td>-0.033990</td>\n",
              "      <td>-0.027626</td>\n",
              "      <td>-0.040256</td>\n",
              "      <td>-0.031515</td>\n",
              "      <td>-0.026807</td>\n",
              "      <td>-0.037283</td>\n",
              "      <td>-0.026597</td>\n",
              "      <td>-0.032572</td>\n",
              "      <td>...</td>\n",
              "      <td>-0.017290</td>\n",
              "      <td>0.022589</td>\n",
              "      <td>0.030945</td>\n",
              "      <td>-0.009799</td>\n",
              "      <td>-0.004389</td>\n",
              "      <td>-0.036069</td>\n",
              "      <td>0.003044</td>\n",
              "      <td>0.017544</td>\n",
              "      <td>-0.006785</td>\n",
              "      <td>0.006392</td>\n",
              "    </tr>\n",
              "    <tr>\n",
              "      <th>109411</th>\n",
              "      <td>109411</td>\n",
              "      <td>-0.033150</td>\n",
              "      <td>-0.029210</td>\n",
              "      <td>-0.013862</td>\n",
              "      <td>-0.037316</td>\n",
              "      <td>-0.020679</td>\n",
              "      <td>-0.020880</td>\n",
              "      <td>-0.042050</td>\n",
              "      <td>-0.016437</td>\n",
              "      <td>-0.025194</td>\n",
              "      <td>...</td>\n",
              "      <td>-0.003647</td>\n",
              "      <td>-0.019774</td>\n",
              "      <td>0.013721</td>\n",
              "      <td>-0.001328</td>\n",
              "      <td>-0.004545</td>\n",
              "      <td>-0.001915</td>\n",
              "      <td>0.023282</td>\n",
              "      <td>-0.010563</td>\n",
              "      <td>0.003813</td>\n",
              "      <td>0.003407</td>\n",
              "    </tr>\n",
              "    <tr>\n",
              "      <th>109412</th>\n",
              "      <td>109412</td>\n",
              "      <td>-0.011201</td>\n",
              "      <td>-0.013140</td>\n",
              "      <td>-0.008364</td>\n",
              "      <td>-0.013315</td>\n",
              "      <td>-0.012308</td>\n",
              "      <td>-0.007785</td>\n",
              "      <td>-0.010754</td>\n",
              "      <td>-0.009410</td>\n",
              "      <td>-0.011477</td>\n",
              "      <td>...</td>\n",
              "      <td>-0.021350</td>\n",
              "      <td>0.013721</td>\n",
              "      <td>-0.020747</td>\n",
              "      <td>-0.024406</td>\n",
              "      <td>0.045886</td>\n",
              "      <td>-0.005199</td>\n",
              "      <td>-0.003213</td>\n",
              "      <td>0.017579</td>\n",
              "      <td>-0.022044</td>\n",
              "      <td>0.009405</td>\n",
              "    </tr>\n",
              "  </tbody>\n",
              "</table>\n",
              "<p>109383 rows × 115 columns</p>\n",
              "</div>\n",
              "      <button class=\"colab-df-convert\" onclick=\"convertToInteractive('df-28f3afd8-0dcb-4e68-961b-974dd771c414')\"\n",
              "              title=\"Convert this dataframe to an interactive table.\"\n",
              "              style=\"display:none;\">\n",
              "        \n",
              "  <svg xmlns=\"http://www.w3.org/2000/svg\" height=\"24px\"viewBox=\"0 0 24 24\"\n",
              "       width=\"24px\">\n",
              "    <path d=\"M0 0h24v24H0V0z\" fill=\"none\"/>\n",
              "    <path d=\"M18.56 5.44l.94 2.06.94-2.06 2.06-.94-2.06-.94-.94-2.06-.94 2.06-2.06.94zm-11 1L8.5 8.5l.94-2.06 2.06-.94-2.06-.94L8.5 2.5l-.94 2.06-2.06.94zm10 10l.94 2.06.94-2.06 2.06-.94-2.06-.94-.94-2.06-.94 2.06-2.06.94z\"/><path d=\"M17.41 7.96l-1.37-1.37c-.4-.4-.92-.59-1.43-.59-.52 0-1.04.2-1.43.59L10.3 9.45l-7.72 7.72c-.78.78-.78 2.05 0 2.83L4 21.41c.39.39.9.59 1.41.59.51 0 1.02-.2 1.41-.59l7.78-7.78 2.81-2.81c.8-.78.8-2.07 0-2.86zM5.41 20L4 18.59l7.72-7.72 1.47 1.35L5.41 20z\"/>\n",
              "  </svg>\n",
              "      </button>\n",
              "      \n",
              "  <style>\n",
              "    .colab-df-container {\n",
              "      display:flex;\n",
              "      flex-wrap:wrap;\n",
              "      gap: 12px;\n",
              "    }\n",
              "\n",
              "    .colab-df-convert {\n",
              "      background-color: #E8F0FE;\n",
              "      border: none;\n",
              "      border-radius: 50%;\n",
              "      cursor: pointer;\n",
              "      display: none;\n",
              "      fill: #1967D2;\n",
              "      height: 32px;\n",
              "      padding: 0 0 0 0;\n",
              "      width: 32px;\n",
              "    }\n",
              "\n",
              "    .colab-df-convert:hover {\n",
              "      background-color: #E2EBFA;\n",
              "      box-shadow: 0px 1px 2px rgba(60, 64, 67, 0.3), 0px 1px 3px 1px rgba(60, 64, 67, 0.15);\n",
              "      fill: #174EA6;\n",
              "    }\n",
              "\n",
              "    [theme=dark] .colab-df-convert {\n",
              "      background-color: #3B4455;\n",
              "      fill: #D2E3FC;\n",
              "    }\n",
              "\n",
              "    [theme=dark] .colab-df-convert:hover {\n",
              "      background-color: #434B5C;\n",
              "      box-shadow: 0px 1px 3px 1px rgba(0, 0, 0, 0.15);\n",
              "      filter: drop-shadow(0px 1px 2px rgba(0, 0, 0, 0.3));\n",
              "      fill: #FFFFFF;\n",
              "    }\n",
              "  </style>\n",
              "\n",
              "      <script>\n",
              "        const buttonEl =\n",
              "          document.querySelector('#df-28f3afd8-0dcb-4e68-961b-974dd771c414 button.colab-df-convert');\n",
              "        buttonEl.style.display =\n",
              "          google.colab.kernel.accessAllowed ? 'block' : 'none';\n",
              "\n",
              "        async function convertToInteractive(key) {\n",
              "          const element = document.querySelector('#df-28f3afd8-0dcb-4e68-961b-974dd771c414');\n",
              "          const dataTable =\n",
              "            await google.colab.kernel.invokeFunction('convertToInteractive',\n",
              "                                                     [key], {});\n",
              "          if (!dataTable) return;\n",
              "\n",
              "          const docLinkHtml = 'Like what you see? Visit the ' +\n",
              "            '<a target=\"_blank\" href=https://colab.research.google.com/notebooks/data_table.ipynb>data table notebook</a>'\n",
              "            + ' to learn more about interactive tables.';\n",
              "          element.innerHTML = '';\n",
              "          dataTable['output_type'] = 'display_data';\n",
              "          await google.colab.output.renderOutput(dataTable, element);\n",
              "          const docLink = document.createElement('div');\n",
              "          docLink.innerHTML = docLinkHtml;\n",
              "          element.appendChild(docLink);\n",
              "        }\n",
              "      </script>\n",
              "    </div>\n",
              "  </div>\n",
              "  "
            ]
          },
          "metadata": {},
          "execution_count": 64
        }
      ],
      "source": [
        "X_"
      ]
    },
    {
      "cell_type": "code",
      "execution_count": null,
      "metadata": {
        "id": "uqvMt_PqCOBy"
      },
      "outputs": [],
      "source": [
        "#y = pd.DataFrame(le.fit_transform(y))"
      ]
    },
    {
      "cell_type": "code",
      "execution_count": null,
      "metadata": {
        "colab": {
          "base_uri": "https://localhost:8080/"
        },
        "id": "bKjXm97UCXKD",
        "outputId": "f2a9da3e-8929-4384-a3e3-4b87e74d0e84"
      },
      "outputs": [
        {
          "output_type": "execute_result",
          "data": {
            "text/plain": [
              "14"
            ]
          },
          "metadata": {},
          "execution_count": 65
        }
      ],
      "source": [
        "len(y_[\"0\"].unique())"
      ]
    },
    {
      "cell_type": "code",
      "execution_count": null,
      "metadata": {
        "colab": {
          "base_uri": "https://localhost:8080/",
          "height": 505
        },
        "id": "mEsYWWuWAeH9",
        "outputId": "c64aae4b-1790-4158-c043-604c9dae0ec2"
      },
      "outputs": [
        {
          "output_type": "execute_result",
          "data": {
            "text/plain": [
              "        Unnamed: 0         0         1         2         3         4  \\\n",
              "0                0 -0.030866 -0.028724 -0.011237 -0.034910 -0.019827   \n",
              "1                1 -0.040595 -0.035016 -0.023343 -0.046994 -0.027808   \n",
              "2                2 -0.042023 -0.044820 -0.029205 -0.046762 -0.038867   \n",
              "3                3 -0.039438 -0.032722 -0.023109 -0.047609 -0.025463   \n",
              "4                4 -0.043054 -0.042713 -0.026510 -0.048220 -0.035295   \n",
              "...            ...       ...       ...       ...       ...       ...   \n",
              "109408      109408 -0.043055 -0.032286 -0.008420 -0.050198 -0.018959   \n",
              "109409      109409 -0.043023 -0.040537 -0.030125 -0.051174 -0.036387   \n",
              "109410      109410 -0.034893 -0.033990 -0.027626 -0.040256 -0.031515   \n",
              "109411      109411 -0.033150 -0.029210 -0.013862 -0.037316 -0.020679   \n",
              "109412      109412 -0.011201 -0.013140 -0.008364 -0.013315 -0.012308   \n",
              "\n",
              "               5         6         7         8  ...       104       105  \\\n",
              "0      -0.019068 -0.039833 -0.015360 -0.023653  ... -0.003272  0.000558   \n",
              "1      -0.027257 -0.049094 -0.022516 -0.032750  ...  0.001009 -0.002207   \n",
              "2      -0.033574 -0.047183 -0.033664 -0.039810  ...  0.013014 -0.006383   \n",
              "3      -0.026382 -0.049767 -0.020351 -0.031508  ... -0.001816  0.005478   \n",
              "4      -0.031998 -0.050297 -0.029941 -0.038065  ... -0.001054 -0.004212   \n",
              "...          ...       ...       ...       ...  ...       ...       ...   \n",
              "109408 -0.017194 -0.055202 -0.009649 -0.026822  ... -0.008163  0.016061   \n",
              "109409 -0.028783 -0.046374 -0.028230 -0.038334  ... -0.032671 -0.001716   \n",
              "109410 -0.026807 -0.037283 -0.026597 -0.032572  ... -0.017290  0.022589   \n",
              "109411 -0.020880 -0.042050 -0.016437 -0.025194  ... -0.003647 -0.019774   \n",
              "109412 -0.007785 -0.010754 -0.009410 -0.011477  ... -0.021350  0.013721   \n",
              "\n",
              "             106       107       108       109       110       111       112  \\\n",
              "0      -0.007339 -0.011322  0.020229 -0.001146 -0.000275  0.001434 -0.003160   \n",
              "1      -0.013121  0.001112  0.005959  0.010091 -0.002753  0.002840  0.001841   \n",
              "2      -0.009629 -0.001831  0.008396  0.007767 -0.004050 -0.010008  0.007582   \n",
              "3      -0.005622  0.005219 -0.004600  0.004228 -0.005485  0.012284  0.014952   \n",
              "4      -0.005007 -0.005358  0.010740  0.001981  0.003907 -0.000523  0.001692   \n",
              "...          ...       ...       ...       ...       ...       ...       ...   \n",
              "109408  0.000178 -0.011523  0.015680 -0.013873 -0.005626  0.014940 -0.007267   \n",
              "109409  0.007283 -0.001700 -0.001506 -0.004036  0.019343  0.015427 -0.027098   \n",
              "109410  0.030945 -0.009799 -0.004389 -0.036069  0.003044  0.017544 -0.006785   \n",
              "109411  0.013721 -0.001328 -0.004545 -0.001915  0.023282 -0.010563  0.003813   \n",
              "109412 -0.020747 -0.024406  0.045886 -0.005199 -0.003213  0.017579 -0.022044   \n",
              "\n",
              "             113  \n",
              "0       0.006277  \n",
              "1      -0.006089  \n",
              "2      -0.000487  \n",
              "3       0.006117  \n",
              "4      -0.004457  \n",
              "...          ...  \n",
              "109408 -0.012305  \n",
              "109409  0.011245  \n",
              "109410  0.006392  \n",
              "109411  0.003407  \n",
              "109412  0.009405  \n",
              "\n",
              "[109383 rows x 115 columns]"
            ],
            "text/html": [
              "\n",
              "  <div id=\"df-4ec6634c-ad6c-4d35-bfe9-cf669698d5ce\">\n",
              "    <div class=\"colab-df-container\">\n",
              "      <div>\n",
              "<style scoped>\n",
              "    .dataframe tbody tr th:only-of-type {\n",
              "        vertical-align: middle;\n",
              "    }\n",
              "\n",
              "    .dataframe tbody tr th {\n",
              "        vertical-align: top;\n",
              "    }\n",
              "\n",
              "    .dataframe thead th {\n",
              "        text-align: right;\n",
              "    }\n",
              "</style>\n",
              "<table border=\"1\" class=\"dataframe\">\n",
              "  <thead>\n",
              "    <tr style=\"text-align: right;\">\n",
              "      <th></th>\n",
              "      <th>Unnamed: 0</th>\n",
              "      <th>0</th>\n",
              "      <th>1</th>\n",
              "      <th>2</th>\n",
              "      <th>3</th>\n",
              "      <th>4</th>\n",
              "      <th>5</th>\n",
              "      <th>6</th>\n",
              "      <th>7</th>\n",
              "      <th>8</th>\n",
              "      <th>...</th>\n",
              "      <th>104</th>\n",
              "      <th>105</th>\n",
              "      <th>106</th>\n",
              "      <th>107</th>\n",
              "      <th>108</th>\n",
              "      <th>109</th>\n",
              "      <th>110</th>\n",
              "      <th>111</th>\n",
              "      <th>112</th>\n",
              "      <th>113</th>\n",
              "    </tr>\n",
              "  </thead>\n",
              "  <tbody>\n",
              "    <tr>\n",
              "      <th>0</th>\n",
              "      <td>0</td>\n",
              "      <td>-0.030866</td>\n",
              "      <td>-0.028724</td>\n",
              "      <td>-0.011237</td>\n",
              "      <td>-0.034910</td>\n",
              "      <td>-0.019827</td>\n",
              "      <td>-0.019068</td>\n",
              "      <td>-0.039833</td>\n",
              "      <td>-0.015360</td>\n",
              "      <td>-0.023653</td>\n",
              "      <td>...</td>\n",
              "      <td>-0.003272</td>\n",
              "      <td>0.000558</td>\n",
              "      <td>-0.007339</td>\n",
              "      <td>-0.011322</td>\n",
              "      <td>0.020229</td>\n",
              "      <td>-0.001146</td>\n",
              "      <td>-0.000275</td>\n",
              "      <td>0.001434</td>\n",
              "      <td>-0.003160</td>\n",
              "      <td>0.006277</td>\n",
              "    </tr>\n",
              "    <tr>\n",
              "      <th>1</th>\n",
              "      <td>1</td>\n",
              "      <td>-0.040595</td>\n",
              "      <td>-0.035016</td>\n",
              "      <td>-0.023343</td>\n",
              "      <td>-0.046994</td>\n",
              "      <td>-0.027808</td>\n",
              "      <td>-0.027257</td>\n",
              "      <td>-0.049094</td>\n",
              "      <td>-0.022516</td>\n",
              "      <td>-0.032750</td>\n",
              "      <td>...</td>\n",
              "      <td>0.001009</td>\n",
              "      <td>-0.002207</td>\n",
              "      <td>-0.013121</td>\n",
              "      <td>0.001112</td>\n",
              "      <td>0.005959</td>\n",
              "      <td>0.010091</td>\n",
              "      <td>-0.002753</td>\n",
              "      <td>0.002840</td>\n",
              "      <td>0.001841</td>\n",
              "      <td>-0.006089</td>\n",
              "    </tr>\n",
              "    <tr>\n",
              "      <th>2</th>\n",
              "      <td>2</td>\n",
              "      <td>-0.042023</td>\n",
              "      <td>-0.044820</td>\n",
              "      <td>-0.029205</td>\n",
              "      <td>-0.046762</td>\n",
              "      <td>-0.038867</td>\n",
              "      <td>-0.033574</td>\n",
              "      <td>-0.047183</td>\n",
              "      <td>-0.033664</td>\n",
              "      <td>-0.039810</td>\n",
              "      <td>...</td>\n",
              "      <td>0.013014</td>\n",
              "      <td>-0.006383</td>\n",
              "      <td>-0.009629</td>\n",
              "      <td>-0.001831</td>\n",
              "      <td>0.008396</td>\n",
              "      <td>0.007767</td>\n",
              "      <td>-0.004050</td>\n",
              "      <td>-0.010008</td>\n",
              "      <td>0.007582</td>\n",
              "      <td>-0.000487</td>\n",
              "    </tr>\n",
              "    <tr>\n",
              "      <th>3</th>\n",
              "      <td>3</td>\n",
              "      <td>-0.039438</td>\n",
              "      <td>-0.032722</td>\n",
              "      <td>-0.023109</td>\n",
              "      <td>-0.047609</td>\n",
              "      <td>-0.025463</td>\n",
              "      <td>-0.026382</td>\n",
              "      <td>-0.049767</td>\n",
              "      <td>-0.020351</td>\n",
              "      <td>-0.031508</td>\n",
              "      <td>...</td>\n",
              "      <td>-0.001816</td>\n",
              "      <td>0.005478</td>\n",
              "      <td>-0.005622</td>\n",
              "      <td>0.005219</td>\n",
              "      <td>-0.004600</td>\n",
              "      <td>0.004228</td>\n",
              "      <td>-0.005485</td>\n",
              "      <td>0.012284</td>\n",
              "      <td>0.014952</td>\n",
              "      <td>0.006117</td>\n",
              "    </tr>\n",
              "    <tr>\n",
              "      <th>4</th>\n",
              "      <td>4</td>\n",
              "      <td>-0.043054</td>\n",
              "      <td>-0.042713</td>\n",
              "      <td>-0.026510</td>\n",
              "      <td>-0.048220</td>\n",
              "      <td>-0.035295</td>\n",
              "      <td>-0.031998</td>\n",
              "      <td>-0.050297</td>\n",
              "      <td>-0.029941</td>\n",
              "      <td>-0.038065</td>\n",
              "      <td>...</td>\n",
              "      <td>-0.001054</td>\n",
              "      <td>-0.004212</td>\n",
              "      <td>-0.005007</td>\n",
              "      <td>-0.005358</td>\n",
              "      <td>0.010740</td>\n",
              "      <td>0.001981</td>\n",
              "      <td>0.003907</td>\n",
              "      <td>-0.000523</td>\n",
              "      <td>0.001692</td>\n",
              "      <td>-0.004457</td>\n",
              "    </tr>\n",
              "    <tr>\n",
              "      <th>...</th>\n",
              "      <td>...</td>\n",
              "      <td>...</td>\n",
              "      <td>...</td>\n",
              "      <td>...</td>\n",
              "      <td>...</td>\n",
              "      <td>...</td>\n",
              "      <td>...</td>\n",
              "      <td>...</td>\n",
              "      <td>...</td>\n",
              "      <td>...</td>\n",
              "      <td>...</td>\n",
              "      <td>...</td>\n",
              "      <td>...</td>\n",
              "      <td>...</td>\n",
              "      <td>...</td>\n",
              "      <td>...</td>\n",
              "      <td>...</td>\n",
              "      <td>...</td>\n",
              "      <td>...</td>\n",
              "      <td>...</td>\n",
              "      <td>...</td>\n",
              "    </tr>\n",
              "    <tr>\n",
              "      <th>109408</th>\n",
              "      <td>109408</td>\n",
              "      <td>-0.043055</td>\n",
              "      <td>-0.032286</td>\n",
              "      <td>-0.008420</td>\n",
              "      <td>-0.050198</td>\n",
              "      <td>-0.018959</td>\n",
              "      <td>-0.017194</td>\n",
              "      <td>-0.055202</td>\n",
              "      <td>-0.009649</td>\n",
              "      <td>-0.026822</td>\n",
              "      <td>...</td>\n",
              "      <td>-0.008163</td>\n",
              "      <td>0.016061</td>\n",
              "      <td>0.000178</td>\n",
              "      <td>-0.011523</td>\n",
              "      <td>0.015680</td>\n",
              "      <td>-0.013873</td>\n",
              "      <td>-0.005626</td>\n",
              "      <td>0.014940</td>\n",
              "      <td>-0.007267</td>\n",
              "      <td>-0.012305</td>\n",
              "    </tr>\n",
              "    <tr>\n",
              "      <th>109409</th>\n",
              "      <td>109409</td>\n",
              "      <td>-0.043023</td>\n",
              "      <td>-0.040537</td>\n",
              "      <td>-0.030125</td>\n",
              "      <td>-0.051174</td>\n",
              "      <td>-0.036387</td>\n",
              "      <td>-0.028783</td>\n",
              "      <td>-0.046374</td>\n",
              "      <td>-0.028230</td>\n",
              "      <td>-0.038334</td>\n",
              "      <td>...</td>\n",
              "      <td>-0.032671</td>\n",
              "      <td>-0.001716</td>\n",
              "      <td>0.007283</td>\n",
              "      <td>-0.001700</td>\n",
              "      <td>-0.001506</td>\n",
              "      <td>-0.004036</td>\n",
              "      <td>0.019343</td>\n",
              "      <td>0.015427</td>\n",
              "      <td>-0.027098</td>\n",
              "      <td>0.011245</td>\n",
              "    </tr>\n",
              "    <tr>\n",
              "      <th>109410</th>\n",
              "      <td>109410</td>\n",
              "      <td>-0.034893</td>\n",
              "      <td>-0.033990</td>\n",
              "      <td>-0.027626</td>\n",
              "      <td>-0.040256</td>\n",
              "      <td>-0.031515</td>\n",
              "      <td>-0.026807</td>\n",
              "      <td>-0.037283</td>\n",
              "      <td>-0.026597</td>\n",
              "      <td>-0.032572</td>\n",
              "      <td>...</td>\n",
              "      <td>-0.017290</td>\n",
              "      <td>0.022589</td>\n",
              "      <td>0.030945</td>\n",
              "      <td>-0.009799</td>\n",
              "      <td>-0.004389</td>\n",
              "      <td>-0.036069</td>\n",
              "      <td>0.003044</td>\n",
              "      <td>0.017544</td>\n",
              "      <td>-0.006785</td>\n",
              "      <td>0.006392</td>\n",
              "    </tr>\n",
              "    <tr>\n",
              "      <th>109411</th>\n",
              "      <td>109411</td>\n",
              "      <td>-0.033150</td>\n",
              "      <td>-0.029210</td>\n",
              "      <td>-0.013862</td>\n",
              "      <td>-0.037316</td>\n",
              "      <td>-0.020679</td>\n",
              "      <td>-0.020880</td>\n",
              "      <td>-0.042050</td>\n",
              "      <td>-0.016437</td>\n",
              "      <td>-0.025194</td>\n",
              "      <td>...</td>\n",
              "      <td>-0.003647</td>\n",
              "      <td>-0.019774</td>\n",
              "      <td>0.013721</td>\n",
              "      <td>-0.001328</td>\n",
              "      <td>-0.004545</td>\n",
              "      <td>-0.001915</td>\n",
              "      <td>0.023282</td>\n",
              "      <td>-0.010563</td>\n",
              "      <td>0.003813</td>\n",
              "      <td>0.003407</td>\n",
              "    </tr>\n",
              "    <tr>\n",
              "      <th>109412</th>\n",
              "      <td>109412</td>\n",
              "      <td>-0.011201</td>\n",
              "      <td>-0.013140</td>\n",
              "      <td>-0.008364</td>\n",
              "      <td>-0.013315</td>\n",
              "      <td>-0.012308</td>\n",
              "      <td>-0.007785</td>\n",
              "      <td>-0.010754</td>\n",
              "      <td>-0.009410</td>\n",
              "      <td>-0.011477</td>\n",
              "      <td>...</td>\n",
              "      <td>-0.021350</td>\n",
              "      <td>0.013721</td>\n",
              "      <td>-0.020747</td>\n",
              "      <td>-0.024406</td>\n",
              "      <td>0.045886</td>\n",
              "      <td>-0.005199</td>\n",
              "      <td>-0.003213</td>\n",
              "      <td>0.017579</td>\n",
              "      <td>-0.022044</td>\n",
              "      <td>0.009405</td>\n",
              "    </tr>\n",
              "  </tbody>\n",
              "</table>\n",
              "<p>109383 rows × 115 columns</p>\n",
              "</div>\n",
              "      <button class=\"colab-df-convert\" onclick=\"convertToInteractive('df-4ec6634c-ad6c-4d35-bfe9-cf669698d5ce')\"\n",
              "              title=\"Convert this dataframe to an interactive table.\"\n",
              "              style=\"display:none;\">\n",
              "        \n",
              "  <svg xmlns=\"http://www.w3.org/2000/svg\" height=\"24px\"viewBox=\"0 0 24 24\"\n",
              "       width=\"24px\">\n",
              "    <path d=\"M0 0h24v24H0V0z\" fill=\"none\"/>\n",
              "    <path d=\"M18.56 5.44l.94 2.06.94-2.06 2.06-.94-2.06-.94-.94-2.06-.94 2.06-2.06.94zm-11 1L8.5 8.5l.94-2.06 2.06-.94-2.06-.94L8.5 2.5l-.94 2.06-2.06.94zm10 10l.94 2.06.94-2.06 2.06-.94-2.06-.94-.94-2.06-.94 2.06-2.06.94z\"/><path d=\"M17.41 7.96l-1.37-1.37c-.4-.4-.92-.59-1.43-.59-.52 0-1.04.2-1.43.59L10.3 9.45l-7.72 7.72c-.78.78-.78 2.05 0 2.83L4 21.41c.39.39.9.59 1.41.59.51 0 1.02-.2 1.41-.59l7.78-7.78 2.81-2.81c.8-.78.8-2.07 0-2.86zM5.41 20L4 18.59l7.72-7.72 1.47 1.35L5.41 20z\"/>\n",
              "  </svg>\n",
              "      </button>\n",
              "      \n",
              "  <style>\n",
              "    .colab-df-container {\n",
              "      display:flex;\n",
              "      flex-wrap:wrap;\n",
              "      gap: 12px;\n",
              "    }\n",
              "\n",
              "    .colab-df-convert {\n",
              "      background-color: #E8F0FE;\n",
              "      border: none;\n",
              "      border-radius: 50%;\n",
              "      cursor: pointer;\n",
              "      display: none;\n",
              "      fill: #1967D2;\n",
              "      height: 32px;\n",
              "      padding: 0 0 0 0;\n",
              "      width: 32px;\n",
              "    }\n",
              "\n",
              "    .colab-df-convert:hover {\n",
              "      background-color: #E2EBFA;\n",
              "      box-shadow: 0px 1px 2px rgba(60, 64, 67, 0.3), 0px 1px 3px 1px rgba(60, 64, 67, 0.15);\n",
              "      fill: #174EA6;\n",
              "    }\n",
              "\n",
              "    [theme=dark] .colab-df-convert {\n",
              "      background-color: #3B4455;\n",
              "      fill: #D2E3FC;\n",
              "    }\n",
              "\n",
              "    [theme=dark] .colab-df-convert:hover {\n",
              "      background-color: #434B5C;\n",
              "      box-shadow: 0px 1px 3px 1px rgba(0, 0, 0, 0.15);\n",
              "      filter: drop-shadow(0px 1px 2px rgba(0, 0, 0, 0.3));\n",
              "      fill: #FFFFFF;\n",
              "    }\n",
              "  </style>\n",
              "\n",
              "      <script>\n",
              "        const buttonEl =\n",
              "          document.querySelector('#df-4ec6634c-ad6c-4d35-bfe9-cf669698d5ce button.colab-df-convert');\n",
              "        buttonEl.style.display =\n",
              "          google.colab.kernel.accessAllowed ? 'block' : 'none';\n",
              "\n",
              "        async function convertToInteractive(key) {\n",
              "          const element = document.querySelector('#df-4ec6634c-ad6c-4d35-bfe9-cf669698d5ce');\n",
              "          const dataTable =\n",
              "            await google.colab.kernel.invokeFunction('convertToInteractive',\n",
              "                                                     [key], {});\n",
              "          if (!dataTable) return;\n",
              "\n",
              "          const docLinkHtml = 'Like what you see? Visit the ' +\n",
              "            '<a target=\"_blank\" href=https://colab.research.google.com/notebooks/data_table.ipynb>data table notebook</a>'\n",
              "            + ' to learn more about interactive tables.';\n",
              "          element.innerHTML = '';\n",
              "          dataTable['output_type'] = 'display_data';\n",
              "          await google.colab.output.renderOutput(dataTable, element);\n",
              "          const docLink = document.createElement('div');\n",
              "          docLink.innerHTML = docLinkHtml;\n",
              "          element.appendChild(docLink);\n",
              "        }\n",
              "      </script>\n",
              "    </div>\n",
              "  </div>\n",
              "  "
            ]
          },
          "metadata": {},
          "execution_count": 66
        }
      ],
      "source": [
        "X_"
      ]
    },
    {
      "cell_type": "code",
      "execution_count": null,
      "metadata": {
        "id": "sSCbW-deS1xv"
      },
      "outputs": [],
      "source": [
        "X_ = X_.reset_index(drop=True)"
      ]
    },
    {
      "cell_type": "code",
      "execution_count": null,
      "metadata": {
        "id": "SSO8r2whURPH"
      },
      "outputs": [],
      "source": [
        "#X_ = X_.drop([\"Unnamed: 0\"], axis=1)"
      ]
    },
    {
      "cell_type": "code",
      "execution_count": null,
      "metadata": {
        "id": "snFOUnPZb-dz"
      },
      "outputs": [],
      "source": [
        "X_train, X_test, y_train, y_test = train_test_split(X_, y_[\"0\"], test_size=0.2)"
      ]
    },
    {
      "cell_type": "code",
      "execution_count": null,
      "metadata": {
        "colab": {
          "base_uri": "https://localhost:8080/"
        },
        "id": "SyO8M9MwhCte",
        "outputId": "cbcde205-763a-44f3-9729-59608a425ad0"
      },
      "outputs": [
        {
          "output_type": "execute_result",
          "data": {
            "text/plain": [
              "18043     6\n",
              "50675     6\n",
              "4958      0\n",
              "106744    6\n",
              "81579     6\n",
              "         ..\n",
              "74098     6\n",
              "31617     6\n",
              "63490     6\n",
              "45346     6\n",
              "43109     6\n",
              "Name: 0, Length: 87506, dtype: int64"
            ]
          },
          "metadata": {},
          "execution_count": 70
        }
      ],
      "source": [
        "y_train"
      ]
    },
    {
      "cell_type": "code",
      "execution_count": null,
      "metadata": {
        "colab": {
          "base_uri": "https://localhost:8080/",
          "height": 53
        },
        "id": "VJ-6uDOe8ez1",
        "outputId": "cff80ca9-5f94-442e-d76e-638ce185f7c8"
      },
      "outputs": [
        {
          "output_type": "execute_result",
          "data": {
            "text/plain": [
              "\"\\nclf = make_pipeline(StandardScaler(), SVC(gamma='auto', verbose=True))\\nclf.fit(X_train, y_train)\""
            ],
            "application/vnd.google.colaboratory.intrinsic+json": {
              "type": "string"
            }
          },
          "metadata": {},
          "execution_count": 71
        }
      ],
      "source": [
        "\"\"\"\n",
        "clf = make_pipeline(StandardScaler(), SVC(gamma='auto', verbose=True))\n",
        "clf.fit(X_train, y_train)\"\"\""
      ]
    },
    {
      "cell_type": "code",
      "execution_count": null,
      "metadata": {
        "id": "whvXSrw0I1aa"
      },
      "outputs": [],
      "source": [
        "filename = 'finalized_model.sav'\n",
        "import pickle\n",
        "\n",
        "#pickle.dump(clf, open(filename, 'wb'))"
      ]
    },
    {
      "cell_type": "code",
      "execution_count": null,
      "metadata": {
        "id": "y9ep6YZVKTWz"
      },
      "outputs": [],
      "source": [
        "clf = pickle.load(open(filename, \"rb\"))"
      ]
    },
    {
      "cell_type": "code",
      "source": [
        "X_ = X_.reset_index(drop=True)\n",
        "X_train, X_test, y_train, y_test = train_test_split(X_, y_[\"0\"], test_size=1.0)"
      ],
      "metadata": {
        "id": "ufETaj_ziyG0"
      },
      "execution_count": null,
      "outputs": []
    },
    {
      "cell_type": "code",
      "execution_count": null,
      "metadata": {
        "colab": {
          "base_uri": "https://localhost:8080/",
          "height": 505
        },
        "id": "4eZ_TD-46_gI",
        "outputId": "65af8b8f-3baf-4903-b7f0-748fe6295db5"
      },
      "outputs": [
        {
          "data": {
            "text/html": [
              "\n",
              "  <div id=\"df-07ae0c92-0b8b-43cf-9d33-aeb06ba9fd3a\">\n",
              "    <div class=\"colab-df-container\">\n",
              "      <div>\n",
              "<style scoped>\n",
              "    .dataframe tbody tr th:only-of-type {\n",
              "        vertical-align: middle;\n",
              "    }\n",
              "\n",
              "    .dataframe tbody tr th {\n",
              "        vertical-align: top;\n",
              "    }\n",
              "\n",
              "    .dataframe thead th {\n",
              "        text-align: right;\n",
              "    }\n",
              "</style>\n",
              "<table border=\"1\" class=\"dataframe\">\n",
              "  <thead>\n",
              "    <tr style=\"text-align: right;\">\n",
              "      <th></th>\n",
              "      <th>Unnamed: 0</th>\n",
              "      <th>0</th>\n",
              "      <th>1</th>\n",
              "      <th>2</th>\n",
              "      <th>3</th>\n",
              "      <th>4</th>\n",
              "      <th>5</th>\n",
              "      <th>6</th>\n",
              "      <th>7</th>\n",
              "      <th>8</th>\n",
              "      <th>...</th>\n",
              "      <th>104</th>\n",
              "      <th>105</th>\n",
              "      <th>106</th>\n",
              "      <th>107</th>\n",
              "      <th>108</th>\n",
              "      <th>109</th>\n",
              "      <th>110</th>\n",
              "      <th>111</th>\n",
              "      <th>112</th>\n",
              "      <th>113</th>\n",
              "    </tr>\n",
              "  </thead>\n",
              "  <tbody>\n",
              "    <tr>\n",
              "      <th>100927</th>\n",
              "      <td>100955</td>\n",
              "      <td>0.004592</td>\n",
              "      <td>0.008363</td>\n",
              "      <td>0.009711</td>\n",
              "      <td>0.006761</td>\n",
              "      <td>0.010884</td>\n",
              "      <td>0.005603</td>\n",
              "      <td>0.001376</td>\n",
              "      <td>0.009056</td>\n",
              "      <td>0.008328</td>\n",
              "      <td>...</td>\n",
              "      <td>0.006797</td>\n",
              "      <td>-0.003395</td>\n",
              "      <td>-0.004510</td>\n",
              "      <td>0.000884</td>\n",
              "      <td>0.001244</td>\n",
              "      <td>0.005230</td>\n",
              "      <td>-0.001012</td>\n",
              "      <td>0.010177</td>\n",
              "      <td>0.029183</td>\n",
              "      <td>-0.016492</td>\n",
              "    </tr>\n",
              "    <tr>\n",
              "      <th>16794</th>\n",
              "      <td>16798</td>\n",
              "      <td>-0.106177</td>\n",
              "      <td>-0.084816</td>\n",
              "      <td>-0.037972</td>\n",
              "      <td>-0.124311</td>\n",
              "      <td>-0.056976</td>\n",
              "      <td>-0.055885</td>\n",
              "      <td>-0.135236</td>\n",
              "      <td>-0.038780</td>\n",
              "      <td>-0.074589</td>\n",
              "      <td>...</td>\n",
              "      <td>0.036242</td>\n",
              "      <td>0.041206</td>\n",
              "      <td>0.059387</td>\n",
              "      <td>0.010308</td>\n",
              "      <td>-0.049758</td>\n",
              "      <td>-0.056025</td>\n",
              "      <td>-0.027989</td>\n",
              "      <td>-0.025091</td>\n",
              "      <td>0.006204</td>\n",
              "      <td>-0.005590</td>\n",
              "    </tr>\n",
              "    <tr>\n",
              "      <th>71066</th>\n",
              "      <td>71085</td>\n",
              "      <td>-0.018706</td>\n",
              "      <td>-0.051812</td>\n",
              "      <td>-0.056523</td>\n",
              "      <td>-0.012939</td>\n",
              "      <td>-0.058740</td>\n",
              "      <td>-0.062291</td>\n",
              "      <td>-0.018790</td>\n",
              "      <td>-0.072762</td>\n",
              "      <td>-0.046577</td>\n",
              "      <td>...</td>\n",
              "      <td>0.056701</td>\n",
              "      <td>-0.020428</td>\n",
              "      <td>-0.010182</td>\n",
              "      <td>0.043374</td>\n",
              "      <td>-0.054293</td>\n",
              "      <td>0.035902</td>\n",
              "      <td>-0.019989</td>\n",
              "      <td>-0.029496</td>\n",
              "      <td>-0.000763</td>\n",
              "      <td>-0.133597</td>\n",
              "    </tr>\n",
              "    <tr>\n",
              "      <th>89764</th>\n",
              "      <td>89788</td>\n",
              "      <td>-0.004239</td>\n",
              "      <td>0.000668</td>\n",
              "      <td>-0.002916</td>\n",
              "      <td>-0.006802</td>\n",
              "      <td>0.000233</td>\n",
              "      <td>-0.000046</td>\n",
              "      <td>-0.004810</td>\n",
              "      <td>0.001736</td>\n",
              "      <td>-0.001481</td>\n",
              "      <td>...</td>\n",
              "      <td>-0.003387</td>\n",
              "      <td>0.007586</td>\n",
              "      <td>0.033952</td>\n",
              "      <td>0.003660</td>\n",
              "      <td>-0.024754</td>\n",
              "      <td>-0.024188</td>\n",
              "      <td>0.006914</td>\n",
              "      <td>-0.004093</td>\n",
              "      <td>0.003725</td>\n",
              "      <td>0.022736</td>\n",
              "    </tr>\n",
              "    <tr>\n",
              "      <th>45819</th>\n",
              "      <td>45831</td>\n",
              "      <td>-0.045050</td>\n",
              "      <td>-0.031368</td>\n",
              "      <td>-0.003709</td>\n",
              "      <td>-0.060991</td>\n",
              "      <td>-0.012357</td>\n",
              "      <td>-0.016135</td>\n",
              "      <td>-0.070341</td>\n",
              "      <td>-0.002228</td>\n",
              "      <td>-0.025362</td>\n",
              "      <td>...</td>\n",
              "      <td>0.024162</td>\n",
              "      <td>-0.023060</td>\n",
              "      <td>0.005170</td>\n",
              "      <td>0.005557</td>\n",
              "      <td>-0.009487</td>\n",
              "      <td>0.008494</td>\n",
              "      <td>0.007565</td>\n",
              "      <td>-0.031335</td>\n",
              "      <td>0.015609</td>\n",
              "      <td>0.001595</td>\n",
              "    </tr>\n",
              "    <tr>\n",
              "      <th>...</th>\n",
              "      <td>...</td>\n",
              "      <td>...</td>\n",
              "      <td>...</td>\n",
              "      <td>...</td>\n",
              "      <td>...</td>\n",
              "      <td>...</td>\n",
              "      <td>...</td>\n",
              "      <td>...</td>\n",
              "      <td>...</td>\n",
              "      <td>...</td>\n",
              "      <td>...</td>\n",
              "      <td>...</td>\n",
              "      <td>...</td>\n",
              "      <td>...</td>\n",
              "      <td>...</td>\n",
              "      <td>...</td>\n",
              "      <td>...</td>\n",
              "      <td>...</td>\n",
              "      <td>...</td>\n",
              "      <td>...</td>\n",
              "      <td>...</td>\n",
              "    </tr>\n",
              "    <tr>\n",
              "      <th>101898</th>\n",
              "      <td>101927</td>\n",
              "      <td>-0.019086</td>\n",
              "      <td>-0.016522</td>\n",
              "      <td>-0.009434</td>\n",
              "      <td>-0.023379</td>\n",
              "      <td>-0.012227</td>\n",
              "      <td>-0.011556</td>\n",
              "      <td>-0.024224</td>\n",
              "      <td>-0.008899</td>\n",
              "      <td>-0.015269</td>\n",
              "      <td>...</td>\n",
              "      <td>0.009277</td>\n",
              "      <td>-0.037199</td>\n",
              "      <td>0.022083</td>\n",
              "      <td>0.014221</td>\n",
              "      <td>-0.030925</td>\n",
              "      <td>0.009046</td>\n",
              "      <td>0.032637</td>\n",
              "      <td>-0.007180</td>\n",
              "      <td>0.055462</td>\n",
              "      <td>-0.010179</td>\n",
              "    </tr>\n",
              "    <tr>\n",
              "      <th>70410</th>\n",
              "      <td>70429</td>\n",
              "      <td>-0.038239</td>\n",
              "      <td>-0.031160</td>\n",
              "      <td>-0.020594</td>\n",
              "      <td>-0.043268</td>\n",
              "      <td>-0.023922</td>\n",
              "      <td>-0.025277</td>\n",
              "      <td>-0.046899</td>\n",
              "      <td>-0.019740</td>\n",
              "      <td>-0.029139</td>\n",
              "      <td>...</td>\n",
              "      <td>0.015242</td>\n",
              "      <td>0.025692</td>\n",
              "      <td>-0.016885</td>\n",
              "      <td>0.000747</td>\n",
              "      <td>0.007323</td>\n",
              "      <td>-0.001489</td>\n",
              "      <td>-0.030017</td>\n",
              "      <td>0.008451</td>\n",
              "      <td>0.025934</td>\n",
              "      <td>0.014270</td>\n",
              "    </tr>\n",
              "    <tr>\n",
              "      <th>98922</th>\n",
              "      <td>98949</td>\n",
              "      <td>-0.028285</td>\n",
              "      <td>-0.026157</td>\n",
              "      <td>-0.019999</td>\n",
              "      <td>-0.033207</td>\n",
              "      <td>-0.021964</td>\n",
              "      <td>-0.022223</td>\n",
              "      <td>-0.034515</td>\n",
              "      <td>-0.019241</td>\n",
              "      <td>-0.025216</td>\n",
              "      <td>...</td>\n",
              "      <td>0.000580</td>\n",
              "      <td>0.004174</td>\n",
              "      <td>0.013243</td>\n",
              "      <td>-0.000010</td>\n",
              "      <td>-0.007614</td>\n",
              "      <td>-0.010819</td>\n",
              "      <td>0.000488</td>\n",
              "      <td>-0.003746</td>\n",
              "      <td>0.005434</td>\n",
              "      <td>0.018347</td>\n",
              "    </tr>\n",
              "    <tr>\n",
              "      <th>78477</th>\n",
              "      <td>78498</td>\n",
              "      <td>-0.170526</td>\n",
              "      <td>-0.159768</td>\n",
              "      <td>-0.100814</td>\n",
              "      <td>-0.193815</td>\n",
              "      <td>-0.131100</td>\n",
              "      <td>-0.117580</td>\n",
              "      <td>-0.198169</td>\n",
              "      <td>-0.106916</td>\n",
              "      <td>-0.144234</td>\n",
              "      <td>...</td>\n",
              "      <td>0.010702</td>\n",
              "      <td>-0.033035</td>\n",
              "      <td>-0.000653</td>\n",
              "      <td>-0.020930</td>\n",
              "      <td>0.031812</td>\n",
              "      <td>0.003206</td>\n",
              "      <td>0.024760</td>\n",
              "      <td>-0.030516</td>\n",
              "      <td>-0.004355</td>\n",
              "      <td>-0.018181</td>\n",
              "    </tr>\n",
              "    <tr>\n",
              "      <th>27603</th>\n",
              "      <td>27609</td>\n",
              "      <td>-0.038459</td>\n",
              "      <td>-0.029544</td>\n",
              "      <td>-0.019626</td>\n",
              "      <td>-0.045929</td>\n",
              "      <td>-0.022090</td>\n",
              "      <td>-0.022570</td>\n",
              "      <td>-0.047705</td>\n",
              "      <td>-0.016229</td>\n",
              "      <td>-0.028460</td>\n",
              "      <td>...</td>\n",
              "      <td>0.007895</td>\n",
              "      <td>0.016749</td>\n",
              "      <td>0.004189</td>\n",
              "      <td>0.004437</td>\n",
              "      <td>-0.009718</td>\n",
              "      <td>-0.007645</td>\n",
              "      <td>-0.016887</td>\n",
              "      <td>0.001829</td>\n",
              "      <td>0.002131</td>\n",
              "      <td>-0.001270</td>\n",
              "    </tr>\n",
              "  </tbody>\n",
              "</table>\n",
              "<p>21877 rows × 115 columns</p>\n",
              "</div>\n",
              "      <button class=\"colab-df-convert\" onclick=\"convertToInteractive('df-07ae0c92-0b8b-43cf-9d33-aeb06ba9fd3a')\"\n",
              "              title=\"Convert this dataframe to an interactive table.\"\n",
              "              style=\"display:none;\">\n",
              "        \n",
              "  <svg xmlns=\"http://www.w3.org/2000/svg\" height=\"24px\"viewBox=\"0 0 24 24\"\n",
              "       width=\"24px\">\n",
              "    <path d=\"M0 0h24v24H0V0z\" fill=\"none\"/>\n",
              "    <path d=\"M18.56 5.44l.94 2.06.94-2.06 2.06-.94-2.06-.94-.94-2.06-.94 2.06-2.06.94zm-11 1L8.5 8.5l.94-2.06 2.06-.94-2.06-.94L8.5 2.5l-.94 2.06-2.06.94zm10 10l.94 2.06.94-2.06 2.06-.94-2.06-.94-.94-2.06-.94 2.06-2.06.94z\"/><path d=\"M17.41 7.96l-1.37-1.37c-.4-.4-.92-.59-1.43-.59-.52 0-1.04.2-1.43.59L10.3 9.45l-7.72 7.72c-.78.78-.78 2.05 0 2.83L4 21.41c.39.39.9.59 1.41.59.51 0 1.02-.2 1.41-.59l7.78-7.78 2.81-2.81c.8-.78.8-2.07 0-2.86zM5.41 20L4 18.59l7.72-7.72 1.47 1.35L5.41 20z\"/>\n",
              "  </svg>\n",
              "      </button>\n",
              "      \n",
              "  <style>\n",
              "    .colab-df-container {\n",
              "      display:flex;\n",
              "      flex-wrap:wrap;\n",
              "      gap: 12px;\n",
              "    }\n",
              "\n",
              "    .colab-df-convert {\n",
              "      background-color: #E8F0FE;\n",
              "      border: none;\n",
              "      border-radius: 50%;\n",
              "      cursor: pointer;\n",
              "      display: none;\n",
              "      fill: #1967D2;\n",
              "      height: 32px;\n",
              "      padding: 0 0 0 0;\n",
              "      width: 32px;\n",
              "    }\n",
              "\n",
              "    .colab-df-convert:hover {\n",
              "      background-color: #E2EBFA;\n",
              "      box-shadow: 0px 1px 2px rgba(60, 64, 67, 0.3), 0px 1px 3px 1px rgba(60, 64, 67, 0.15);\n",
              "      fill: #174EA6;\n",
              "    }\n",
              "\n",
              "    [theme=dark] .colab-df-convert {\n",
              "      background-color: #3B4455;\n",
              "      fill: #D2E3FC;\n",
              "    }\n",
              "\n",
              "    [theme=dark] .colab-df-convert:hover {\n",
              "      background-color: #434B5C;\n",
              "      box-shadow: 0px 1px 3px 1px rgba(0, 0, 0, 0.15);\n",
              "      filter: drop-shadow(0px 1px 2px rgba(0, 0, 0, 0.3));\n",
              "      fill: #FFFFFF;\n",
              "    }\n",
              "  </style>\n",
              "\n",
              "      <script>\n",
              "        const buttonEl =\n",
              "          document.querySelector('#df-07ae0c92-0b8b-43cf-9d33-aeb06ba9fd3a button.colab-df-convert');\n",
              "        buttonEl.style.display =\n",
              "          google.colab.kernel.accessAllowed ? 'block' : 'none';\n",
              "\n",
              "        async function convertToInteractive(key) {\n",
              "          const element = document.querySelector('#df-07ae0c92-0b8b-43cf-9d33-aeb06ba9fd3a');\n",
              "          const dataTable =\n",
              "            await google.colab.kernel.invokeFunction('convertToInteractive',\n",
              "                                                     [key], {});\n",
              "          if (!dataTable) return;\n",
              "\n",
              "          const docLinkHtml = 'Like what you see? Visit the ' +\n",
              "            '<a target=\"_blank\" href=https://colab.research.google.com/notebooks/data_table.ipynb>data table notebook</a>'\n",
              "            + ' to learn more about interactive tables.';\n",
              "          element.innerHTML = '';\n",
              "          dataTable['output_type'] = 'display_data';\n",
              "          await google.colab.output.renderOutput(dataTable, element);\n",
              "          const docLink = document.createElement('div');\n",
              "          docLink.innerHTML = docLinkHtml;\n",
              "          element.appendChild(docLink);\n",
              "        }\n",
              "      </script>\n",
              "    </div>\n",
              "  </div>\n",
              "  "
            ],
            "text/plain": [
              "        Unnamed: 0         0         1         2         3         4  \\\n",
              "100927      100955  0.004592  0.008363  0.009711  0.006761  0.010884   \n",
              "16794        16798 -0.106177 -0.084816 -0.037972 -0.124311 -0.056976   \n",
              "71066        71085 -0.018706 -0.051812 -0.056523 -0.012939 -0.058740   \n",
              "89764        89788 -0.004239  0.000668 -0.002916 -0.006802  0.000233   \n",
              "45819        45831 -0.045050 -0.031368 -0.003709 -0.060991 -0.012357   \n",
              "...            ...       ...       ...       ...       ...       ...   \n",
              "101898      101927 -0.019086 -0.016522 -0.009434 -0.023379 -0.012227   \n",
              "70410        70429 -0.038239 -0.031160 -0.020594 -0.043268 -0.023922   \n",
              "98922        98949 -0.028285 -0.026157 -0.019999 -0.033207 -0.021964   \n",
              "78477        78498 -0.170526 -0.159768 -0.100814 -0.193815 -0.131100   \n",
              "27603        27609 -0.038459 -0.029544 -0.019626 -0.045929 -0.022090   \n",
              "\n",
              "               5         6         7         8  ...       104       105  \\\n",
              "100927  0.005603  0.001376  0.009056  0.008328  ...  0.006797 -0.003395   \n",
              "16794  -0.055885 -0.135236 -0.038780 -0.074589  ...  0.036242  0.041206   \n",
              "71066  -0.062291 -0.018790 -0.072762 -0.046577  ...  0.056701 -0.020428   \n",
              "89764  -0.000046 -0.004810  0.001736 -0.001481  ... -0.003387  0.007586   \n",
              "45819  -0.016135 -0.070341 -0.002228 -0.025362  ...  0.024162 -0.023060   \n",
              "...          ...       ...       ...       ...  ...       ...       ...   \n",
              "101898 -0.011556 -0.024224 -0.008899 -0.015269  ...  0.009277 -0.037199   \n",
              "70410  -0.025277 -0.046899 -0.019740 -0.029139  ...  0.015242  0.025692   \n",
              "98922  -0.022223 -0.034515 -0.019241 -0.025216  ...  0.000580  0.004174   \n",
              "78477  -0.117580 -0.198169 -0.106916 -0.144234  ...  0.010702 -0.033035   \n",
              "27603  -0.022570 -0.047705 -0.016229 -0.028460  ...  0.007895  0.016749   \n",
              "\n",
              "             106       107       108       109       110       111       112  \\\n",
              "100927 -0.004510  0.000884  0.001244  0.005230 -0.001012  0.010177  0.029183   \n",
              "16794   0.059387  0.010308 -0.049758 -0.056025 -0.027989 -0.025091  0.006204   \n",
              "71066  -0.010182  0.043374 -0.054293  0.035902 -0.019989 -0.029496 -0.000763   \n",
              "89764   0.033952  0.003660 -0.024754 -0.024188  0.006914 -0.004093  0.003725   \n",
              "45819   0.005170  0.005557 -0.009487  0.008494  0.007565 -0.031335  0.015609   \n",
              "...          ...       ...       ...       ...       ...       ...       ...   \n",
              "101898  0.022083  0.014221 -0.030925  0.009046  0.032637 -0.007180  0.055462   \n",
              "70410  -0.016885  0.000747  0.007323 -0.001489 -0.030017  0.008451  0.025934   \n",
              "98922   0.013243 -0.000010 -0.007614 -0.010819  0.000488 -0.003746  0.005434   \n",
              "78477  -0.000653 -0.020930  0.031812  0.003206  0.024760 -0.030516 -0.004355   \n",
              "27603   0.004189  0.004437 -0.009718 -0.007645 -0.016887  0.001829  0.002131   \n",
              "\n",
              "             113  \n",
              "100927 -0.016492  \n",
              "16794  -0.005590  \n",
              "71066  -0.133597  \n",
              "89764   0.022736  \n",
              "45819   0.001595  \n",
              "...          ...  \n",
              "101898 -0.010179  \n",
              "70410   0.014270  \n",
              "98922   0.018347  \n",
              "78477  -0.018181  \n",
              "27603  -0.001270  \n",
              "\n",
              "[21877 rows x 115 columns]"
            ]
          },
          "execution_count": 98,
          "metadata": {},
          "output_type": "execute_result"
        }
      ],
      "source": [
        "X_test"
      ]
    },
    {
      "cell_type": "code",
      "execution_count": null,
      "metadata": {
        "colab": {
          "base_uri": "https://localhost:8080/"
        },
        "id": "mnVPMYNr8VHS",
        "outputId": "9ceda341-3457-401c-b1d6-73f89bcad76b"
      },
      "outputs": [
        {
          "output_type": "execute_result",
          "data": {
            "text/plain": [
              "dict_keys(['/', 'A', 'E', 'F', 'J', 'L', 'N', 'R', 'S', 'V', 'a', 'e', 'f', 'j'])"
            ]
          },
          "metadata": {},
          "execution_count": 73
        }
      ],
      "source": [
        "le_dict.keys()"
      ]
    },
    {
      "cell_type": "code",
      "execution_count": null,
      "metadata": {
        "id": "WkIRTL2U62lo"
      },
      "outputs": [],
      "source": [
        "#y_pred = clf.predict(X_test)"
      ]
    },
    {
      "cell_type": "code",
      "execution_count": null,
      "metadata": {
        "id": "wDS32Zhe8fLP"
      },
      "outputs": [],
      "source": [
        "\n",
        "res = []\n",
        "for l in list(np.unique(y_pred)):\n",
        "    prec,recall,_,_ = precision_recall_fscore_support(np.array(y_test)==l,\n",
        "                                                      np.array(y_pred)==l,\n",
        "                                                      pos_label=True,average=None)\n",
        "    res.append([l,recall[0],recall[1]])"
      ]
    },
    {
      "cell_type": "code",
      "execution_count": null,
      "metadata": {
        "colab": {
          "base_uri": "https://localhost:8080/",
          "height": 287
        },
        "id": "2WbSTL4R_Fix",
        "outputId": "c500e06d-d888-42e2-9bee-78d9e21a0977"
      },
      "outputs": [
        {
          "ename": "AttributeError",
          "evalue": "ignored",
          "output_type": "error",
          "traceback": [
            "\u001b[0;31m---------------------------------------------------------------------------\u001b[0m",
            "\u001b[0;31mAttributeError\u001b[0m                            Traceback (most recent call last)",
            "\u001b[0;32m<ipython-input-53-89743cb4c1e7>\u001b[0m in \u001b[0;36m<module>\u001b[0;34m()\u001b[0m\n\u001b[0;32m----> 1\u001b[0;31m \u001b[0my_test\u001b[0m\u001b[0;34m.\u001b[0m\u001b[0mvalue_count\u001b[0m\u001b[0;34m\u001b[0m\u001b[0;34m\u001b[0m\u001b[0m\n\u001b[0m",
            "\u001b[0;32m/usr/local/lib/python3.7/dist-packages/pandas/core/generic.py\u001b[0m in \u001b[0;36m__getattr__\u001b[0;34m(self, name)\u001b[0m\n\u001b[1;32m   5485\u001b[0m         ):\n\u001b[1;32m   5486\u001b[0m             \u001b[0;32mreturn\u001b[0m \u001b[0mself\u001b[0m\u001b[0;34m[\u001b[0m\u001b[0mname\u001b[0m\u001b[0;34m]\u001b[0m\u001b[0;34m\u001b[0m\u001b[0;34m\u001b[0m\u001b[0m\n\u001b[0;32m-> 5487\u001b[0;31m         \u001b[0;32mreturn\u001b[0m \u001b[0mobject\u001b[0m\u001b[0;34m.\u001b[0m\u001b[0m__getattribute__\u001b[0m\u001b[0;34m(\u001b[0m\u001b[0mself\u001b[0m\u001b[0;34m,\u001b[0m \u001b[0mname\u001b[0m\u001b[0;34m)\u001b[0m\u001b[0;34m\u001b[0m\u001b[0;34m\u001b[0m\u001b[0m\n\u001b[0m\u001b[1;32m   5488\u001b[0m \u001b[0;34m\u001b[0m\u001b[0m\n\u001b[1;32m   5489\u001b[0m     \u001b[0;32mdef\u001b[0m \u001b[0m__setattr__\u001b[0m\u001b[0;34m(\u001b[0m\u001b[0mself\u001b[0m\u001b[0;34m,\u001b[0m \u001b[0mname\u001b[0m\u001b[0;34m:\u001b[0m \u001b[0mstr\u001b[0m\u001b[0;34m,\u001b[0m \u001b[0mvalue\u001b[0m\u001b[0;34m)\u001b[0m \u001b[0;34m->\u001b[0m \u001b[0;32mNone\u001b[0m\u001b[0;34m:\u001b[0m\u001b[0;34m\u001b[0m\u001b[0;34m\u001b[0m\u001b[0m\n",
            "\u001b[0;31mAttributeError\u001b[0m: 'Series' object has no attribute 'value_count'"
          ]
        }
      ],
      "source": [
        "y_test.value_count"
      ]
    },
    {
      "cell_type": "code",
      "execution_count": null,
      "metadata": {
        "colab": {
          "base_uri": "https://localhost:8080/",
          "height": 363
        },
        "id": "1qs-nRIn8qQg",
        "outputId": "a8bad4a5-f3c2-4de7-d28d-1d8c45f0361d"
      },
      "outputs": [
        {
          "data": {
            "text/html": [
              "\n",
              "  <div id=\"df-ad312686-ba2f-412e-8dad-4e45b5c0b420\">\n",
              "    <div class=\"colab-df-container\">\n",
              "      <div>\n",
              "<style scoped>\n",
              "    .dataframe tbody tr th:only-of-type {\n",
              "        vertical-align: middle;\n",
              "    }\n",
              "\n",
              "    .dataframe tbody tr th {\n",
              "        vertical-align: top;\n",
              "    }\n",
              "\n",
              "    .dataframe thead th {\n",
              "        text-align: right;\n",
              "    }\n",
              "</style>\n",
              "<table border=\"1\" class=\"dataframe\">\n",
              "  <thead>\n",
              "    <tr style=\"text-align: right;\">\n",
              "      <th></th>\n",
              "      <th>class</th>\n",
              "      <th>sensitivity</th>\n",
              "      <th>specificity</th>\n",
              "    </tr>\n",
              "  </thead>\n",
              "  <tbody>\n",
              "    <tr>\n",
              "      <th>0</th>\n",
              "      <td>0</td>\n",
              "      <td>0.999512</td>\n",
              "      <td>0.994982</td>\n",
              "    </tr>\n",
              "    <tr>\n",
              "      <th>1</th>\n",
              "      <td>1</td>\n",
              "      <td>0.999205</td>\n",
              "      <td>0.747454</td>\n",
              "    </tr>\n",
              "    <tr>\n",
              "      <th>2</th>\n",
              "      <td>2</td>\n",
              "      <td>0.999954</td>\n",
              "      <td>0.920000</td>\n",
              "    </tr>\n",
              "    <tr>\n",
              "      <th>3</th>\n",
              "      <td>3</td>\n",
              "      <td>0.999724</td>\n",
              "      <td>0.677632</td>\n",
              "    </tr>\n",
              "    <tr>\n",
              "      <th>4</th>\n",
              "      <td>5</td>\n",
              "      <td>0.999161</td>\n",
              "      <td>0.982032</td>\n",
              "    </tr>\n",
              "    <tr>\n",
              "      <th>5</th>\n",
              "      <td>6</td>\n",
              "      <td>0.944888</td>\n",
              "      <td>0.999066</td>\n",
              "    </tr>\n",
              "    <tr>\n",
              "      <th>6</th>\n",
              "      <td>7</td>\n",
              "      <td>0.999362</td>\n",
              "      <td>0.959005</td>\n",
              "    </tr>\n",
              "    <tr>\n",
              "      <th>7</th>\n",
              "      <td>9</td>\n",
              "      <td>0.998289</td>\n",
              "      <td>0.940225</td>\n",
              "    </tr>\n",
              "    <tr>\n",
              "      <th>8</th>\n",
              "      <td>10</td>\n",
              "      <td>1.000000</td>\n",
              "      <td>0.043478</td>\n",
              "    </tr>\n",
              "    <tr>\n",
              "      <th>9</th>\n",
              "      <td>12</td>\n",
              "      <td>0.999861</td>\n",
              "      <td>0.890909</td>\n",
              "    </tr>\n",
              "  </tbody>\n",
              "</table>\n",
              "</div>\n",
              "      <button class=\"colab-df-convert\" onclick=\"convertToInteractive('df-ad312686-ba2f-412e-8dad-4e45b5c0b420')\"\n",
              "              title=\"Convert this dataframe to an interactive table.\"\n",
              "              style=\"display:none;\">\n",
              "        \n",
              "  <svg xmlns=\"http://www.w3.org/2000/svg\" height=\"24px\"viewBox=\"0 0 24 24\"\n",
              "       width=\"24px\">\n",
              "    <path d=\"M0 0h24v24H0V0z\" fill=\"none\"/>\n",
              "    <path d=\"M18.56 5.44l.94 2.06.94-2.06 2.06-.94-2.06-.94-.94-2.06-.94 2.06-2.06.94zm-11 1L8.5 8.5l.94-2.06 2.06-.94-2.06-.94L8.5 2.5l-.94 2.06-2.06.94zm10 10l.94 2.06.94-2.06 2.06-.94-2.06-.94-.94-2.06-.94 2.06-2.06.94z\"/><path d=\"M17.41 7.96l-1.37-1.37c-.4-.4-.92-.59-1.43-.59-.52 0-1.04.2-1.43.59L10.3 9.45l-7.72 7.72c-.78.78-.78 2.05 0 2.83L4 21.41c.39.39.9.59 1.41.59.51 0 1.02-.2 1.41-.59l7.78-7.78 2.81-2.81c.8-.78.8-2.07 0-2.86zM5.41 20L4 18.59l7.72-7.72 1.47 1.35L5.41 20z\"/>\n",
              "  </svg>\n",
              "      </button>\n",
              "      \n",
              "  <style>\n",
              "    .colab-df-container {\n",
              "      display:flex;\n",
              "      flex-wrap:wrap;\n",
              "      gap: 12px;\n",
              "    }\n",
              "\n",
              "    .colab-df-convert {\n",
              "      background-color: #E8F0FE;\n",
              "      border: none;\n",
              "      border-radius: 50%;\n",
              "      cursor: pointer;\n",
              "      display: none;\n",
              "      fill: #1967D2;\n",
              "      height: 32px;\n",
              "      padding: 0 0 0 0;\n",
              "      width: 32px;\n",
              "    }\n",
              "\n",
              "    .colab-df-convert:hover {\n",
              "      background-color: #E2EBFA;\n",
              "      box-shadow: 0px 1px 2px rgba(60, 64, 67, 0.3), 0px 1px 3px 1px rgba(60, 64, 67, 0.15);\n",
              "      fill: #174EA6;\n",
              "    }\n",
              "\n",
              "    [theme=dark] .colab-df-convert {\n",
              "      background-color: #3B4455;\n",
              "      fill: #D2E3FC;\n",
              "    }\n",
              "\n",
              "    [theme=dark] .colab-df-convert:hover {\n",
              "      background-color: #434B5C;\n",
              "      box-shadow: 0px 1px 3px 1px rgba(0, 0, 0, 0.15);\n",
              "      filter: drop-shadow(0px 1px 2px rgba(0, 0, 0, 0.3));\n",
              "      fill: #FFFFFF;\n",
              "    }\n",
              "  </style>\n",
              "\n",
              "      <script>\n",
              "        const buttonEl =\n",
              "          document.querySelector('#df-ad312686-ba2f-412e-8dad-4e45b5c0b420 button.colab-df-convert');\n",
              "        buttonEl.style.display =\n",
              "          google.colab.kernel.accessAllowed ? 'block' : 'none';\n",
              "\n",
              "        async function convertToInteractive(key) {\n",
              "          const element = document.querySelector('#df-ad312686-ba2f-412e-8dad-4e45b5c0b420');\n",
              "          const dataTable =\n",
              "            await google.colab.kernel.invokeFunction('convertToInteractive',\n",
              "                                                     [key], {});\n",
              "          if (!dataTable) return;\n",
              "\n",
              "          const docLinkHtml = 'Like what you see? Visit the ' +\n",
              "            '<a target=\"_blank\" href=https://colab.research.google.com/notebooks/data_table.ipynb>data table notebook</a>'\n",
              "            + ' to learn more about interactive tables.';\n",
              "          element.innerHTML = '';\n",
              "          dataTable['output_type'] = 'display_data';\n",
              "          await google.colab.output.renderOutput(dataTable, element);\n",
              "          const docLink = document.createElement('div');\n",
              "          docLink.innerHTML = docLinkHtml;\n",
              "          element.appendChild(docLink);\n",
              "        }\n",
              "      </script>\n",
              "    </div>\n",
              "  </div>\n",
              "  "
            ],
            "text/plain": [
              "   class  sensitivity  specificity\n",
              "0      0     0.999512     0.994982\n",
              "1      1     0.999205     0.747454\n",
              "2      2     0.999954     0.920000\n",
              "3      3     0.999724     0.677632\n",
              "4      5     0.999161     0.982032\n",
              "5      6     0.944888     0.999066\n",
              "6      7     0.999362     0.959005\n",
              "7      9     0.998289     0.940225\n",
              "8     10     1.000000     0.043478\n",
              "9     12     0.999861     0.890909"
            ]
          },
          "execution_count": 51,
          "metadata": {},
          "output_type": "execute_result"
        }
      ],
      "source": [
        "pd.DataFrame(res,columns = ['class','sensitivity','specificity'])"
      ]
    },
    {
      "cell_type": "code",
      "execution_count": null,
      "metadata": {
        "id": "6Aq7vYLVBPxS"
      },
      "outputs": [],
      "source": [
        "df_prec = classification_report(y_test, y_pred, target_names=list(le_dict.keys()))"
      ]
    },
    {
      "cell_type": "code",
      "execution_count": null,
      "metadata": {
        "colab": {
          "base_uri": "https://localhost:8080/",
          "height": 122
        },
        "id": "mpV7KufOBT1b",
        "outputId": "b3c1f242-d9f4-4301-eec7-f8fb34186cb5"
      },
      "outputs": [
        {
          "data": {
            "application/vnd.google.colaboratory.intrinsic+json": {
              "type": "string"
            },
            "text/plain": [
              "'              precision    recall  f1-score   support\\n\\n           /       0.99      0.99      0.99      1395\\n           A       0.96      0.75      0.84       491\\n           E       0.96      0.92      0.94        25\\n           F       0.94      0.68      0.79       152\\n           J       0.00      0.00      0.00        17\\n           L       0.99      0.98      0.99      1614\\n           N       0.98      1.00      0.99     14982\\n           R       0.99      0.96      0.97      1488\\n           S       0.00      0.00      0.00         1\\n           V       0.97      0.94      0.96      1422\\n           a       1.00      0.04      0.08        23\\n           e       0.00      0.00      0.00         4\\n           f       0.98      0.89      0.94       220\\n           j       0.00      0.00      0.00        43\\n\\n    accuracy                           0.98     21877\\n   macro avg       0.70      0.58      0.61     21877\\nweighted avg       0.97      0.98      0.98     21877\\n'"
            ]
          },
          "execution_count": 56,
          "metadata": {},
          "output_type": "execute_result"
        }
      ],
      "source": [
        "df_prec"
      ]
    },
    {
      "cell_type": "markdown",
      "source": [],
      "metadata": {
        "id": "EmuP6dLjjAni"
      }
    },
    {
      "cell_type": "code",
      "execution_count": null,
      "metadata": {
        "colab": {
          "base_uri": "https://localhost:8080/"
        },
        "id": "4eEPqUGO7l6C",
        "outputId": "36fc8993-bd93-4ff2-9d59-9bfe3d281e3d"
      },
      "outputs": [
        {
          "name": "stdout",
          "output_type": "stream",
          "text": [
            "              precision    recall  f1-score   support\n",
            "\n",
            "           /       0.99      0.99      0.99      1395\n",
            "           A       0.96      0.75      0.84       491\n",
            "           E       0.96      0.92      0.94        25\n",
            "           F       0.94      0.68      0.79       152\n",
            "           J       0.00      0.00      0.00        17\n",
            "           L       0.99      0.98      0.99      1614\n",
            "           N       0.98      1.00      0.99     14982\n",
            "           R       0.99      0.96      0.97      1488\n",
            "           S       0.00      0.00      0.00         1\n",
            "           V       0.97      0.94      0.96      1422\n",
            "           a       1.00      0.04      0.08        23\n",
            "           e       0.00      0.00      0.00         4\n",
            "           f       0.98      0.89      0.94       220\n",
            "           j       0.00      0.00      0.00        43\n",
            "\n",
            "    accuracy                           0.98     21877\n",
            "   macro avg       0.70      0.58      0.61     21877\n",
            "weighted avg       0.97      0.98      0.98     21877\n",
            "\n"
          ]
        },
        {
          "name": "stderr",
          "output_type": "stream",
          "text": [
            "/usr/local/lib/python3.7/dist-packages/sklearn/metrics/_classification.py:1318: UndefinedMetricWarning: Precision and F-score are ill-defined and being set to 0.0 in labels with no predicted samples. Use `zero_division` parameter to control this behavior.\n",
            "  _warn_prf(average, modifier, msg_start, len(result))\n",
            "/usr/local/lib/python3.7/dist-packages/sklearn/metrics/_classification.py:1318: UndefinedMetricWarning: Precision and F-score are ill-defined and being set to 0.0 in labels with no predicted samples. Use `zero_division` parameter to control this behavior.\n",
            "  _warn_prf(average, modifier, msg_start, len(result))\n",
            "/usr/local/lib/python3.7/dist-packages/sklearn/metrics/_classification.py:1318: UndefinedMetricWarning: Precision and F-score are ill-defined and being set to 0.0 in labels with no predicted samples. Use `zero_division` parameter to control this behavior.\n",
            "  _warn_prf(average, modifier, msg_start, len(result))\n"
          ]
        }
      ],
      "source": [
        "print(classification_report(y_test, y_pred, target_names=list(le_dict.keys())))"
      ]
    },
    {
      "cell_type": "code",
      "execution_count": null,
      "metadata": {
        "colab": {
          "base_uri": "https://localhost:8080/"
        },
        "id": "omP4UbJu4bVc",
        "outputId": "7e20ad10-e4bf-4661-c75b-67293743dc58"
      },
      "outputs": [
        {
          "output_type": "execute_result",
          "data": {
            "text/plain": [
              "{'/': 0,\n",
              " 'A': 1,\n",
              " 'E': 2,\n",
              " 'F': 3,\n",
              " 'J': 4,\n",
              " 'L': 5,\n",
              " 'N': 6,\n",
              " 'R': 7,\n",
              " 'S': 8,\n",
              " 'V': 9,\n",
              " 'a': 10,\n",
              " 'e': 11,\n",
              " 'f': 12,\n",
              " 'j': 13}"
            ]
          },
          "metadata": {},
          "execution_count": 74
        }
      ],
      "source": [
        "le_dict = dict(zip(le.classes_, le.transform(le.classes_)))\n",
        "le_dict"
      ]
    },
    {
      "cell_type": "code",
      "execution_count": null,
      "metadata": {
        "id": "y8S2pbN1hGn-"
      },
      "outputs": [],
      "source": [
        "#accuracy = clf.score(X_test, y_test)"
      ]
    },
    {
      "cell_type": "code",
      "source": [
        "\n",
        "\n"
      ],
      "metadata": {
        "id": "GaqBI6H4kRqQ"
      },
      "execution_count": null,
      "outputs": []
    },
    {
      "cell_type": "code",
      "execution_count": null,
      "metadata": {
        "colab": {
          "base_uri": "https://localhost:8080/"
        },
        "id": "CO8U0ENG1crd",
        "outputId": "e7e86125-01ac-41bd-daea-b5f75681b963"
      },
      "outputs": [
        {
          "output_type": "stream",
          "name": "stdout",
          "text": [
            "Accuracy after wavelet transform: 98.01618137770261 %\n"
          ]
        }
      ],
      "source": [
        "accuracy = clf.score(X_test, y_test)\n",
        "print(\"Accuracy after wavelet transform:\", accuracy*100, \"%\")"
      ]
    },
    {
      "cell_type": "code",
      "source": [
        "X_test.to_csv(\"test_signal.csv\")"
      ],
      "metadata": {
        "id": "Q4IxCujEkxGh"
      },
      "execution_count": null,
      "outputs": []
    },
    {
      "cell_type": "code",
      "source": [
        "clf.predict(X_test)"
      ],
      "metadata": {
        "colab": {
          "base_uri": "https://localhost:8080/"
        },
        "id": "lfSg5rpskbaj",
        "outputId": "066ea73d-4151-45d6-afb9-b58abe383da3"
      },
      "execution_count": null,
      "outputs": [
        {
          "output_type": "execute_result",
          "data": {
            "text/plain": [
              "array([6, 7, 5, ..., 6, 6, 6])"
            ]
          },
          "metadata": {},
          "execution_count": 82
        }
      ]
    },
    {
      "cell_type": "code",
      "execution_count": null,
      "metadata": {
        "colab": {
          "base_uri": "https://localhost:8080/",
          "height": 449
        },
        "id": "VR0-hrH905F9",
        "outputId": "3f8a6d6a-b74c-415b-e5a6-7692a7f9e8a9"
      },
      "outputs": [
        {
          "output_type": "error",
          "ename": "ValueError",
          "evalue": "ignored",
          "traceback": [
            "\u001b[0;31m---------------------------------------------------------------------------\u001b[0m",
            "\u001b[0;31mValueError\u001b[0m                                Traceback (most recent call last)",
            "\u001b[0;32m<ipython-input-80-00699c80e012>\u001b[0m in \u001b[0;36m<module>\u001b[0;34m\u001b[0m\n\u001b[1;32m      1\u001b[0m \u001b[0mstart_time\u001b[0m \u001b[0;34m=\u001b[0m \u001b[0mtime\u001b[0m\u001b[0;34m.\u001b[0m\u001b[0mtime\u001b[0m\u001b[0;34m(\u001b[0m\u001b[0;34m)\u001b[0m\u001b[0;34m\u001b[0m\u001b[0;34m\u001b[0m\u001b[0m\n\u001b[0;32m----> 2\u001b[0;31m \u001b[0mprediction\u001b[0m \u001b[0;34m=\u001b[0m \u001b[0mclf\u001b[0m\u001b[0;34m.\u001b[0m\u001b[0mpredict\u001b[0m\u001b[0;34m(\u001b[0m \u001b[0mX_test\u001b[0m\u001b[0;34m[\u001b[0m\u001b[0mX_test\u001b[0m\u001b[0;34m[\u001b[0m\u001b[0;34m\"Unnamed: 0\"\u001b[0m\u001b[0;34m]\u001b[0m \u001b[0;34m==\u001b[0m \u001b[0;36m51599\u001b[0m\u001b[0;34m]\u001b[0m \u001b[0;34m)\u001b[0m\u001b[0;34m\u001b[0m\u001b[0;34m\u001b[0m\u001b[0m\n\u001b[0m\u001b[1;32m      3\u001b[0m \u001b[0mprint\u001b[0m\u001b[0;34m(\u001b[0m\u001b[0;34m\"Prediction from 37265\"\u001b[0m\u001b[0;34m,\u001b[0m \u001b[0mprediction\u001b[0m\u001b[0;34m[\u001b[0m\u001b[0;36m0\u001b[0m\u001b[0;34m]\u001b[0m\u001b[0;34m)\u001b[0m\u001b[0;34m\u001b[0m\u001b[0;34m\u001b[0m\u001b[0m\n\u001b[1;32m      4\u001b[0m \u001b[0mprint\u001b[0m\u001b[0;34m(\u001b[0m\u001b[0;34m\"Actual Diagnosis is\"\u001b[0m\u001b[0;34m,\u001b[0m \u001b[0my_test\u001b[0m\u001b[0;34m.\u001b[0m\u001b[0mloc\u001b[0m\u001b[0;34m[\u001b[0m\u001b[0;36m51599\u001b[0m\u001b[0;34m]\u001b[0m\u001b[0;34m)\u001b[0m\u001b[0;34m\u001b[0m\u001b[0;34m\u001b[0m\u001b[0m\n\u001b[1;32m      5\u001b[0m \u001b[0mend_time\u001b[0m \u001b[0;34m=\u001b[0m \u001b[0mtime\u001b[0m\u001b[0;34m.\u001b[0m\u001b[0mtime\u001b[0m\u001b[0;34m(\u001b[0m\u001b[0;34m)\u001b[0m\u001b[0;34m\u001b[0m\u001b[0;34m\u001b[0m\u001b[0m\n",
            "\u001b[0;32m/usr/local/lib/python3.7/dist-packages/sklearn/utils/metaestimators.py\u001b[0m in \u001b[0;36m<lambda>\u001b[0;34m(*args, **kwargs)\u001b[0m\n\u001b[1;32m    111\u001b[0m \u001b[0;34m\u001b[0m\u001b[0m\n\u001b[1;32m    112\u001b[0m             \u001b[0;31m# lambda, but not partial, allows help() to work with update_wrapper\u001b[0m\u001b[0;34m\u001b[0m\u001b[0;34m\u001b[0m\u001b[0;34m\u001b[0m\u001b[0m\n\u001b[0;32m--> 113\u001b[0;31m             \u001b[0mout\u001b[0m \u001b[0;34m=\u001b[0m \u001b[0;32mlambda\u001b[0m \u001b[0;34m*\u001b[0m\u001b[0margs\u001b[0m\u001b[0;34m,\u001b[0m \u001b[0;34m**\u001b[0m\u001b[0mkwargs\u001b[0m\u001b[0;34m:\u001b[0m \u001b[0mself\u001b[0m\u001b[0;34m.\u001b[0m\u001b[0mfn\u001b[0m\u001b[0;34m(\u001b[0m\u001b[0mobj\u001b[0m\u001b[0;34m,\u001b[0m \u001b[0;34m*\u001b[0m\u001b[0margs\u001b[0m\u001b[0;34m,\u001b[0m \u001b[0;34m**\u001b[0m\u001b[0mkwargs\u001b[0m\u001b[0;34m)\u001b[0m  \u001b[0;31m# noqa\u001b[0m\u001b[0;34m\u001b[0m\u001b[0;34m\u001b[0m\u001b[0m\n\u001b[0m\u001b[1;32m    114\u001b[0m         \u001b[0;32melse\u001b[0m\u001b[0;34m:\u001b[0m\u001b[0;34m\u001b[0m\u001b[0;34m\u001b[0m\u001b[0m\n\u001b[1;32m    115\u001b[0m \u001b[0;34m\u001b[0m\u001b[0m\n",
            "\u001b[0;32m/usr/local/lib/python3.7/dist-packages/sklearn/pipeline.py\u001b[0m in \u001b[0;36mpredict\u001b[0;34m(self, X, **predict_params)\u001b[0m\n\u001b[1;32m    467\u001b[0m         \u001b[0mXt\u001b[0m \u001b[0;34m=\u001b[0m \u001b[0mX\u001b[0m\u001b[0;34m\u001b[0m\u001b[0;34m\u001b[0m\u001b[0m\n\u001b[1;32m    468\u001b[0m         \u001b[0;32mfor\u001b[0m \u001b[0m_\u001b[0m\u001b[0;34m,\u001b[0m \u001b[0mname\u001b[0m\u001b[0;34m,\u001b[0m \u001b[0mtransform\u001b[0m \u001b[0;32min\u001b[0m \u001b[0mself\u001b[0m\u001b[0;34m.\u001b[0m\u001b[0m_iter\u001b[0m\u001b[0;34m(\u001b[0m\u001b[0mwith_final\u001b[0m\u001b[0;34m=\u001b[0m\u001b[0;32mFalse\u001b[0m\u001b[0;34m)\u001b[0m\u001b[0;34m:\u001b[0m\u001b[0;34m\u001b[0m\u001b[0;34m\u001b[0m\u001b[0m\n\u001b[0;32m--> 469\u001b[0;31m             \u001b[0mXt\u001b[0m \u001b[0;34m=\u001b[0m \u001b[0mtransform\u001b[0m\u001b[0;34m.\u001b[0m\u001b[0mtransform\u001b[0m\u001b[0;34m(\u001b[0m\u001b[0mXt\u001b[0m\u001b[0;34m)\u001b[0m\u001b[0;34m\u001b[0m\u001b[0;34m\u001b[0m\u001b[0m\n\u001b[0m\u001b[1;32m    470\u001b[0m         \u001b[0;32mreturn\u001b[0m \u001b[0mself\u001b[0m\u001b[0;34m.\u001b[0m\u001b[0msteps\u001b[0m\u001b[0;34m[\u001b[0m\u001b[0;34m-\u001b[0m\u001b[0;36m1\u001b[0m\u001b[0;34m]\u001b[0m\u001b[0;34m[\u001b[0m\u001b[0;36m1\u001b[0m\u001b[0;34m]\u001b[0m\u001b[0;34m.\u001b[0m\u001b[0mpredict\u001b[0m\u001b[0;34m(\u001b[0m\u001b[0mXt\u001b[0m\u001b[0;34m,\u001b[0m \u001b[0;34m**\u001b[0m\u001b[0mpredict_params\u001b[0m\u001b[0;34m)\u001b[0m\u001b[0;34m\u001b[0m\u001b[0;34m\u001b[0m\u001b[0m\n\u001b[1;32m    471\u001b[0m \u001b[0;34m\u001b[0m\u001b[0m\n",
            "\u001b[0;32m/usr/local/lib/python3.7/dist-packages/sklearn/preprocessing/_data.py\u001b[0m in \u001b[0;36mtransform\u001b[0;34m(self, X, copy)\u001b[0m\n\u001b[1;32m    978\u001b[0m             \u001b[0mestimator\u001b[0m\u001b[0;34m=\u001b[0m\u001b[0mself\u001b[0m\u001b[0;34m,\u001b[0m\u001b[0;34m\u001b[0m\u001b[0;34m\u001b[0m\u001b[0m\n\u001b[1;32m    979\u001b[0m             \u001b[0mdtype\u001b[0m\u001b[0;34m=\u001b[0m\u001b[0mFLOAT_DTYPES\u001b[0m\u001b[0;34m,\u001b[0m\u001b[0;34m\u001b[0m\u001b[0;34m\u001b[0m\u001b[0m\n\u001b[0;32m--> 980\u001b[0;31m             \u001b[0mforce_all_finite\u001b[0m\u001b[0;34m=\u001b[0m\u001b[0;34m\"allow-nan\"\u001b[0m\u001b[0;34m,\u001b[0m\u001b[0;34m\u001b[0m\u001b[0;34m\u001b[0m\u001b[0m\n\u001b[0m\u001b[1;32m    981\u001b[0m         )\n\u001b[1;32m    982\u001b[0m \u001b[0;34m\u001b[0m\u001b[0m\n",
            "\u001b[0;32m/usr/local/lib/python3.7/dist-packages/sklearn/base.py\u001b[0m in \u001b[0;36m_validate_data\u001b[0;34m(self, X, y, reset, validate_separately, **check_params)\u001b[0m\n\u001b[1;32m    564\u001b[0m             \u001b[0;32mraise\u001b[0m \u001b[0mValueError\u001b[0m\u001b[0;34m(\u001b[0m\u001b[0;34m\"Validation should be done on X, y or both.\"\u001b[0m\u001b[0;34m)\u001b[0m\u001b[0;34m\u001b[0m\u001b[0;34m\u001b[0m\u001b[0m\n\u001b[1;32m    565\u001b[0m         \u001b[0;32melif\u001b[0m \u001b[0;32mnot\u001b[0m \u001b[0mno_val_X\u001b[0m \u001b[0;32mand\u001b[0m \u001b[0mno_val_y\u001b[0m\u001b[0;34m:\u001b[0m\u001b[0;34m\u001b[0m\u001b[0;34m\u001b[0m\u001b[0m\n\u001b[0;32m--> 566\u001b[0;31m             \u001b[0mX\u001b[0m \u001b[0;34m=\u001b[0m \u001b[0mcheck_array\u001b[0m\u001b[0;34m(\u001b[0m\u001b[0mX\u001b[0m\u001b[0;34m,\u001b[0m \u001b[0;34m**\u001b[0m\u001b[0mcheck_params\u001b[0m\u001b[0;34m)\u001b[0m\u001b[0;34m\u001b[0m\u001b[0;34m\u001b[0m\u001b[0m\n\u001b[0m\u001b[1;32m    567\u001b[0m             \u001b[0mout\u001b[0m \u001b[0;34m=\u001b[0m \u001b[0mX\u001b[0m\u001b[0;34m\u001b[0m\u001b[0;34m\u001b[0m\u001b[0m\n\u001b[1;32m    568\u001b[0m         \u001b[0;32melif\u001b[0m \u001b[0mno_val_X\u001b[0m \u001b[0;32mand\u001b[0m \u001b[0;32mnot\u001b[0m \u001b[0mno_val_y\u001b[0m\u001b[0;34m:\u001b[0m\u001b[0;34m\u001b[0m\u001b[0;34m\u001b[0m\u001b[0m\n",
            "\u001b[0;32m/usr/local/lib/python3.7/dist-packages/sklearn/utils/validation.py\u001b[0m in \u001b[0;36mcheck_array\u001b[0;34m(array, accept_sparse, accept_large_sparse, dtype, order, copy, force_all_finite, ensure_2d, allow_nd, ensure_min_samples, ensure_min_features, estimator)\u001b[0m\n\u001b[1;32m    806\u001b[0m                 \u001b[0;34m\"Found array with %d sample(s) (shape=%s) while a\"\u001b[0m\u001b[0;34m\u001b[0m\u001b[0;34m\u001b[0m\u001b[0m\n\u001b[1;32m    807\u001b[0m                 \u001b[0;34m\" minimum of %d is required%s.\"\u001b[0m\u001b[0;34m\u001b[0m\u001b[0;34m\u001b[0m\u001b[0m\n\u001b[0;32m--> 808\u001b[0;31m                 \u001b[0;34m%\u001b[0m \u001b[0;34m(\u001b[0m\u001b[0mn_samples\u001b[0m\u001b[0;34m,\u001b[0m \u001b[0marray\u001b[0m\u001b[0;34m.\u001b[0m\u001b[0mshape\u001b[0m\u001b[0;34m,\u001b[0m \u001b[0mensure_min_samples\u001b[0m\u001b[0;34m,\u001b[0m \u001b[0mcontext\u001b[0m\u001b[0;34m)\u001b[0m\u001b[0;34m\u001b[0m\u001b[0;34m\u001b[0m\u001b[0m\n\u001b[0m\u001b[1;32m    809\u001b[0m             )\n\u001b[1;32m    810\u001b[0m \u001b[0;34m\u001b[0m\u001b[0m\n",
            "\u001b[0;31mValueError\u001b[0m: Found array with 0 sample(s) (shape=(0, 115)) while a minimum of 1 is required by StandardScaler."
          ]
        }
      ],
      "source": [
        "start_time = time.time()\n",
        "prediction = clf.predict( X_test[X_test[\"Unnamed: 0\"] == 51599] )\n",
        "print(\"Prediction from 37265\", prediction[0])\n",
        "print(\"Actual Diagnosis is\", y_test.loc[51599])\n",
        "end_time = time.time()\n",
        "print(\"Time for diagnosis:\", round(end_time - start_time, 2), \"seconds\")"
      ]
    },
    {
      "cell_type": "markdown",
      "metadata": {
        "id": "e4n9Ozby109M"
      },
      "source": [
        "##Fast ICA and PCA"
      ]
    },
    {
      "cell_type": "code",
      "execution_count": null,
      "metadata": {
        "id": "UxvIxectKF17"
      },
      "outputs": [],
      "source": [
        "\n",
        "\n",
        "transformer = FastICA(n_components=18,\n",
        "                      random_state=0,\n",
        "                      whiten = 'unit-variance')\n",
        "\n",
        "X_transformed = transformer.fit_transform(X_)"
      ]
    },
    {
      "cell_type": "code",
      "source": [
        "from sklearn.svm import SVC\n",
        "from sklearn.pipeline import make_pipeline\n",
        "from sklearn.preprocessing import StandardScaler\n",
        "from sklearn.decomposition import FastICA\n",
        "from sklearn.decomposition import PCA\n",
        "import pandas as pd\n",
        "\n",
        "def predict(model=\"model_file_path.sav\", signal=\"signal_path.csv\"):\n",
        "  clf = pickle.load(open(model, \"rb\"))\n",
        "  transformer = FastICA(n_components=18,\n",
        "                  random_state=0,\n",
        "                  whiten = 'unit-variance')\n",
        "  X_ = pd.read_csv(signal)\n",
        "  X_transformed = transformer.fit_transform(X_)\n",
        "  X_ICA = pd.merge(X_, X_transformed, left_index=True, right_index=True)\n",
        "  pca = PCA(n_components=26)\n",
        "  X_PCA = pd.DataFrame(pca.fit_transform(X_ICA))\n",
        "\n",
        "  return clf.predict([X_PCA])\n",
        "\n",
        "  "
      ],
      "metadata": {
        "id": "ovkk0R-DuAIA"
      },
      "execution_count": null,
      "outputs": []
    },
    {
      "cell_type": "code",
      "execution_count": null,
      "metadata": {
        "id": "kykHQ1FYOmr4"
      },
      "outputs": [],
      "source": [
        "X_transformed = pd.DataFrame(X_transformed)"
      ]
    },
    {
      "cell_type": "code",
      "execution_count": null,
      "metadata": {
        "colab": {
          "base_uri": "https://localhost:8080/",
          "height": 488
        },
        "id": "B5lg1-rxPYIo",
        "outputId": "c4d73783-cc54-42f8-a5cd-426008e98ffb"
      },
      "outputs": [
        {
          "data": {
            "text/html": [
              "\n",
              "  <div id=\"df-1ba9b0aa-afc2-49b1-8272-5021592081ba\">\n",
              "    <div class=\"colab-df-container\">\n",
              "      <div>\n",
              "<style scoped>\n",
              "    .dataframe tbody tr th:only-of-type {\n",
              "        vertical-align: middle;\n",
              "    }\n",
              "\n",
              "    .dataframe tbody tr th {\n",
              "        vertical-align: top;\n",
              "    }\n",
              "\n",
              "    .dataframe thead th {\n",
              "        text-align: right;\n",
              "    }\n",
              "</style>\n",
              "<table border=\"1\" class=\"dataframe\">\n",
              "  <thead>\n",
              "    <tr style=\"text-align: right;\">\n",
              "      <th></th>\n",
              "      <th>0</th>\n",
              "      <th>1</th>\n",
              "      <th>2</th>\n",
              "      <th>3</th>\n",
              "      <th>4</th>\n",
              "      <th>5</th>\n",
              "      <th>6</th>\n",
              "      <th>7</th>\n",
              "      <th>8</th>\n",
              "      <th>9</th>\n",
              "      <th>10</th>\n",
              "      <th>11</th>\n",
              "      <th>12</th>\n",
              "      <th>13</th>\n",
              "      <th>14</th>\n",
              "      <th>15</th>\n",
              "      <th>16</th>\n",
              "      <th>17</th>\n",
              "    </tr>\n",
              "  </thead>\n",
              "  <tbody>\n",
              "    <tr>\n",
              "      <th>0</th>\n",
              "      <td>0.000558</td>\n",
              "      <td>0.000415</td>\n",
              "      <td>-0.000026</td>\n",
              "      <td>0.002632</td>\n",
              "      <td>0.000088</td>\n",
              "      <td>0.002525</td>\n",
              "      <td>0.000475</td>\n",
              "      <td>-0.000535</td>\n",
              "      <td>0.000219</td>\n",
              "      <td>0.000360</td>\n",
              "      <td>0.000761</td>\n",
              "      <td>-0.000810</td>\n",
              "      <td>0.000180</td>\n",
              "      <td>-0.000189</td>\n",
              "      <td>0.000222</td>\n",
              "      <td>0.004942</td>\n",
              "      <td>0.000218</td>\n",
              "      <td>-0.000448</td>\n",
              "    </tr>\n",
              "    <tr>\n",
              "      <th>1</th>\n",
              "      <td>0.000975</td>\n",
              "      <td>0.003126</td>\n",
              "      <td>0.000214</td>\n",
              "      <td>0.005325</td>\n",
              "      <td>-0.000493</td>\n",
              "      <td>0.001857</td>\n",
              "      <td>0.000150</td>\n",
              "      <td>0.002414</td>\n",
              "      <td>0.000170</td>\n",
              "      <td>0.000380</td>\n",
              "      <td>-0.001229</td>\n",
              "      <td>0.001546</td>\n",
              "      <td>-0.000229</td>\n",
              "      <td>0.000279</td>\n",
              "      <td>-0.000059</td>\n",
              "      <td>0.004805</td>\n",
              "      <td>0.000347</td>\n",
              "      <td>0.000017</td>\n",
              "    </tr>\n",
              "    <tr>\n",
              "      <th>2</th>\n",
              "      <td>0.000832</td>\n",
              "      <td>0.002298</td>\n",
              "      <td>0.000077</td>\n",
              "      <td>0.004899</td>\n",
              "      <td>-0.000182</td>\n",
              "      <td>0.003060</td>\n",
              "      <td>0.000020</td>\n",
              "      <td>0.002322</td>\n",
              "      <td>0.000391</td>\n",
              "      <td>0.000646</td>\n",
              "      <td>-0.000557</td>\n",
              "      <td>0.002215</td>\n",
              "      <td>-0.000478</td>\n",
              "      <td>0.000411</td>\n",
              "      <td>-0.000147</td>\n",
              "      <td>0.004983</td>\n",
              "      <td>0.000202</td>\n",
              "      <td>0.000043</td>\n",
              "    </tr>\n",
              "    <tr>\n",
              "      <th>3</th>\n",
              "      <td>0.001111</td>\n",
              "      <td>0.000791</td>\n",
              "      <td>-0.000098</td>\n",
              "      <td>0.004720</td>\n",
              "      <td>-0.000226</td>\n",
              "      <td>0.001722</td>\n",
              "      <td>-0.000485</td>\n",
              "      <td>0.000038</td>\n",
              "      <td>0.000099</td>\n",
              "      <td>-0.000042</td>\n",
              "      <td>-0.000516</td>\n",
              "      <td>-0.001229</td>\n",
              "      <td>-0.000127</td>\n",
              "      <td>0.000315</td>\n",
              "      <td>-0.000166</td>\n",
              "      <td>0.004738</td>\n",
              "      <td>0.000529</td>\n",
              "      <td>0.000218</td>\n",
              "    </tr>\n",
              "    <tr>\n",
              "      <th>4</th>\n",
              "      <td>0.001161</td>\n",
              "      <td>-0.000840</td>\n",
              "      <td>-0.000120</td>\n",
              "      <td>0.004545</td>\n",
              "      <td>-0.000133</td>\n",
              "      <td>0.002043</td>\n",
              "      <td>-0.000262</td>\n",
              "      <td>-0.000590</td>\n",
              "      <td>0.000126</td>\n",
              "      <td>-0.000193</td>\n",
              "      <td>0.000482</td>\n",
              "      <td>-0.001970</td>\n",
              "      <td>-0.000238</td>\n",
              "      <td>0.000042</td>\n",
              "      <td>-0.000036</td>\n",
              "      <td>0.004667</td>\n",
              "      <td>0.000470</td>\n",
              "      <td>-0.000192</td>\n",
              "    </tr>\n",
              "    <tr>\n",
              "      <th>...</th>\n",
              "      <td>...</td>\n",
              "      <td>...</td>\n",
              "      <td>...</td>\n",
              "      <td>...</td>\n",
              "      <td>...</td>\n",
              "      <td>...</td>\n",
              "      <td>...</td>\n",
              "      <td>...</td>\n",
              "      <td>...</td>\n",
              "      <td>...</td>\n",
              "      <td>...</td>\n",
              "      <td>...</td>\n",
              "      <td>...</td>\n",
              "      <td>...</td>\n",
              "      <td>...</td>\n",
              "      <td>...</td>\n",
              "      <td>...</td>\n",
              "      <td>...</td>\n",
              "    </tr>\n",
              "    <tr>\n",
              "      <th>109378</th>\n",
              "      <td>0.000037</td>\n",
              "      <td>0.001712</td>\n",
              "      <td>-0.000166</td>\n",
              "      <td>0.002192</td>\n",
              "      <td>-0.000142</td>\n",
              "      <td>0.000480</td>\n",
              "      <td>-0.001121</td>\n",
              "      <td>0.000198</td>\n",
              "      <td>-0.000350</td>\n",
              "      <td>-0.001955</td>\n",
              "      <td>0.001318</td>\n",
              "      <td>-0.000620</td>\n",
              "      <td>0.000400</td>\n",
              "      <td>-0.000603</td>\n",
              "      <td>0.000366</td>\n",
              "      <td>-0.005953</td>\n",
              "      <td>0.000518</td>\n",
              "      <td>-0.000518</td>\n",
              "    </tr>\n",
              "    <tr>\n",
              "      <th>109379</th>\n",
              "      <td>0.000155</td>\n",
              "      <td>-0.001661</td>\n",
              "      <td>0.000413</td>\n",
              "      <td>0.002092</td>\n",
              "      <td>0.000292</td>\n",
              "      <td>0.000361</td>\n",
              "      <td>-0.001172</td>\n",
              "      <td>-0.001525</td>\n",
              "      <td>-0.000628</td>\n",
              "      <td>-0.001682</td>\n",
              "      <td>0.002395</td>\n",
              "      <td>-0.002335</td>\n",
              "      <td>-0.000048</td>\n",
              "      <td>0.000133</td>\n",
              "      <td>-0.000016</td>\n",
              "      <td>-0.006002</td>\n",
              "      <td>0.000206</td>\n",
              "      <td>-0.000145</td>\n",
              "    </tr>\n",
              "    <tr>\n",
              "      <th>109380</th>\n",
              "      <td>0.000198</td>\n",
              "      <td>-0.000110</td>\n",
              "      <td>0.000792</td>\n",
              "      <td>0.001800</td>\n",
              "      <td>0.000459</td>\n",
              "      <td>0.000554</td>\n",
              "      <td>-0.001005</td>\n",
              "      <td>-0.000298</td>\n",
              "      <td>-0.000490</td>\n",
              "      <td>-0.000646</td>\n",
              "      <td>0.001460</td>\n",
              "      <td>-0.001177</td>\n",
              "      <td>-0.000043</td>\n",
              "      <td>-0.000846</td>\n",
              "      <td>0.000014</td>\n",
              "      <td>-0.005930</td>\n",
              "      <td>0.000321</td>\n",
              "      <td>-0.000193</td>\n",
              "    </tr>\n",
              "    <tr>\n",
              "      <th>109381</th>\n",
              "      <td>-0.000386</td>\n",
              "      <td>0.002520</td>\n",
              "      <td>0.000335</td>\n",
              "      <td>0.000589</td>\n",
              "      <td>0.000100</td>\n",
              "      <td>0.000842</td>\n",
              "      <td>-0.001422</td>\n",
              "      <td>-0.000371</td>\n",
              "      <td>0.000027</td>\n",
              "      <td>-0.000495</td>\n",
              "      <td>0.001147</td>\n",
              "      <td>0.000073</td>\n",
              "      <td>-0.000469</td>\n",
              "      <td>-0.000134</td>\n",
              "      <td>-0.000525</td>\n",
              "      <td>-0.005645</td>\n",
              "      <td>0.000325</td>\n",
              "      <td>-0.000115</td>\n",
              "    </tr>\n",
              "    <tr>\n",
              "      <th>109382</th>\n",
              "      <td>0.000162</td>\n",
              "      <td>0.001572</td>\n",
              "      <td>-0.000083</td>\n",
              "      <td>0.002382</td>\n",
              "      <td>-0.000364</td>\n",
              "      <td>0.000094</td>\n",
              "      <td>-0.000880</td>\n",
              "      <td>0.000709</td>\n",
              "      <td>-0.000298</td>\n",
              "      <td>0.000318</td>\n",
              "      <td>0.000606</td>\n",
              "      <td>-0.000852</td>\n",
              "      <td>0.000665</td>\n",
              "      <td>-0.000934</td>\n",
              "      <td>0.000656</td>\n",
              "      <td>-0.006058</td>\n",
              "      <td>0.000016</td>\n",
              "      <td>0.000206</td>\n",
              "    </tr>\n",
              "  </tbody>\n",
              "</table>\n",
              "<p>109383 rows × 18 columns</p>\n",
              "</div>\n",
              "      <button class=\"colab-df-convert\" onclick=\"convertToInteractive('df-1ba9b0aa-afc2-49b1-8272-5021592081ba')\"\n",
              "              title=\"Convert this dataframe to an interactive table.\"\n",
              "              style=\"display:none;\">\n",
              "        \n",
              "  <svg xmlns=\"http://www.w3.org/2000/svg\" height=\"24px\"viewBox=\"0 0 24 24\"\n",
              "       width=\"24px\">\n",
              "    <path d=\"M0 0h24v24H0V0z\" fill=\"none\"/>\n",
              "    <path d=\"M18.56 5.44l.94 2.06.94-2.06 2.06-.94-2.06-.94-.94-2.06-.94 2.06-2.06.94zm-11 1L8.5 8.5l.94-2.06 2.06-.94-2.06-.94L8.5 2.5l-.94 2.06-2.06.94zm10 10l.94 2.06.94-2.06 2.06-.94-2.06-.94-.94-2.06-.94 2.06-2.06.94z\"/><path d=\"M17.41 7.96l-1.37-1.37c-.4-.4-.92-.59-1.43-.59-.52 0-1.04.2-1.43.59L10.3 9.45l-7.72 7.72c-.78.78-.78 2.05 0 2.83L4 21.41c.39.39.9.59 1.41.59.51 0 1.02-.2 1.41-.59l7.78-7.78 2.81-2.81c.8-.78.8-2.07 0-2.86zM5.41 20L4 18.59l7.72-7.72 1.47 1.35L5.41 20z\"/>\n",
              "  </svg>\n",
              "      </button>\n",
              "      \n",
              "  <style>\n",
              "    .colab-df-container {\n",
              "      display:flex;\n",
              "      flex-wrap:wrap;\n",
              "      gap: 12px;\n",
              "    }\n",
              "\n",
              "    .colab-df-convert {\n",
              "      background-color: #E8F0FE;\n",
              "      border: none;\n",
              "      border-radius: 50%;\n",
              "      cursor: pointer;\n",
              "      display: none;\n",
              "      fill: #1967D2;\n",
              "      height: 32px;\n",
              "      padding: 0 0 0 0;\n",
              "      width: 32px;\n",
              "    }\n",
              "\n",
              "    .colab-df-convert:hover {\n",
              "      background-color: #E2EBFA;\n",
              "      box-shadow: 0px 1px 2px rgba(60, 64, 67, 0.3), 0px 1px 3px 1px rgba(60, 64, 67, 0.15);\n",
              "      fill: #174EA6;\n",
              "    }\n",
              "\n",
              "    [theme=dark] .colab-df-convert {\n",
              "      background-color: #3B4455;\n",
              "      fill: #D2E3FC;\n",
              "    }\n",
              "\n",
              "    [theme=dark] .colab-df-convert:hover {\n",
              "      background-color: #434B5C;\n",
              "      box-shadow: 0px 1px 3px 1px rgba(0, 0, 0, 0.15);\n",
              "      filter: drop-shadow(0px 1px 2px rgba(0, 0, 0, 0.3));\n",
              "      fill: #FFFFFF;\n",
              "    }\n",
              "  </style>\n",
              "\n",
              "      <script>\n",
              "        const buttonEl =\n",
              "          document.querySelector('#df-1ba9b0aa-afc2-49b1-8272-5021592081ba button.colab-df-convert');\n",
              "        buttonEl.style.display =\n",
              "          google.colab.kernel.accessAllowed ? 'block' : 'none';\n",
              "\n",
              "        async function convertToInteractive(key) {\n",
              "          const element = document.querySelector('#df-1ba9b0aa-afc2-49b1-8272-5021592081ba');\n",
              "          const dataTable =\n",
              "            await google.colab.kernel.invokeFunction('convertToInteractive',\n",
              "                                                     [key], {});\n",
              "          if (!dataTable) return;\n",
              "\n",
              "          const docLinkHtml = 'Like what you see? Visit the ' +\n",
              "            '<a target=\"_blank\" href=https://colab.research.google.com/notebooks/data_table.ipynb>data table notebook</a>'\n",
              "            + ' to learn more about interactive tables.';\n",
              "          element.innerHTML = '';\n",
              "          dataTable['output_type'] = 'display_data';\n",
              "          await google.colab.output.renderOutput(dataTable, element);\n",
              "          const docLink = document.createElement('div');\n",
              "          docLink.innerHTML = docLinkHtml;\n",
              "          element.appendChild(docLink);\n",
              "        }\n",
              "      </script>\n",
              "    </div>\n",
              "  </div>\n",
              "  "
            ],
            "text/plain": [
              "              0         1         2         3         4         5         6   \\\n",
              "0       0.000558  0.000415 -0.000026  0.002632  0.000088  0.002525  0.000475   \n",
              "1       0.000975  0.003126  0.000214  0.005325 -0.000493  0.001857  0.000150   \n",
              "2       0.000832  0.002298  0.000077  0.004899 -0.000182  0.003060  0.000020   \n",
              "3       0.001111  0.000791 -0.000098  0.004720 -0.000226  0.001722 -0.000485   \n",
              "4       0.001161 -0.000840 -0.000120  0.004545 -0.000133  0.002043 -0.000262   \n",
              "...          ...       ...       ...       ...       ...       ...       ...   \n",
              "109378  0.000037  0.001712 -0.000166  0.002192 -0.000142  0.000480 -0.001121   \n",
              "109379  0.000155 -0.001661  0.000413  0.002092  0.000292  0.000361 -0.001172   \n",
              "109380  0.000198 -0.000110  0.000792  0.001800  0.000459  0.000554 -0.001005   \n",
              "109381 -0.000386  0.002520  0.000335  0.000589  0.000100  0.000842 -0.001422   \n",
              "109382  0.000162  0.001572 -0.000083  0.002382 -0.000364  0.000094 -0.000880   \n",
              "\n",
              "              7         8         9         10        11        12        13  \\\n",
              "0      -0.000535  0.000219  0.000360  0.000761 -0.000810  0.000180 -0.000189   \n",
              "1       0.002414  0.000170  0.000380 -0.001229  0.001546 -0.000229  0.000279   \n",
              "2       0.002322  0.000391  0.000646 -0.000557  0.002215 -0.000478  0.000411   \n",
              "3       0.000038  0.000099 -0.000042 -0.000516 -0.001229 -0.000127  0.000315   \n",
              "4      -0.000590  0.000126 -0.000193  0.000482 -0.001970 -0.000238  0.000042   \n",
              "...          ...       ...       ...       ...       ...       ...       ...   \n",
              "109378  0.000198 -0.000350 -0.001955  0.001318 -0.000620  0.000400 -0.000603   \n",
              "109379 -0.001525 -0.000628 -0.001682  0.002395 -0.002335 -0.000048  0.000133   \n",
              "109380 -0.000298 -0.000490 -0.000646  0.001460 -0.001177 -0.000043 -0.000846   \n",
              "109381 -0.000371  0.000027 -0.000495  0.001147  0.000073 -0.000469 -0.000134   \n",
              "109382  0.000709 -0.000298  0.000318  0.000606 -0.000852  0.000665 -0.000934   \n",
              "\n",
              "              14        15        16        17  \n",
              "0       0.000222  0.004942  0.000218 -0.000448  \n",
              "1      -0.000059  0.004805  0.000347  0.000017  \n",
              "2      -0.000147  0.004983  0.000202  0.000043  \n",
              "3      -0.000166  0.004738  0.000529  0.000218  \n",
              "4      -0.000036  0.004667  0.000470 -0.000192  \n",
              "...          ...       ...       ...       ...  \n",
              "109378  0.000366 -0.005953  0.000518 -0.000518  \n",
              "109379 -0.000016 -0.006002  0.000206 -0.000145  \n",
              "109380  0.000014 -0.005930  0.000321 -0.000193  \n",
              "109381 -0.000525 -0.005645  0.000325 -0.000115  \n",
              "109382  0.000656 -0.006058  0.000016  0.000206  \n",
              "\n",
              "[109383 rows x 18 columns]"
            ]
          },
          "execution_count": 106,
          "metadata": {},
          "output_type": "execute_result"
        }
      ],
      "source": [
        "X_transformed"
      ]
    },
    {
      "cell_type": "code",
      "execution_count": null,
      "metadata": {
        "colab": {
          "base_uri": "https://localhost:8080/",
          "height": 505
        },
        "id": "p1jivlcJPwe6",
        "outputId": "37113981-f2b2-40c0-86ab-e8484d7c12ce"
      },
      "outputs": [
        {
          "data": {
            "text/html": [
              "\n",
              "  <div id=\"df-5c5b559d-4a93-47e4-9bf9-778a7ca53933\">\n",
              "    <div class=\"colab-df-container\">\n",
              "      <div>\n",
              "<style scoped>\n",
              "    .dataframe tbody tr th:only-of-type {\n",
              "        vertical-align: middle;\n",
              "    }\n",
              "\n",
              "    .dataframe tbody tr th {\n",
              "        vertical-align: top;\n",
              "    }\n",
              "\n",
              "    .dataframe thead th {\n",
              "        text-align: right;\n",
              "    }\n",
              "</style>\n",
              "<table border=\"1\" class=\"dataframe\">\n",
              "  <thead>\n",
              "    <tr style=\"text-align: right;\">\n",
              "      <th></th>\n",
              "      <th>Unnamed: 0</th>\n",
              "      <th>0</th>\n",
              "      <th>1</th>\n",
              "      <th>2</th>\n",
              "      <th>3</th>\n",
              "      <th>4</th>\n",
              "      <th>5</th>\n",
              "      <th>6</th>\n",
              "      <th>7</th>\n",
              "      <th>8</th>\n",
              "      <th>...</th>\n",
              "      <th>104</th>\n",
              "      <th>105</th>\n",
              "      <th>106</th>\n",
              "      <th>107</th>\n",
              "      <th>108</th>\n",
              "      <th>109</th>\n",
              "      <th>110</th>\n",
              "      <th>111</th>\n",
              "      <th>112</th>\n",
              "      <th>113</th>\n",
              "    </tr>\n",
              "  </thead>\n",
              "  <tbody>\n",
              "    <tr>\n",
              "      <th>0</th>\n",
              "      <td>0</td>\n",
              "      <td>-0.030866</td>\n",
              "      <td>-0.028724</td>\n",
              "      <td>-0.011237</td>\n",
              "      <td>-0.034910</td>\n",
              "      <td>-0.019827</td>\n",
              "      <td>-0.019068</td>\n",
              "      <td>-0.039833</td>\n",
              "      <td>-0.015360</td>\n",
              "      <td>-0.023653</td>\n",
              "      <td>...</td>\n",
              "      <td>-0.003272</td>\n",
              "      <td>0.000558</td>\n",
              "      <td>-0.007339</td>\n",
              "      <td>-0.011322</td>\n",
              "      <td>0.020229</td>\n",
              "      <td>-0.001146</td>\n",
              "      <td>-0.000275</td>\n",
              "      <td>0.001434</td>\n",
              "      <td>-0.003160</td>\n",
              "      <td>0.006277</td>\n",
              "    </tr>\n",
              "    <tr>\n",
              "      <th>1</th>\n",
              "      <td>1</td>\n",
              "      <td>-0.040595</td>\n",
              "      <td>-0.035016</td>\n",
              "      <td>-0.023343</td>\n",
              "      <td>-0.046994</td>\n",
              "      <td>-0.027808</td>\n",
              "      <td>-0.027257</td>\n",
              "      <td>-0.049094</td>\n",
              "      <td>-0.022516</td>\n",
              "      <td>-0.032750</td>\n",
              "      <td>...</td>\n",
              "      <td>0.001009</td>\n",
              "      <td>-0.002207</td>\n",
              "      <td>-0.013121</td>\n",
              "      <td>0.001112</td>\n",
              "      <td>0.005959</td>\n",
              "      <td>0.010091</td>\n",
              "      <td>-0.002753</td>\n",
              "      <td>0.002840</td>\n",
              "      <td>0.001841</td>\n",
              "      <td>-0.006089</td>\n",
              "    </tr>\n",
              "    <tr>\n",
              "      <th>2</th>\n",
              "      <td>2</td>\n",
              "      <td>-0.042023</td>\n",
              "      <td>-0.044820</td>\n",
              "      <td>-0.029205</td>\n",
              "      <td>-0.046762</td>\n",
              "      <td>-0.038867</td>\n",
              "      <td>-0.033574</td>\n",
              "      <td>-0.047183</td>\n",
              "      <td>-0.033664</td>\n",
              "      <td>-0.039810</td>\n",
              "      <td>...</td>\n",
              "      <td>0.013014</td>\n",
              "      <td>-0.006383</td>\n",
              "      <td>-0.009629</td>\n",
              "      <td>-0.001831</td>\n",
              "      <td>0.008396</td>\n",
              "      <td>0.007767</td>\n",
              "      <td>-0.004050</td>\n",
              "      <td>-0.010008</td>\n",
              "      <td>0.007582</td>\n",
              "      <td>-0.000487</td>\n",
              "    </tr>\n",
              "    <tr>\n",
              "      <th>3</th>\n",
              "      <td>3</td>\n",
              "      <td>-0.039438</td>\n",
              "      <td>-0.032722</td>\n",
              "      <td>-0.023109</td>\n",
              "      <td>-0.047609</td>\n",
              "      <td>-0.025463</td>\n",
              "      <td>-0.026382</td>\n",
              "      <td>-0.049767</td>\n",
              "      <td>-0.020351</td>\n",
              "      <td>-0.031508</td>\n",
              "      <td>...</td>\n",
              "      <td>-0.001816</td>\n",
              "      <td>0.005478</td>\n",
              "      <td>-0.005622</td>\n",
              "      <td>0.005219</td>\n",
              "      <td>-0.004600</td>\n",
              "      <td>0.004228</td>\n",
              "      <td>-0.005485</td>\n",
              "      <td>0.012284</td>\n",
              "      <td>0.014952</td>\n",
              "      <td>0.006117</td>\n",
              "    </tr>\n",
              "    <tr>\n",
              "      <th>4</th>\n",
              "      <td>4</td>\n",
              "      <td>-0.043054</td>\n",
              "      <td>-0.042713</td>\n",
              "      <td>-0.026510</td>\n",
              "      <td>-0.048220</td>\n",
              "      <td>-0.035295</td>\n",
              "      <td>-0.031998</td>\n",
              "      <td>-0.050297</td>\n",
              "      <td>-0.029941</td>\n",
              "      <td>-0.038065</td>\n",
              "      <td>...</td>\n",
              "      <td>-0.001054</td>\n",
              "      <td>-0.004212</td>\n",
              "      <td>-0.005007</td>\n",
              "      <td>-0.005358</td>\n",
              "      <td>0.010740</td>\n",
              "      <td>0.001981</td>\n",
              "      <td>0.003907</td>\n",
              "      <td>-0.000523</td>\n",
              "      <td>0.001692</td>\n",
              "      <td>-0.004457</td>\n",
              "    </tr>\n",
              "    <tr>\n",
              "      <th>...</th>\n",
              "      <td>...</td>\n",
              "      <td>...</td>\n",
              "      <td>...</td>\n",
              "      <td>...</td>\n",
              "      <td>...</td>\n",
              "      <td>...</td>\n",
              "      <td>...</td>\n",
              "      <td>...</td>\n",
              "      <td>...</td>\n",
              "      <td>...</td>\n",
              "      <td>...</td>\n",
              "      <td>...</td>\n",
              "      <td>...</td>\n",
              "      <td>...</td>\n",
              "      <td>...</td>\n",
              "      <td>...</td>\n",
              "      <td>...</td>\n",
              "      <td>...</td>\n",
              "      <td>...</td>\n",
              "      <td>...</td>\n",
              "      <td>...</td>\n",
              "    </tr>\n",
              "    <tr>\n",
              "      <th>109378</th>\n",
              "      <td>109408</td>\n",
              "      <td>-0.043055</td>\n",
              "      <td>-0.032286</td>\n",
              "      <td>-0.008420</td>\n",
              "      <td>-0.050198</td>\n",
              "      <td>-0.018959</td>\n",
              "      <td>-0.017194</td>\n",
              "      <td>-0.055202</td>\n",
              "      <td>-0.009649</td>\n",
              "      <td>-0.026822</td>\n",
              "      <td>...</td>\n",
              "      <td>-0.008163</td>\n",
              "      <td>0.016061</td>\n",
              "      <td>0.000178</td>\n",
              "      <td>-0.011523</td>\n",
              "      <td>0.015680</td>\n",
              "      <td>-0.013873</td>\n",
              "      <td>-0.005626</td>\n",
              "      <td>0.014940</td>\n",
              "      <td>-0.007267</td>\n",
              "      <td>-0.012305</td>\n",
              "    </tr>\n",
              "    <tr>\n",
              "      <th>109379</th>\n",
              "      <td>109409</td>\n",
              "      <td>-0.043023</td>\n",
              "      <td>-0.040537</td>\n",
              "      <td>-0.030125</td>\n",
              "      <td>-0.051174</td>\n",
              "      <td>-0.036387</td>\n",
              "      <td>-0.028783</td>\n",
              "      <td>-0.046374</td>\n",
              "      <td>-0.028230</td>\n",
              "      <td>-0.038334</td>\n",
              "      <td>...</td>\n",
              "      <td>-0.032671</td>\n",
              "      <td>-0.001716</td>\n",
              "      <td>0.007283</td>\n",
              "      <td>-0.001700</td>\n",
              "      <td>-0.001506</td>\n",
              "      <td>-0.004036</td>\n",
              "      <td>0.019343</td>\n",
              "      <td>0.015427</td>\n",
              "      <td>-0.027098</td>\n",
              "      <td>0.011245</td>\n",
              "    </tr>\n",
              "    <tr>\n",
              "      <th>109380</th>\n",
              "      <td>109410</td>\n",
              "      <td>-0.034893</td>\n",
              "      <td>-0.033990</td>\n",
              "      <td>-0.027626</td>\n",
              "      <td>-0.040256</td>\n",
              "      <td>-0.031515</td>\n",
              "      <td>-0.026807</td>\n",
              "      <td>-0.037283</td>\n",
              "      <td>-0.026597</td>\n",
              "      <td>-0.032572</td>\n",
              "      <td>...</td>\n",
              "      <td>-0.017290</td>\n",
              "      <td>0.022589</td>\n",
              "      <td>0.030945</td>\n",
              "      <td>-0.009799</td>\n",
              "      <td>-0.004389</td>\n",
              "      <td>-0.036069</td>\n",
              "      <td>0.003044</td>\n",
              "      <td>0.017544</td>\n",
              "      <td>-0.006785</td>\n",
              "      <td>0.006392</td>\n",
              "    </tr>\n",
              "    <tr>\n",
              "      <th>109381</th>\n",
              "      <td>109411</td>\n",
              "      <td>-0.033150</td>\n",
              "      <td>-0.029210</td>\n",
              "      <td>-0.013862</td>\n",
              "      <td>-0.037316</td>\n",
              "      <td>-0.020679</td>\n",
              "      <td>-0.020880</td>\n",
              "      <td>-0.042050</td>\n",
              "      <td>-0.016437</td>\n",
              "      <td>-0.025194</td>\n",
              "      <td>...</td>\n",
              "      <td>-0.003647</td>\n",
              "      <td>-0.019774</td>\n",
              "      <td>0.013721</td>\n",
              "      <td>-0.001328</td>\n",
              "      <td>-0.004545</td>\n",
              "      <td>-0.001915</td>\n",
              "      <td>0.023282</td>\n",
              "      <td>-0.010563</td>\n",
              "      <td>0.003813</td>\n",
              "      <td>0.003407</td>\n",
              "    </tr>\n",
              "    <tr>\n",
              "      <th>109382</th>\n",
              "      <td>109412</td>\n",
              "      <td>-0.011201</td>\n",
              "      <td>-0.013140</td>\n",
              "      <td>-0.008364</td>\n",
              "      <td>-0.013315</td>\n",
              "      <td>-0.012308</td>\n",
              "      <td>-0.007785</td>\n",
              "      <td>-0.010754</td>\n",
              "      <td>-0.009410</td>\n",
              "      <td>-0.011477</td>\n",
              "      <td>...</td>\n",
              "      <td>-0.021350</td>\n",
              "      <td>0.013721</td>\n",
              "      <td>-0.020747</td>\n",
              "      <td>-0.024406</td>\n",
              "      <td>0.045886</td>\n",
              "      <td>-0.005199</td>\n",
              "      <td>-0.003213</td>\n",
              "      <td>0.017579</td>\n",
              "      <td>-0.022044</td>\n",
              "      <td>0.009405</td>\n",
              "    </tr>\n",
              "  </tbody>\n",
              "</table>\n",
              "<p>109383 rows × 115 columns</p>\n",
              "</div>\n",
              "      <button class=\"colab-df-convert\" onclick=\"convertToInteractive('df-5c5b559d-4a93-47e4-9bf9-778a7ca53933')\"\n",
              "              title=\"Convert this dataframe to an interactive table.\"\n",
              "              style=\"display:none;\">\n",
              "        \n",
              "  <svg xmlns=\"http://www.w3.org/2000/svg\" height=\"24px\"viewBox=\"0 0 24 24\"\n",
              "       width=\"24px\">\n",
              "    <path d=\"M0 0h24v24H0V0z\" fill=\"none\"/>\n",
              "    <path d=\"M18.56 5.44l.94 2.06.94-2.06 2.06-.94-2.06-.94-.94-2.06-.94 2.06-2.06.94zm-11 1L8.5 8.5l.94-2.06 2.06-.94-2.06-.94L8.5 2.5l-.94 2.06-2.06.94zm10 10l.94 2.06.94-2.06 2.06-.94-2.06-.94-.94-2.06-.94 2.06-2.06.94z\"/><path d=\"M17.41 7.96l-1.37-1.37c-.4-.4-.92-.59-1.43-.59-.52 0-1.04.2-1.43.59L10.3 9.45l-7.72 7.72c-.78.78-.78 2.05 0 2.83L4 21.41c.39.39.9.59 1.41.59.51 0 1.02-.2 1.41-.59l7.78-7.78 2.81-2.81c.8-.78.8-2.07 0-2.86zM5.41 20L4 18.59l7.72-7.72 1.47 1.35L5.41 20z\"/>\n",
              "  </svg>\n",
              "      </button>\n",
              "      \n",
              "  <style>\n",
              "    .colab-df-container {\n",
              "      display:flex;\n",
              "      flex-wrap:wrap;\n",
              "      gap: 12px;\n",
              "    }\n",
              "\n",
              "    .colab-df-convert {\n",
              "      background-color: #E8F0FE;\n",
              "      border: none;\n",
              "      border-radius: 50%;\n",
              "      cursor: pointer;\n",
              "      display: none;\n",
              "      fill: #1967D2;\n",
              "      height: 32px;\n",
              "      padding: 0 0 0 0;\n",
              "      width: 32px;\n",
              "    }\n",
              "\n",
              "    .colab-df-convert:hover {\n",
              "      background-color: #E2EBFA;\n",
              "      box-shadow: 0px 1px 2px rgba(60, 64, 67, 0.3), 0px 1px 3px 1px rgba(60, 64, 67, 0.15);\n",
              "      fill: #174EA6;\n",
              "    }\n",
              "\n",
              "    [theme=dark] .colab-df-convert {\n",
              "      background-color: #3B4455;\n",
              "      fill: #D2E3FC;\n",
              "    }\n",
              "\n",
              "    [theme=dark] .colab-df-convert:hover {\n",
              "      background-color: #434B5C;\n",
              "      box-shadow: 0px 1px 3px 1px rgba(0, 0, 0, 0.15);\n",
              "      filter: drop-shadow(0px 1px 2px rgba(0, 0, 0, 0.3));\n",
              "      fill: #FFFFFF;\n",
              "    }\n",
              "  </style>\n",
              "\n",
              "      <script>\n",
              "        const buttonEl =\n",
              "          document.querySelector('#df-5c5b559d-4a93-47e4-9bf9-778a7ca53933 button.colab-df-convert');\n",
              "        buttonEl.style.display =\n",
              "          google.colab.kernel.accessAllowed ? 'block' : 'none';\n",
              "\n",
              "        async function convertToInteractive(key) {\n",
              "          const element = document.querySelector('#df-5c5b559d-4a93-47e4-9bf9-778a7ca53933');\n",
              "          const dataTable =\n",
              "            await google.colab.kernel.invokeFunction('convertToInteractive',\n",
              "                                                     [key], {});\n",
              "          if (!dataTable) return;\n",
              "\n",
              "          const docLinkHtml = 'Like what you see? Visit the ' +\n",
              "            '<a target=\"_blank\" href=https://colab.research.google.com/notebooks/data_table.ipynb>data table notebook</a>'\n",
              "            + ' to learn more about interactive tables.';\n",
              "          element.innerHTML = '';\n",
              "          dataTable['output_type'] = 'display_data';\n",
              "          await google.colab.output.renderOutput(dataTable, element);\n",
              "          const docLink = document.createElement('div');\n",
              "          docLink.innerHTML = docLinkHtml;\n",
              "          element.appendChild(docLink);\n",
              "        }\n",
              "      </script>\n",
              "    </div>\n",
              "  </div>\n",
              "  "
            ],
            "text/plain": [
              "        Unnamed: 0         0         1         2         3         4  \\\n",
              "0                0 -0.030866 -0.028724 -0.011237 -0.034910 -0.019827   \n",
              "1                1 -0.040595 -0.035016 -0.023343 -0.046994 -0.027808   \n",
              "2                2 -0.042023 -0.044820 -0.029205 -0.046762 -0.038867   \n",
              "3                3 -0.039438 -0.032722 -0.023109 -0.047609 -0.025463   \n",
              "4                4 -0.043054 -0.042713 -0.026510 -0.048220 -0.035295   \n",
              "...            ...       ...       ...       ...       ...       ...   \n",
              "109378      109408 -0.043055 -0.032286 -0.008420 -0.050198 -0.018959   \n",
              "109379      109409 -0.043023 -0.040537 -0.030125 -0.051174 -0.036387   \n",
              "109380      109410 -0.034893 -0.033990 -0.027626 -0.040256 -0.031515   \n",
              "109381      109411 -0.033150 -0.029210 -0.013862 -0.037316 -0.020679   \n",
              "109382      109412 -0.011201 -0.013140 -0.008364 -0.013315 -0.012308   \n",
              "\n",
              "               5         6         7         8  ...       104       105  \\\n",
              "0      -0.019068 -0.039833 -0.015360 -0.023653  ... -0.003272  0.000558   \n",
              "1      -0.027257 -0.049094 -0.022516 -0.032750  ...  0.001009 -0.002207   \n",
              "2      -0.033574 -0.047183 -0.033664 -0.039810  ...  0.013014 -0.006383   \n",
              "3      -0.026382 -0.049767 -0.020351 -0.031508  ... -0.001816  0.005478   \n",
              "4      -0.031998 -0.050297 -0.029941 -0.038065  ... -0.001054 -0.004212   \n",
              "...          ...       ...       ...       ...  ...       ...       ...   \n",
              "109378 -0.017194 -0.055202 -0.009649 -0.026822  ... -0.008163  0.016061   \n",
              "109379 -0.028783 -0.046374 -0.028230 -0.038334  ... -0.032671 -0.001716   \n",
              "109380 -0.026807 -0.037283 -0.026597 -0.032572  ... -0.017290  0.022589   \n",
              "109381 -0.020880 -0.042050 -0.016437 -0.025194  ... -0.003647 -0.019774   \n",
              "109382 -0.007785 -0.010754 -0.009410 -0.011477  ... -0.021350  0.013721   \n",
              "\n",
              "             106       107       108       109       110       111       112  \\\n",
              "0      -0.007339 -0.011322  0.020229 -0.001146 -0.000275  0.001434 -0.003160   \n",
              "1      -0.013121  0.001112  0.005959  0.010091 -0.002753  0.002840  0.001841   \n",
              "2      -0.009629 -0.001831  0.008396  0.007767 -0.004050 -0.010008  0.007582   \n",
              "3      -0.005622  0.005219 -0.004600  0.004228 -0.005485  0.012284  0.014952   \n",
              "4      -0.005007 -0.005358  0.010740  0.001981  0.003907 -0.000523  0.001692   \n",
              "...          ...       ...       ...       ...       ...       ...       ...   \n",
              "109378  0.000178 -0.011523  0.015680 -0.013873 -0.005626  0.014940 -0.007267   \n",
              "109379  0.007283 -0.001700 -0.001506 -0.004036  0.019343  0.015427 -0.027098   \n",
              "109380  0.030945 -0.009799 -0.004389 -0.036069  0.003044  0.017544 -0.006785   \n",
              "109381  0.013721 -0.001328 -0.004545 -0.001915  0.023282 -0.010563  0.003813   \n",
              "109382 -0.020747 -0.024406  0.045886 -0.005199 -0.003213  0.017579 -0.022044   \n",
              "\n",
              "             113  \n",
              "0       0.006277  \n",
              "1      -0.006089  \n",
              "2      -0.000487  \n",
              "3       0.006117  \n",
              "4      -0.004457  \n",
              "...          ...  \n",
              "109378 -0.012305  \n",
              "109379  0.011245  \n",
              "109380  0.006392  \n",
              "109381  0.003407  \n",
              "109382  0.009405  \n",
              "\n",
              "[109383 rows x 115 columns]"
            ]
          },
          "execution_count": 107,
          "metadata": {},
          "output_type": "execute_result"
        }
      ],
      "source": [
        "X_"
      ]
    },
    {
      "cell_type": "code",
      "execution_count": null,
      "metadata": {
        "id": "idnY50EIOzjp"
      },
      "outputs": [],
      "source": [
        "X_ICA = pd.merge(X_, X_transformed, left_index=True, right_index=True)"
      ]
    },
    {
      "cell_type": "code",
      "execution_count": null,
      "metadata": {
        "colab": {
          "base_uri": "https://localhost:8080/"
        },
        "id": "zerrfmfZ62fU",
        "outputId": "e36f6d0b-e7d3-49ae-8a4d-10af7c557b10"
      },
      "outputs": [
        {
          "data": {
            "text/plain": [
              "(109383, 133)"
            ]
          },
          "execution_count": 109,
          "metadata": {},
          "output_type": "execute_result"
        }
      ],
      "source": [
        "X_ICA.shape"
      ]
    },
    {
      "cell_type": "code",
      "execution_count": null,
      "metadata": {
        "colab": {
          "base_uri": "https://localhost:8080/"
        },
        "id": "1aFdTf0U7tYL",
        "outputId": "06890593-d3ed-48f2-8fba-7ade1b874733"
      },
      "outputs": [
        {
          "data": {
            "text/plain": [
              "(109383,)"
            ]
          },
          "execution_count": 110,
          "metadata": {},
          "output_type": "execute_result"
        }
      ],
      "source": [
        "y_[\"0\"].shape"
      ]
    },
    {
      "cell_type": "code",
      "execution_count": null,
      "metadata": {
        "colab": {
          "base_uri": "https://localhost:8080/",
          "height": 380
        },
        "id": "m1fEnxTL8TPa",
        "outputId": "1be3941e-4024-434f-8c15-34834722b733"
      },
      "outputs": [
        {
          "ename": "KeyError",
          "evalue": "ignored",
          "output_type": "error",
          "traceback": [
            "\u001b[0;31m---------------------------------------------------------------------------\u001b[0m",
            "\u001b[0;31mKeyError\u001b[0m                                  Traceback (most recent call last)",
            "\u001b[0;32m<ipython-input-111-d0bddc658604>\u001b[0m in \u001b[0;36m<module>\u001b[0;34m()\u001b[0m\n\u001b[0;32m----> 1\u001b[0;31m \u001b[0my_\u001b[0m\u001b[0;34m[\u001b[0m\u001b[0;34m\"0\"\u001b[0m\u001b[0;34m]\u001b[0m\u001b[0;34m[\u001b[0m\u001b[0mX_ICA\u001b[0m\u001b[0;34m.\u001b[0m\u001b[0mindex\u001b[0m\u001b[0;34m]\u001b[0m\u001b[0;34m\u001b[0m\u001b[0;34m\u001b[0m\u001b[0m\n\u001b[0m",
            "\u001b[0;32m/usr/local/lib/python3.7/dist-packages/pandas/core/series.py\u001b[0m in \u001b[0;36m__getitem__\u001b[0;34m(self, key)\u001b[0m\n\u001b[1;32m    964\u001b[0m             \u001b[0;32mreturn\u001b[0m \u001b[0mself\u001b[0m\u001b[0;34m.\u001b[0m\u001b[0m_get_values\u001b[0m\u001b[0;34m(\u001b[0m\u001b[0mkey\u001b[0m\u001b[0;34m)\u001b[0m\u001b[0;34m\u001b[0m\u001b[0;34m\u001b[0m\u001b[0m\n\u001b[1;32m    965\u001b[0m \u001b[0;34m\u001b[0m\u001b[0m\n\u001b[0;32m--> 966\u001b[0;31m         \u001b[0;32mreturn\u001b[0m \u001b[0mself\u001b[0m\u001b[0;34m.\u001b[0m\u001b[0m_get_with\u001b[0m\u001b[0;34m(\u001b[0m\u001b[0mkey\u001b[0m\u001b[0;34m)\u001b[0m\u001b[0;34m\u001b[0m\u001b[0;34m\u001b[0m\u001b[0m\n\u001b[0m\u001b[1;32m    967\u001b[0m \u001b[0;34m\u001b[0m\u001b[0m\n\u001b[1;32m    968\u001b[0m     \u001b[0;32mdef\u001b[0m \u001b[0m_get_with\u001b[0m\u001b[0;34m(\u001b[0m\u001b[0mself\u001b[0m\u001b[0;34m,\u001b[0m \u001b[0mkey\u001b[0m\u001b[0;34m)\u001b[0m\u001b[0;34m:\u001b[0m\u001b[0;34m\u001b[0m\u001b[0;34m\u001b[0m\u001b[0m\n",
            "\u001b[0;32m/usr/local/lib/python3.7/dist-packages/pandas/core/series.py\u001b[0m in \u001b[0;36m_get_with\u001b[0;34m(self, key)\u001b[0m\n\u001b[1;32m    999\u001b[0m             \u001b[0;31m#  (i.e. self.iloc) or label-based (i.e. self.loc)\u001b[0m\u001b[0;34m\u001b[0m\u001b[0;34m\u001b[0m\u001b[0;34m\u001b[0m\u001b[0m\n\u001b[1;32m   1000\u001b[0m             \u001b[0;32mif\u001b[0m \u001b[0;32mnot\u001b[0m \u001b[0mself\u001b[0m\u001b[0;34m.\u001b[0m\u001b[0mindex\u001b[0m\u001b[0;34m.\u001b[0m\u001b[0m_should_fallback_to_positional\u001b[0m\u001b[0;34m(\u001b[0m\u001b[0;34m)\u001b[0m\u001b[0;34m:\u001b[0m\u001b[0;34m\u001b[0m\u001b[0;34m\u001b[0m\u001b[0m\n\u001b[0;32m-> 1001\u001b[0;31m                 \u001b[0;32mreturn\u001b[0m \u001b[0mself\u001b[0m\u001b[0;34m.\u001b[0m\u001b[0mloc\u001b[0m\u001b[0;34m[\u001b[0m\u001b[0mkey\u001b[0m\u001b[0;34m]\u001b[0m\u001b[0;34m\u001b[0m\u001b[0;34m\u001b[0m\u001b[0m\n\u001b[0m\u001b[1;32m   1002\u001b[0m             \u001b[0;32melse\u001b[0m\u001b[0;34m:\u001b[0m\u001b[0;34m\u001b[0m\u001b[0;34m\u001b[0m\u001b[0m\n\u001b[1;32m   1003\u001b[0m                 \u001b[0;32mreturn\u001b[0m \u001b[0mself\u001b[0m\u001b[0;34m.\u001b[0m\u001b[0miloc\u001b[0m\u001b[0;34m[\u001b[0m\u001b[0mkey\u001b[0m\u001b[0;34m]\u001b[0m\u001b[0;34m\u001b[0m\u001b[0;34m\u001b[0m\u001b[0m\n",
            "\u001b[0;32m/usr/local/lib/python3.7/dist-packages/pandas/core/indexing.py\u001b[0m in \u001b[0;36m__getitem__\u001b[0;34m(self, key)\u001b[0m\n\u001b[1;32m    929\u001b[0m \u001b[0;34m\u001b[0m\u001b[0m\n\u001b[1;32m    930\u001b[0m             \u001b[0mmaybe_callable\u001b[0m \u001b[0;34m=\u001b[0m \u001b[0mcom\u001b[0m\u001b[0;34m.\u001b[0m\u001b[0mapply_if_callable\u001b[0m\u001b[0;34m(\u001b[0m\u001b[0mkey\u001b[0m\u001b[0;34m,\u001b[0m \u001b[0mself\u001b[0m\u001b[0;34m.\u001b[0m\u001b[0mobj\u001b[0m\u001b[0;34m)\u001b[0m\u001b[0;34m\u001b[0m\u001b[0;34m\u001b[0m\u001b[0m\n\u001b[0;32m--> 931\u001b[0;31m             \u001b[0;32mreturn\u001b[0m \u001b[0mself\u001b[0m\u001b[0;34m.\u001b[0m\u001b[0m_getitem_axis\u001b[0m\u001b[0;34m(\u001b[0m\u001b[0mmaybe_callable\u001b[0m\u001b[0;34m,\u001b[0m \u001b[0maxis\u001b[0m\u001b[0;34m=\u001b[0m\u001b[0maxis\u001b[0m\u001b[0;34m)\u001b[0m\u001b[0;34m\u001b[0m\u001b[0;34m\u001b[0m\u001b[0m\n\u001b[0m\u001b[1;32m    932\u001b[0m \u001b[0;34m\u001b[0m\u001b[0m\n\u001b[1;32m    933\u001b[0m     \u001b[0;32mdef\u001b[0m \u001b[0m_is_scalar_access\u001b[0m\u001b[0;34m(\u001b[0m\u001b[0mself\u001b[0m\u001b[0;34m,\u001b[0m \u001b[0mkey\u001b[0m\u001b[0;34m:\u001b[0m \u001b[0mtuple\u001b[0m\u001b[0;34m)\u001b[0m\u001b[0;34m:\u001b[0m\u001b[0;34m\u001b[0m\u001b[0;34m\u001b[0m\u001b[0m\n",
            "\u001b[0;32m/usr/local/lib/python3.7/dist-packages/pandas/core/indexing.py\u001b[0m in \u001b[0;36m_getitem_axis\u001b[0;34m(self, key, axis)\u001b[0m\n\u001b[1;32m   1151\u001b[0m                     \u001b[0;32mraise\u001b[0m \u001b[0mValueError\u001b[0m\u001b[0;34m(\u001b[0m\u001b[0;34m\"Cannot index with multidimensional key\"\u001b[0m\u001b[0;34m)\u001b[0m\u001b[0;34m\u001b[0m\u001b[0;34m\u001b[0m\u001b[0m\n\u001b[1;32m   1152\u001b[0m \u001b[0;34m\u001b[0m\u001b[0m\n\u001b[0;32m-> 1153\u001b[0;31m                 \u001b[0;32mreturn\u001b[0m \u001b[0mself\u001b[0m\u001b[0;34m.\u001b[0m\u001b[0m_getitem_iterable\u001b[0m\u001b[0;34m(\u001b[0m\u001b[0mkey\u001b[0m\u001b[0;34m,\u001b[0m \u001b[0maxis\u001b[0m\u001b[0;34m=\u001b[0m\u001b[0maxis\u001b[0m\u001b[0;34m)\u001b[0m\u001b[0;34m\u001b[0m\u001b[0;34m\u001b[0m\u001b[0m\n\u001b[0m\u001b[1;32m   1154\u001b[0m \u001b[0;34m\u001b[0m\u001b[0m\n\u001b[1;32m   1155\u001b[0m             \u001b[0;31m# nested tuple slicing\u001b[0m\u001b[0;34m\u001b[0m\u001b[0;34m\u001b[0m\u001b[0;34m\u001b[0m\u001b[0m\n",
            "\u001b[0;32m/usr/local/lib/python3.7/dist-packages/pandas/core/indexing.py\u001b[0m in \u001b[0;36m_getitem_iterable\u001b[0;34m(self, key, axis)\u001b[0m\n\u001b[1;32m   1091\u001b[0m \u001b[0;34m\u001b[0m\u001b[0m\n\u001b[1;32m   1092\u001b[0m         \u001b[0;31m# A collection of keys\u001b[0m\u001b[0;34m\u001b[0m\u001b[0;34m\u001b[0m\u001b[0;34m\u001b[0m\u001b[0m\n\u001b[0;32m-> 1093\u001b[0;31m         \u001b[0mkeyarr\u001b[0m\u001b[0;34m,\u001b[0m \u001b[0mindexer\u001b[0m \u001b[0;34m=\u001b[0m \u001b[0mself\u001b[0m\u001b[0;34m.\u001b[0m\u001b[0m_get_listlike_indexer\u001b[0m\u001b[0;34m(\u001b[0m\u001b[0mkey\u001b[0m\u001b[0;34m,\u001b[0m \u001b[0maxis\u001b[0m\u001b[0;34m)\u001b[0m\u001b[0;34m\u001b[0m\u001b[0;34m\u001b[0m\u001b[0m\n\u001b[0m\u001b[1;32m   1094\u001b[0m         return self.obj._reindex_with_indexers(\n\u001b[1;32m   1095\u001b[0m             \u001b[0;34m{\u001b[0m\u001b[0maxis\u001b[0m\u001b[0;34m:\u001b[0m \u001b[0;34m[\u001b[0m\u001b[0mkeyarr\u001b[0m\u001b[0;34m,\u001b[0m \u001b[0mindexer\u001b[0m\u001b[0;34m]\u001b[0m\u001b[0;34m}\u001b[0m\u001b[0;34m,\u001b[0m \u001b[0mcopy\u001b[0m\u001b[0;34m=\u001b[0m\u001b[0;32mTrue\u001b[0m\u001b[0;34m,\u001b[0m \u001b[0mallow_dups\u001b[0m\u001b[0;34m=\u001b[0m\u001b[0;32mTrue\u001b[0m\u001b[0;34m\u001b[0m\u001b[0;34m\u001b[0m\u001b[0m\n",
            "\u001b[0;32m/usr/local/lib/python3.7/dist-packages/pandas/core/indexing.py\u001b[0m in \u001b[0;36m_get_listlike_indexer\u001b[0;34m(self, key, axis)\u001b[0m\n\u001b[1;32m   1312\u001b[0m             \u001b[0mkeyarr\u001b[0m\u001b[0;34m,\u001b[0m \u001b[0mindexer\u001b[0m\u001b[0;34m,\u001b[0m \u001b[0mnew_indexer\u001b[0m \u001b[0;34m=\u001b[0m \u001b[0max\u001b[0m\u001b[0;34m.\u001b[0m\u001b[0m_reindex_non_unique\u001b[0m\u001b[0;34m(\u001b[0m\u001b[0mkeyarr\u001b[0m\u001b[0;34m)\u001b[0m\u001b[0;34m\u001b[0m\u001b[0;34m\u001b[0m\u001b[0m\n\u001b[1;32m   1313\u001b[0m \u001b[0;34m\u001b[0m\u001b[0m\n\u001b[0;32m-> 1314\u001b[0;31m         \u001b[0mself\u001b[0m\u001b[0;34m.\u001b[0m\u001b[0m_validate_read_indexer\u001b[0m\u001b[0;34m(\u001b[0m\u001b[0mkeyarr\u001b[0m\u001b[0;34m,\u001b[0m \u001b[0mindexer\u001b[0m\u001b[0;34m,\u001b[0m \u001b[0maxis\u001b[0m\u001b[0;34m)\u001b[0m\u001b[0;34m\u001b[0m\u001b[0;34m\u001b[0m\u001b[0m\n\u001b[0m\u001b[1;32m   1315\u001b[0m \u001b[0;34m\u001b[0m\u001b[0m\n\u001b[1;32m   1316\u001b[0m         if needs_i8_conversion(ax.dtype) or isinstance(\n",
            "\u001b[0;32m/usr/local/lib/python3.7/dist-packages/pandas/core/indexing.py\u001b[0m in \u001b[0;36m_validate_read_indexer\u001b[0;34m(self, key, indexer, axis)\u001b[0m\n\u001b[1;32m   1375\u001b[0m \u001b[0;34m\u001b[0m\u001b[0m\n\u001b[1;32m   1376\u001b[0m             \u001b[0mnot_found\u001b[0m \u001b[0;34m=\u001b[0m \u001b[0mlist\u001b[0m\u001b[0;34m(\u001b[0m\u001b[0mensure_index\u001b[0m\u001b[0;34m(\u001b[0m\u001b[0mkey\u001b[0m\u001b[0;34m)\u001b[0m\u001b[0;34m[\u001b[0m\u001b[0mmissing_mask\u001b[0m\u001b[0;34m.\u001b[0m\u001b[0mnonzero\u001b[0m\u001b[0;34m(\u001b[0m\u001b[0;34m)\u001b[0m\u001b[0;34m[\u001b[0m\u001b[0;36m0\u001b[0m\u001b[0;34m]\u001b[0m\u001b[0;34m]\u001b[0m\u001b[0;34m.\u001b[0m\u001b[0munique\u001b[0m\u001b[0;34m(\u001b[0m\u001b[0;34m)\u001b[0m\u001b[0;34m)\u001b[0m\u001b[0;34m\u001b[0m\u001b[0;34m\u001b[0m\u001b[0m\n\u001b[0;32m-> 1377\u001b[0;31m             \u001b[0;32mraise\u001b[0m \u001b[0mKeyError\u001b[0m\u001b[0;34m(\u001b[0m\u001b[0;34mf\"{not_found} not in index\"\u001b[0m\u001b[0;34m)\u001b[0m\u001b[0;34m\u001b[0m\u001b[0;34m\u001b[0m\u001b[0m\n\u001b[0m\u001b[1;32m   1378\u001b[0m \u001b[0;34m\u001b[0m\u001b[0m\n\u001b[1;32m   1379\u001b[0m \u001b[0;34m\u001b[0m\u001b[0m\n",
            "\u001b[0;31mKeyError\u001b[0m: '[2271, 6319, 8402, 10612, 21633, 26294, 28088, 31918, 34329, 35863, 41988, 44463, 47598, 50198, 54295, 59925, 64736, 67740, 70389, 73136, 76386, 78645, 82007, 88414, 90840, 93322, 95926, 100233, 101803, 106660] not in index'"
          ]
        }
      ],
      "source": [
        "y_[\"0\"][X_ICA.index]"
      ]
    },
    {
      "cell_type": "code",
      "execution_count": null,
      "metadata": {
        "id": "aoZ4rAAZ9CeM"
      },
      "outputs": [],
      "source": [
        "X_ICA.drop([\"Unnamed: 0\"], axis=1, inplace=True)"
      ]
    },
    {
      "cell_type": "code",
      "execution_count": null,
      "metadata": {
        "id": "sOqWzmxIKrt2"
      },
      "outputs": [],
      "source": [
        "\n",
        "X_train_ICA, X_test_ICA, y_train, y_test = train_test_split(X_ICA, y_[\"0\"], test_size=0.2)"
      ]
    },
    {
      "cell_type": "code",
      "execution_count": null,
      "metadata": {
        "colab": {
          "base_uri": "https://localhost:8080/",
          "height": 488
        },
        "id": "pfZ_7E6vLEMb",
        "outputId": "744f040a-a70a-40e1-d52f-97215ded8f8e"
      },
      "outputs": [
        {
          "data": {
            "text/html": [
              "\n",
              "  <div id=\"df-27dd6627-57e0-40c4-a6c6-08fa782e3118\">\n",
              "    <div class=\"colab-df-container\">\n",
              "      <div>\n",
              "<style scoped>\n",
              "    .dataframe tbody tr th:only-of-type {\n",
              "        vertical-align: middle;\n",
              "    }\n",
              "\n",
              "    .dataframe tbody tr th {\n",
              "        vertical-align: top;\n",
              "    }\n",
              "\n",
              "    .dataframe thead th {\n",
              "        text-align: right;\n",
              "    }\n",
              "</style>\n",
              "<table border=\"1\" class=\"dataframe\">\n",
              "  <thead>\n",
              "    <tr style=\"text-align: right;\">\n",
              "      <th></th>\n",
              "      <th>0</th>\n",
              "      <th>1</th>\n",
              "      <th>2</th>\n",
              "      <th>3</th>\n",
              "      <th>4</th>\n",
              "      <th>5</th>\n",
              "      <th>6</th>\n",
              "      <th>7</th>\n",
              "      <th>8</th>\n",
              "      <th>9</th>\n",
              "      <th>...</th>\n",
              "      <th>8</th>\n",
              "      <th>9</th>\n",
              "      <th>10</th>\n",
              "      <th>11</th>\n",
              "      <th>12</th>\n",
              "      <th>13</th>\n",
              "      <th>14</th>\n",
              "      <th>15</th>\n",
              "      <th>16</th>\n",
              "      <th>17</th>\n",
              "    </tr>\n",
              "  </thead>\n",
              "  <tbody>\n",
              "    <tr>\n",
              "      <th>64403</th>\n",
              "      <td>-0.023244</td>\n",
              "      <td>-0.030016</td>\n",
              "      <td>-0.034909</td>\n",
              "      <td>-0.024176</td>\n",
              "      <td>-0.034232</td>\n",
              "      <td>-0.031034</td>\n",
              "      <td>-0.020044</td>\n",
              "      <td>-0.035156</td>\n",
              "      <td>-0.030406</td>\n",
              "      <td>-0.026671</td>\n",
              "      <td>...</td>\n",
              "      <td>-0.000096</td>\n",
              "      <td>0.001502</td>\n",
              "      <td>-0.001341</td>\n",
              "      <td>-0.004014</td>\n",
              "      <td>-0.000995</td>\n",
              "      <td>0.000109</td>\n",
              "      <td>-0.000246</td>\n",
              "      <td>-0.001989</td>\n",
              "      <td>-0.001009</td>\n",
              "      <td>-0.000330</td>\n",
              "    </tr>\n",
              "    <tr>\n",
              "      <th>101540</th>\n",
              "      <td>-0.030425</td>\n",
              "      <td>-0.029572</td>\n",
              "      <td>-0.022590</td>\n",
              "      <td>-0.035816</td>\n",
              "      <td>-0.026614</td>\n",
              "      <td>-0.022415</td>\n",
              "      <td>-0.033486</td>\n",
              "      <td>-0.021871</td>\n",
              "      <td>-0.027924</td>\n",
              "      <td>-0.036711</td>\n",
              "      <td>...</td>\n",
              "      <td>0.000594</td>\n",
              "      <td>-0.001433</td>\n",
              "      <td>0.000971</td>\n",
              "      <td>-0.002159</td>\n",
              "      <td>0.000629</td>\n",
              "      <td>-0.000581</td>\n",
              "      <td>0.000773</td>\n",
              "      <td>-0.004685</td>\n",
              "      <td>-0.000553</td>\n",
              "      <td>0.001818</td>\n",
              "    </tr>\n",
              "    <tr>\n",
              "      <th>42242</th>\n",
              "      <td>-0.066713</td>\n",
              "      <td>-0.052185</td>\n",
              "      <td>-0.031185</td>\n",
              "      <td>-0.078288</td>\n",
              "      <td>-0.037140</td>\n",
              "      <td>-0.040255</td>\n",
              "      <td>-0.085264</td>\n",
              "      <td>-0.028264</td>\n",
              "      <td>-0.049042</td>\n",
              "      <td>-0.076041</td>\n",
              "      <td>...</td>\n",
              "      <td>0.000674</td>\n",
              "      <td>-0.001507</td>\n",
              "      <td>0.005064</td>\n",
              "      <td>0.001129</td>\n",
              "      <td>-0.000421</td>\n",
              "      <td>0.000244</td>\n",
              "      <td>-0.000299</td>\n",
              "      <td>0.002141</td>\n",
              "      <td>-0.000063</td>\n",
              "      <td>0.000210</td>\n",
              "    </tr>\n",
              "    <tr>\n",
              "      <th>60745</th>\n",
              "      <td>-0.000272</td>\n",
              "      <td>-0.000232</td>\n",
              "      <td>-0.000002</td>\n",
              "      <td>-0.000235</td>\n",
              "      <td>-0.000919</td>\n",
              "      <td>0.001423</td>\n",
              "      <td>0.001771</td>\n",
              "      <td>0.000255</td>\n",
              "      <td>-0.000215</td>\n",
              "      <td>-0.000529</td>\n",
              "      <td>...</td>\n",
              "      <td>-0.000582</td>\n",
              "      <td>0.001977</td>\n",
              "      <td>-0.005505</td>\n",
              "      <td>0.002513</td>\n",
              "      <td>-0.000393</td>\n",
              "      <td>0.000246</td>\n",
              "      <td>-0.000870</td>\n",
              "      <td>0.000774</td>\n",
              "      <td>-0.000734</td>\n",
              "      <td>-0.000438</td>\n",
              "    </tr>\n",
              "    <tr>\n",
              "      <th>27294</th>\n",
              "      <td>-0.025871</td>\n",
              "      <td>-0.015524</td>\n",
              "      <td>-0.008666</td>\n",
              "      <td>-0.031293</td>\n",
              "      <td>-0.008852</td>\n",
              "      <td>-0.011781</td>\n",
              "      <td>-0.034420</td>\n",
              "      <td>-0.004738</td>\n",
              "      <td>-0.015527</td>\n",
              "      <td>-0.031356</td>\n",
              "      <td>...</td>\n",
              "      <td>-0.000016</td>\n",
              "      <td>0.000082</td>\n",
              "      <td>0.000333</td>\n",
              "      <td>-0.002347</td>\n",
              "      <td>-0.000534</td>\n",
              "      <td>0.000466</td>\n",
              "      <td>-0.000100</td>\n",
              "      <td>0.001195</td>\n",
              "      <td>0.000244</td>\n",
              "      <td>0.000759</td>\n",
              "    </tr>\n",
              "    <tr>\n",
              "      <th>...</th>\n",
              "      <td>...</td>\n",
              "      <td>...</td>\n",
              "      <td>...</td>\n",
              "      <td>...</td>\n",
              "      <td>...</td>\n",
              "      <td>...</td>\n",
              "      <td>...</td>\n",
              "      <td>...</td>\n",
              "      <td>...</td>\n",
              "      <td>...</td>\n",
              "      <td>...</td>\n",
              "      <td>...</td>\n",
              "      <td>...</td>\n",
              "      <td>...</td>\n",
              "      <td>...</td>\n",
              "      <td>...</td>\n",
              "      <td>...</td>\n",
              "      <td>...</td>\n",
              "      <td>...</td>\n",
              "      <td>...</td>\n",
              "      <td>...</td>\n",
              "    </tr>\n",
              "    <tr>\n",
              "      <th>13846</th>\n",
              "      <td>-0.053485</td>\n",
              "      <td>-0.056252</td>\n",
              "      <td>-0.035921</td>\n",
              "      <td>-0.058746</td>\n",
              "      <td>-0.048360</td>\n",
              "      <td>-0.042038</td>\n",
              "      <td>-0.059909</td>\n",
              "      <td>-0.041887</td>\n",
              "      <td>-0.049498</td>\n",
              "      <td>-0.057010</td>\n",
              "      <td>...</td>\n",
              "      <td>0.000067</td>\n",
              "      <td>-0.000634</td>\n",
              "      <td>0.000347</td>\n",
              "      <td>-0.001295</td>\n",
              "      <td>0.000275</td>\n",
              "      <td>-0.000380</td>\n",
              "      <td>0.000318</td>\n",
              "      <td>0.003356</td>\n",
              "      <td>-0.000464</td>\n",
              "      <td>0.000158</td>\n",
              "    </tr>\n",
              "    <tr>\n",
              "      <th>96010</th>\n",
              "      <td>-0.000251</td>\n",
              "      <td>0.001354</td>\n",
              "      <td>0.000112</td>\n",
              "      <td>0.001759</td>\n",
              "      <td>0.001404</td>\n",
              "      <td>-0.000704</td>\n",
              "      <td>0.000203</td>\n",
              "      <td>0.000123</td>\n",
              "      <td>0.000754</td>\n",
              "      <td>0.003132</td>\n",
              "      <td>...</td>\n",
              "      <td>0.000421</td>\n",
              "      <td>0.000936</td>\n",
              "      <td>-0.001902</td>\n",
              "      <td>0.000799</td>\n",
              "      <td>-0.000868</td>\n",
              "      <td>-0.000203</td>\n",
              "      <td>-0.000909</td>\n",
              "      <td>-0.003564</td>\n",
              "      <td>-0.000177</td>\n",
              "      <td>-0.000454</td>\n",
              "    </tr>\n",
              "    <tr>\n",
              "      <th>77852</th>\n",
              "      <td>-0.025564</td>\n",
              "      <td>-0.020101</td>\n",
              "      <td>-0.020159</td>\n",
              "      <td>-0.031033</td>\n",
              "      <td>-0.018492</td>\n",
              "      <td>-0.018084</td>\n",
              "      <td>-0.029102</td>\n",
              "      <td>-0.015165</td>\n",
              "      <td>-0.021577</td>\n",
              "      <td>-0.033470</td>\n",
              "      <td>...</td>\n",
              "      <td>0.000241</td>\n",
              "      <td>0.000547</td>\n",
              "      <td>0.001117</td>\n",
              "      <td>-0.000073</td>\n",
              "      <td>-0.000430</td>\n",
              "      <td>0.000351</td>\n",
              "      <td>-0.000872</td>\n",
              "      <td>-0.002304</td>\n",
              "      <td>-0.000017</td>\n",
              "      <td>0.000019</td>\n",
              "    </tr>\n",
              "    <tr>\n",
              "      <th>100483</th>\n",
              "      <td>-0.040988</td>\n",
              "      <td>-0.038682</td>\n",
              "      <td>-0.026342</td>\n",
              "      <td>-0.047116</td>\n",
              "      <td>-0.033071</td>\n",
              "      <td>-0.028455</td>\n",
              "      <td>-0.046226</td>\n",
              "      <td>-0.026712</td>\n",
              "      <td>-0.035658</td>\n",
              "      <td>-0.046827</td>\n",
              "      <td>...</td>\n",
              "      <td>-0.000257</td>\n",
              "      <td>-0.001774</td>\n",
              "      <td>0.000620</td>\n",
              "      <td>-0.001207</td>\n",
              "      <td>0.000420</td>\n",
              "      <td>-0.000268</td>\n",
              "      <td>0.000227</td>\n",
              "      <td>-0.004480</td>\n",
              "      <td>-0.001037</td>\n",
              "      <td>0.001840</td>\n",
              "    </tr>\n",
              "    <tr>\n",
              "      <th>52576</th>\n",
              "      <td>-0.019802</td>\n",
              "      <td>-0.009547</td>\n",
              "      <td>-0.008174</td>\n",
              "      <td>-0.026005</td>\n",
              "      <td>-0.005430</td>\n",
              "      <td>-0.007925</td>\n",
              "      <td>-0.026498</td>\n",
              "      <td>-0.001719</td>\n",
              "      <td>-0.011433</td>\n",
              "      <td>-0.027573</td>\n",
              "      <td>...</td>\n",
              "      <td>-0.000158</td>\n",
              "      <td>0.000583</td>\n",
              "      <td>0.000170</td>\n",
              "      <td>0.000778</td>\n",
              "      <td>-0.000221</td>\n",
              "      <td>0.000110</td>\n",
              "      <td>-0.000383</td>\n",
              "      <td>0.000217</td>\n",
              "      <td>0.000266</td>\n",
              "      <td>-0.000539</td>\n",
              "    </tr>\n",
              "  </tbody>\n",
              "</table>\n",
              "<p>87506 rows × 132 columns</p>\n",
              "</div>\n",
              "      <button class=\"colab-df-convert\" onclick=\"convertToInteractive('df-27dd6627-57e0-40c4-a6c6-08fa782e3118')\"\n",
              "              title=\"Convert this dataframe to an interactive table.\"\n",
              "              style=\"display:none;\">\n",
              "        \n",
              "  <svg xmlns=\"http://www.w3.org/2000/svg\" height=\"24px\"viewBox=\"0 0 24 24\"\n",
              "       width=\"24px\">\n",
              "    <path d=\"M0 0h24v24H0V0z\" fill=\"none\"/>\n",
              "    <path d=\"M18.56 5.44l.94 2.06.94-2.06 2.06-.94-2.06-.94-.94-2.06-.94 2.06-2.06.94zm-11 1L8.5 8.5l.94-2.06 2.06-.94-2.06-.94L8.5 2.5l-.94 2.06-2.06.94zm10 10l.94 2.06.94-2.06 2.06-.94-2.06-.94-.94-2.06-.94 2.06-2.06.94z\"/><path d=\"M17.41 7.96l-1.37-1.37c-.4-.4-.92-.59-1.43-.59-.52 0-1.04.2-1.43.59L10.3 9.45l-7.72 7.72c-.78.78-.78 2.05 0 2.83L4 21.41c.39.39.9.59 1.41.59.51 0 1.02-.2 1.41-.59l7.78-7.78 2.81-2.81c.8-.78.8-2.07 0-2.86zM5.41 20L4 18.59l7.72-7.72 1.47 1.35L5.41 20z\"/>\n",
              "  </svg>\n",
              "      </button>\n",
              "      \n",
              "  <style>\n",
              "    .colab-df-container {\n",
              "      display:flex;\n",
              "      flex-wrap:wrap;\n",
              "      gap: 12px;\n",
              "    }\n",
              "\n",
              "    .colab-df-convert {\n",
              "      background-color: #E8F0FE;\n",
              "      border: none;\n",
              "      border-radius: 50%;\n",
              "      cursor: pointer;\n",
              "      display: none;\n",
              "      fill: #1967D2;\n",
              "      height: 32px;\n",
              "      padding: 0 0 0 0;\n",
              "      width: 32px;\n",
              "    }\n",
              "\n",
              "    .colab-df-convert:hover {\n",
              "      background-color: #E2EBFA;\n",
              "      box-shadow: 0px 1px 2px rgba(60, 64, 67, 0.3), 0px 1px 3px 1px rgba(60, 64, 67, 0.15);\n",
              "      fill: #174EA6;\n",
              "    }\n",
              "\n",
              "    [theme=dark] .colab-df-convert {\n",
              "      background-color: #3B4455;\n",
              "      fill: #D2E3FC;\n",
              "    }\n",
              "\n",
              "    [theme=dark] .colab-df-convert:hover {\n",
              "      background-color: #434B5C;\n",
              "      box-shadow: 0px 1px 3px 1px rgba(0, 0, 0, 0.15);\n",
              "      filter: drop-shadow(0px 1px 2px rgba(0, 0, 0, 0.3));\n",
              "      fill: #FFFFFF;\n",
              "    }\n",
              "  </style>\n",
              "\n",
              "      <script>\n",
              "        const buttonEl =\n",
              "          document.querySelector('#df-27dd6627-57e0-40c4-a6c6-08fa782e3118 button.colab-df-convert');\n",
              "        buttonEl.style.display =\n",
              "          google.colab.kernel.accessAllowed ? 'block' : 'none';\n",
              "\n",
              "        async function convertToInteractive(key) {\n",
              "          const element = document.querySelector('#df-27dd6627-57e0-40c4-a6c6-08fa782e3118');\n",
              "          const dataTable =\n",
              "            await google.colab.kernel.invokeFunction('convertToInteractive',\n",
              "                                                     [key], {});\n",
              "          if (!dataTable) return;\n",
              "\n",
              "          const docLinkHtml = 'Like what you see? Visit the ' +\n",
              "            '<a target=\"_blank\" href=https://colab.research.google.com/notebooks/data_table.ipynb>data table notebook</a>'\n",
              "            + ' to learn more about interactive tables.';\n",
              "          element.innerHTML = '';\n",
              "          dataTable['output_type'] = 'display_data';\n",
              "          await google.colab.output.renderOutput(dataTable, element);\n",
              "          const docLink = document.createElement('div');\n",
              "          docLink.innerHTML = docLinkHtml;\n",
              "          element.appendChild(docLink);\n",
              "        }\n",
              "      </script>\n",
              "    </div>\n",
              "  </div>\n",
              "  "
            ],
            "text/plain": [
              "               0         1         2         3         4         5         6  \\\n",
              "64403  -0.023244 -0.030016 -0.034909 -0.024176 -0.034232 -0.031034 -0.020044   \n",
              "101540 -0.030425 -0.029572 -0.022590 -0.035816 -0.026614 -0.022415 -0.033486   \n",
              "42242  -0.066713 -0.052185 -0.031185 -0.078288 -0.037140 -0.040255 -0.085264   \n",
              "60745  -0.000272 -0.000232 -0.000002 -0.000235 -0.000919  0.001423  0.001771   \n",
              "27294  -0.025871 -0.015524 -0.008666 -0.031293 -0.008852 -0.011781 -0.034420   \n",
              "...          ...       ...       ...       ...       ...       ...       ...   \n",
              "13846  -0.053485 -0.056252 -0.035921 -0.058746 -0.048360 -0.042038 -0.059909   \n",
              "96010  -0.000251  0.001354  0.000112  0.001759  0.001404 -0.000704  0.000203   \n",
              "77852  -0.025564 -0.020101 -0.020159 -0.031033 -0.018492 -0.018084 -0.029102   \n",
              "100483 -0.040988 -0.038682 -0.026342 -0.047116 -0.033071 -0.028455 -0.046226   \n",
              "52576  -0.019802 -0.009547 -0.008174 -0.026005 -0.005430 -0.007925 -0.026498   \n",
              "\n",
              "               7         8         9  ...         8         9        10  \\\n",
              "64403  -0.035156 -0.030406 -0.026671  ... -0.000096  0.001502 -0.001341   \n",
              "101540 -0.021871 -0.027924 -0.036711  ...  0.000594 -0.001433  0.000971   \n",
              "42242  -0.028264 -0.049042 -0.076041  ...  0.000674 -0.001507  0.005064   \n",
              "60745   0.000255 -0.000215 -0.000529  ... -0.000582  0.001977 -0.005505   \n",
              "27294  -0.004738 -0.015527 -0.031356  ... -0.000016  0.000082  0.000333   \n",
              "...          ...       ...       ...  ...       ...       ...       ...   \n",
              "13846  -0.041887 -0.049498 -0.057010  ...  0.000067 -0.000634  0.000347   \n",
              "96010   0.000123  0.000754  0.003132  ...  0.000421  0.000936 -0.001902   \n",
              "77852  -0.015165 -0.021577 -0.033470  ...  0.000241  0.000547  0.001117   \n",
              "100483 -0.026712 -0.035658 -0.046827  ... -0.000257 -0.001774  0.000620   \n",
              "52576  -0.001719 -0.011433 -0.027573  ... -0.000158  0.000583  0.000170   \n",
              "\n",
              "              11        12        13        14        15        16        17  \n",
              "64403  -0.004014 -0.000995  0.000109 -0.000246 -0.001989 -0.001009 -0.000330  \n",
              "101540 -0.002159  0.000629 -0.000581  0.000773 -0.004685 -0.000553  0.001818  \n",
              "42242   0.001129 -0.000421  0.000244 -0.000299  0.002141 -0.000063  0.000210  \n",
              "60745   0.002513 -0.000393  0.000246 -0.000870  0.000774 -0.000734 -0.000438  \n",
              "27294  -0.002347 -0.000534  0.000466 -0.000100  0.001195  0.000244  0.000759  \n",
              "...          ...       ...       ...       ...       ...       ...       ...  \n",
              "13846  -0.001295  0.000275 -0.000380  0.000318  0.003356 -0.000464  0.000158  \n",
              "96010   0.000799 -0.000868 -0.000203 -0.000909 -0.003564 -0.000177 -0.000454  \n",
              "77852  -0.000073 -0.000430  0.000351 -0.000872 -0.002304 -0.000017  0.000019  \n",
              "100483 -0.001207  0.000420 -0.000268  0.000227 -0.004480 -0.001037  0.001840  \n",
              "52576   0.000778 -0.000221  0.000110 -0.000383  0.000217  0.000266 -0.000539  \n",
              "\n",
              "[87506 rows x 132 columns]"
            ]
          },
          "execution_count": 114,
          "metadata": {},
          "output_type": "execute_result"
        }
      ],
      "source": [
        "pd.DataFrame(X_train_ICA)"
      ]
    },
    {
      "cell_type": "code",
      "execution_count": null,
      "metadata": {
        "colab": {
          "base_uri": "https://localhost:8080/",
          "height": 70
        },
        "id": "-zsIraP9J8IC",
        "outputId": "99d730a3-882d-4e8d-fdd1-746bb5ce3bef"
      },
      "outputs": [
        {
          "data": {
            "application/vnd.google.colaboratory.intrinsic+json": {
              "type": "string"
            },
            "text/plain": [
              "\"from sklearn.svm import SVC\\nfrom sklearn.pipeline import make_pipeline\\nfrom sklearn.preprocessing import StandardScaler\\n\\nclf = make_pipeline(StandardScaler(), SVC(gamma='auto'))\\nclf.fit(X_train_ICA, y_train)\""
            ]
          },
          "execution_count": 115,
          "metadata": {},
          "output_type": "execute_result"
        }
      ],
      "source": [
        "\"\"\"from sklearn.svm import SVC\n",
        "from sklearn.pipeline import make_pipeline\n",
        "from sklearn.preprocessing import StandardScaler\n",
        "\n",
        "clf = make_pipeline(StandardScaler(), SVC(gamma='auto'))\n",
        "clf.fit(X_train_ICA, y_train)\"\"\""
      ]
    },
    {
      "cell_type": "code",
      "execution_count": null,
      "metadata": {
        "id": "DXmlGl6GJ8Fj"
      },
      "outputs": [],
      "source": [
        "filename = 'finalized_model_ICA.sav'\n",
        "\n",
        "#pickle.dump(clf, open(filename, 'wb'))"
      ]
    },
    {
      "cell_type": "code",
      "execution_count": null,
      "metadata": {
        "id": "ULcX0UKMv4rh"
      },
      "outputs": [],
      "source": [
        "\n",
        "clf = pickle.load(open(filename, \"rb\"))"
      ]
    },
    {
      "cell_type": "code",
      "execution_count": null,
      "metadata": {
        "id": "T9wkB44BVr2n"
      },
      "outputs": [],
      "source": [
        "accuracy = clf.score(X_test_ICA, y_test)"
      ]
    },
    {
      "cell_type": "code",
      "execution_count": null,
      "metadata": {
        "colab": {
          "base_uri": "https://localhost:8080/"
        },
        "id": "zI_4sZqVxw2F",
        "outputId": "05820ce4-48df-46a0-d8f3-c0e70bb61731"
      },
      "outputs": [
        {
          "data": {
            "text/plain": [
              "0.9044201672989898"
            ]
          },
          "execution_count": 143,
          "metadata": {},
          "output_type": "execute_result"
        }
      ],
      "source": [
        "accuracy"
      ]
    },
    {
      "cell_type": "code",
      "execution_count": null,
      "metadata": {
        "id": "QCvjnFYM-Go2"
      },
      "outputs": [],
      "source": [
        "\"\"\"from sklearn.svm import SVC\n",
        "from sklearn.pipeline import make_pipeline\n",
        "from sklearn.preprocessing import StandardScaler\n",
        "\n",
        "clf = make_pipeline(StandardScaler(), SVC(gamma='auto'))\n",
        "clf.fit(X_train_ICA, y_train)\"\"\""
      ]
    },
    {
      "cell_type": "code",
      "execution_count": null,
      "metadata": {
        "id": "TUMdTSPcx9DE"
      },
      "outputs": [],
      "source": [
        "# accuracy = clf.score(X_test_ICA, y_test)"
      ]
    },
    {
      "cell_type": "code",
      "execution_count": null,
      "metadata": {
        "id": "Wzt5ywejx5BO"
      },
      "outputs": [],
      "source": [
        "print(accuracy)"
      ]
    },
    {
      "cell_type": "code",
      "execution_count": null,
      "metadata": {
        "colab": {
          "base_uri": "https://localhost:8080/"
        },
        "id": "fFwqhGEqXYMF",
        "outputId": "572bc45d-53aa-4f31-fda4-369a93cfcc1e"
      },
      "outputs": [
        {
          "name": "stdout",
          "output_type": "stream",
          "text": [
            "Accuracy of Model (WT Features and ICA Features):  97.99 %\n"
          ]
        }
      ],
      "source": [
        "\"\"\"from sklearn.svm import SVC\n",
        "from sklearn.pipeline import make_pipeline\n",
        "from sklearn.preprocessing import StandardScaler\n",
        "\n",
        "clf = make_pipeline(StandardScaler(), SVC(gamma='auto'))\n",
        "clf.fit(X_train_ICA, y_train)\"\"\""
      ]
    },
    {
      "cell_type": "code",
      "execution_count": null,
      "metadata": {
        "id": "fl5oyU6LyOhV"
      },
      "outputs": [],
      "source": [
        "accuracy = clf.score(X_test_ICA, y_test)"
      ]
    },
    {
      "cell_type": "code",
      "execution_count": null,
      "metadata": {
        "id": "7JhK-wfEySA5"
      },
      "outputs": [],
      "source": [
        "print(f\"Accuracy of Model (WT Features and ICA Features): \", round(accuracy*100, 2), \"%\")"
      ]
    },
    {
      "cell_type": "code",
      "execution_count": null,
      "metadata": {
        "colab": {
          "base_uri": "https://localhost:8080/",
          "height": 488
        },
        "id": "L-xuoXTE_uAE",
        "outputId": "3b5fe8ad-3db3-4255-cadd-0baf4fb79a89"
      },
      "outputs": [
        {
          "data": {
            "text/html": [
              "\n",
              "  <div id=\"df-b0b95744-fe94-4e96-9caa-ac0be03d8afe\">\n",
              "    <div class=\"colab-df-container\">\n",
              "      <div>\n",
              "<style scoped>\n",
              "    .dataframe tbody tr th:only-of-type {\n",
              "        vertical-align: middle;\n",
              "    }\n",
              "\n",
              "    .dataframe tbody tr th {\n",
              "        vertical-align: top;\n",
              "    }\n",
              "\n",
              "    .dataframe thead th {\n",
              "        text-align: right;\n",
              "    }\n",
              "</style>\n",
              "<table border=\"1\" class=\"dataframe\">\n",
              "  <thead>\n",
              "    <tr style=\"text-align: right;\">\n",
              "      <th></th>\n",
              "      <th>0</th>\n",
              "      <th>1</th>\n",
              "      <th>2</th>\n",
              "      <th>3</th>\n",
              "      <th>4</th>\n",
              "      <th>5</th>\n",
              "      <th>6</th>\n",
              "      <th>7</th>\n",
              "      <th>8</th>\n",
              "      <th>9</th>\n",
              "      <th>...</th>\n",
              "      <th>8</th>\n",
              "      <th>9</th>\n",
              "      <th>10</th>\n",
              "      <th>11</th>\n",
              "      <th>12</th>\n",
              "      <th>13</th>\n",
              "      <th>14</th>\n",
              "      <th>15</th>\n",
              "      <th>16</th>\n",
              "      <th>17</th>\n",
              "    </tr>\n",
              "  </thead>\n",
              "  <tbody>\n",
              "    <tr>\n",
              "      <th>99691</th>\n",
              "      <td>-0.006884</td>\n",
              "      <td>-0.003916</td>\n",
              "      <td>-0.005685</td>\n",
              "      <td>-0.006578</td>\n",
              "      <td>-0.003546</td>\n",
              "      <td>-0.005923</td>\n",
              "      <td>-0.007805</td>\n",
              "      <td>-0.004108</td>\n",
              "      <td>-0.005220</td>\n",
              "      <td>-0.005607</td>\n",
              "      <td>...</td>\n",
              "      <td>0.001472</td>\n",
              "      <td>0.001215</td>\n",
              "      <td>-0.000831</td>\n",
              "      <td>-0.000002</td>\n",
              "      <td>0.000996</td>\n",
              "      <td>-0.000905</td>\n",
              "      <td>-0.000182</td>\n",
              "      <td>-0.003242</td>\n",
              "      <td>-0.000081</td>\n",
              "      <td>0.000474</td>\n",
              "    </tr>\n",
              "    <tr>\n",
              "      <th>49685</th>\n",
              "      <td>-0.004202</td>\n",
              "      <td>-0.003520</td>\n",
              "      <td>0.002594</td>\n",
              "      <td>-0.008670</td>\n",
              "      <td>-0.002073</td>\n",
              "      <td>0.004881</td>\n",
              "      <td>-0.003698</td>\n",
              "      <td>0.003591</td>\n",
              "      <td>-0.001932</td>\n",
              "      <td>-0.009995</td>\n",
              "      <td>...</td>\n",
              "      <td>0.000949</td>\n",
              "      <td>0.000078</td>\n",
              "      <td>-0.012771</td>\n",
              "      <td>-0.000368</td>\n",
              "      <td>0.000437</td>\n",
              "      <td>0.000418</td>\n",
              "      <td>-0.000525</td>\n",
              "      <td>0.001517</td>\n",
              "      <td>0.000403</td>\n",
              "      <td>0.000497</td>\n",
              "    </tr>\n",
              "    <tr>\n",
              "      <th>29914</th>\n",
              "      <td>-0.014919</td>\n",
              "      <td>-0.014815</td>\n",
              "      <td>-0.007342</td>\n",
              "      <td>-0.018296</td>\n",
              "      <td>-0.011102</td>\n",
              "      <td>-0.009942</td>\n",
              "      <td>-0.019400</td>\n",
              "      <td>-0.008524</td>\n",
              "      <td>-0.012650</td>\n",
              "      <td>-0.018272</td>\n",
              "      <td>...</td>\n",
              "      <td>0.000175</td>\n",
              "      <td>0.000707</td>\n",
              "      <td>-0.000666</td>\n",
              "      <td>-0.001059</td>\n",
              "      <td>0.000525</td>\n",
              "      <td>-0.000871</td>\n",
              "      <td>0.000439</td>\n",
              "      <td>0.004178</td>\n",
              "      <td>-0.001093</td>\n",
              "      <td>0.000787</td>\n",
              "    </tr>\n",
              "    <tr>\n",
              "      <th>105991</th>\n",
              "      <td>-0.070913</td>\n",
              "      <td>-0.066558</td>\n",
              "      <td>-0.028718</td>\n",
              "      <td>-0.080413</td>\n",
              "      <td>-0.048969</td>\n",
              "      <td>-0.041902</td>\n",
              "      <td>-0.085933</td>\n",
              "      <td>-0.036550</td>\n",
              "      <td>-0.055618</td>\n",
              "      <td>-0.074761</td>\n",
              "      <td>...</td>\n",
              "      <td>-0.000917</td>\n",
              "      <td>-0.002661</td>\n",
              "      <td>0.004948</td>\n",
              "      <td>0.001432</td>\n",
              "      <td>0.000609</td>\n",
              "      <td>0.000364</td>\n",
              "      <td>0.000026</td>\n",
              "      <td>-0.004157</td>\n",
              "      <td>-0.001003</td>\n",
              "      <td>-0.000109</td>\n",
              "    </tr>\n",
              "    <tr>\n",
              "      <th>62318</th>\n",
              "      <td>-0.000503</td>\n",
              "      <td>0.000091</td>\n",
              "      <td>-0.000419</td>\n",
              "      <td>0.000439</td>\n",
              "      <td>-0.000087</td>\n",
              "      <td>-0.000358</td>\n",
              "      <td>0.000369</td>\n",
              "      <td>-0.000406</td>\n",
              "      <td>-0.000158</td>\n",
              "      <td>0.001530</td>\n",
              "      <td>...</td>\n",
              "      <td>-0.000461</td>\n",
              "      <td>0.001990</td>\n",
              "      <td>-0.000248</td>\n",
              "      <td>-0.003771</td>\n",
              "      <td>0.000494</td>\n",
              "      <td>-0.000081</td>\n",
              "      <td>-0.001592</td>\n",
              "      <td>-0.001618</td>\n",
              "      <td>-0.000275</td>\n",
              "      <td>-0.000044</td>\n",
              "    </tr>\n",
              "    <tr>\n",
              "      <th>...</th>\n",
              "      <td>...</td>\n",
              "      <td>...</td>\n",
              "      <td>...</td>\n",
              "      <td>...</td>\n",
              "      <td>...</td>\n",
              "      <td>...</td>\n",
              "      <td>...</td>\n",
              "      <td>...</td>\n",
              "      <td>...</td>\n",
              "      <td>...</td>\n",
              "      <td>...</td>\n",
              "      <td>...</td>\n",
              "      <td>...</td>\n",
              "      <td>...</td>\n",
              "      <td>...</td>\n",
              "      <td>...</td>\n",
              "      <td>...</td>\n",
              "      <td>...</td>\n",
              "      <td>...</td>\n",
              "      <td>...</td>\n",
              "      <td>...</td>\n",
              "    </tr>\n",
              "    <tr>\n",
              "      <th>430</th>\n",
              "      <td>-0.043599</td>\n",
              "      <td>-0.042611</td>\n",
              "      <td>-0.029272</td>\n",
              "      <td>-0.051547</td>\n",
              "      <td>-0.036114</td>\n",
              "      <td>-0.032377</td>\n",
              "      <td>-0.051625</td>\n",
              "      <td>-0.030056</td>\n",
              "      <td>-0.038975</td>\n",
              "      <td>-0.052018</td>\n",
              "      <td>...</td>\n",
              "      <td>-0.000059</td>\n",
              "      <td>-0.000100</td>\n",
              "      <td>0.001057</td>\n",
              "      <td>-0.000730</td>\n",
              "      <td>-0.000033</td>\n",
              "      <td>-0.000074</td>\n",
              "      <td>0.000133</td>\n",
              "      <td>0.004868</td>\n",
              "      <td>0.000527</td>\n",
              "      <td>-0.000181</td>\n",
              "    </tr>\n",
              "    <tr>\n",
              "      <th>88852</th>\n",
              "      <td>-0.016365</td>\n",
              "      <td>-0.007649</td>\n",
              "      <td>-0.006665</td>\n",
              "      <td>-0.020585</td>\n",
              "      <td>-0.004654</td>\n",
              "      <td>-0.006000</td>\n",
              "      <td>-0.020401</td>\n",
              "      <td>-0.001302</td>\n",
              "      <td>-0.009416</td>\n",
              "      <td>-0.021437</td>\n",
              "      <td>...</td>\n",
              "      <td>-0.000431</td>\n",
              "      <td>0.000242</td>\n",
              "      <td>0.000745</td>\n",
              "      <td>-0.000740</td>\n",
              "      <td>0.000050</td>\n",
              "      <td>0.000401</td>\n",
              "      <td>-0.000399</td>\n",
              "      <td>-0.003571</td>\n",
              "      <td>0.000151</td>\n",
              "      <td>-0.000664</td>\n",
              "    </tr>\n",
              "    <tr>\n",
              "      <th>109313</th>\n",
              "      <td>0.001830</td>\n",
              "      <td>-0.000815</td>\n",
              "      <td>-0.009192</td>\n",
              "      <td>0.001435</td>\n",
              "      <td>-0.006093</td>\n",
              "      <td>-0.002984</td>\n",
              "      <td>0.007139</td>\n",
              "      <td>-0.006339</td>\n",
              "      <td>-0.003086</td>\n",
              "      <td>-0.002012</td>\n",
              "      <td>...</td>\n",
              "      <td>0.000347</td>\n",
              "      <td>0.001225</td>\n",
              "      <td>0.002913</td>\n",
              "      <td>-0.000831</td>\n",
              "      <td>0.002137</td>\n",
              "      <td>-0.001270</td>\n",
              "      <td>0.000601</td>\n",
              "      <td>-0.005891</td>\n",
              "      <td>0.000283</td>\n",
              "      <td>-0.000769</td>\n",
              "    </tr>\n",
              "    <tr>\n",
              "      <th>1244</th>\n",
              "      <td>-0.036662</td>\n",
              "      <td>-0.031132</td>\n",
              "      <td>-0.020195</td>\n",
              "      <td>-0.042724</td>\n",
              "      <td>-0.024268</td>\n",
              "      <td>-0.024073</td>\n",
              "      <td>-0.045044</td>\n",
              "      <td>-0.019398</td>\n",
              "      <td>-0.029003</td>\n",
              "      <td>-0.042617</td>\n",
              "      <td>...</td>\n",
              "      <td>0.000107</td>\n",
              "      <td>0.000219</td>\n",
              "      <td>0.000145</td>\n",
              "      <td>-0.000698</td>\n",
              "      <td>-0.000405</td>\n",
              "      <td>0.000231</td>\n",
              "      <td>-0.000414</td>\n",
              "      <td>0.004563</td>\n",
              "      <td>0.000374</td>\n",
              "      <td>-0.000234</td>\n",
              "    </tr>\n",
              "    <tr>\n",
              "      <th>74113</th>\n",
              "      <td>0.006509</td>\n",
              "      <td>0.001315</td>\n",
              "      <td>-0.004505</td>\n",
              "      <td>0.011294</td>\n",
              "      <td>-0.001123</td>\n",
              "      <td>-0.007187</td>\n",
              "      <td>0.006311</td>\n",
              "      <td>-0.007960</td>\n",
              "      <td>0.001374</td>\n",
              "      <td>0.011218</td>\n",
              "      <td>...</td>\n",
              "      <td>0.002363</td>\n",
              "      <td>0.000176</td>\n",
              "      <td>0.001074</td>\n",
              "      <td>-0.000878</td>\n",
              "      <td>0.000904</td>\n",
              "      <td>0.013218</td>\n",
              "      <td>0.017052</td>\n",
              "      <td>-0.001069</td>\n",
              "      <td>0.001162</td>\n",
              "      <td>-0.000570</td>\n",
              "    </tr>\n",
              "  </tbody>\n",
              "</table>\n",
              "<p>21877 rows × 132 columns</p>\n",
              "</div>\n",
              "      <button class=\"colab-df-convert\" onclick=\"convertToInteractive('df-b0b95744-fe94-4e96-9caa-ac0be03d8afe')\"\n",
              "              title=\"Convert this dataframe to an interactive table.\"\n",
              "              style=\"display:none;\">\n",
              "        \n",
              "  <svg xmlns=\"http://www.w3.org/2000/svg\" height=\"24px\"viewBox=\"0 0 24 24\"\n",
              "       width=\"24px\">\n",
              "    <path d=\"M0 0h24v24H0V0z\" fill=\"none\"/>\n",
              "    <path d=\"M18.56 5.44l.94 2.06.94-2.06 2.06-.94-2.06-.94-.94-2.06-.94 2.06-2.06.94zm-11 1L8.5 8.5l.94-2.06 2.06-.94-2.06-.94L8.5 2.5l-.94 2.06-2.06.94zm10 10l.94 2.06.94-2.06 2.06-.94-2.06-.94-.94-2.06-.94 2.06-2.06.94z\"/><path d=\"M17.41 7.96l-1.37-1.37c-.4-.4-.92-.59-1.43-.59-.52 0-1.04.2-1.43.59L10.3 9.45l-7.72 7.72c-.78.78-.78 2.05 0 2.83L4 21.41c.39.39.9.59 1.41.59.51 0 1.02-.2 1.41-.59l7.78-7.78 2.81-2.81c.8-.78.8-2.07 0-2.86zM5.41 20L4 18.59l7.72-7.72 1.47 1.35L5.41 20z\"/>\n",
              "  </svg>\n",
              "      </button>\n",
              "      \n",
              "  <style>\n",
              "    .colab-df-container {\n",
              "      display:flex;\n",
              "      flex-wrap:wrap;\n",
              "      gap: 12px;\n",
              "    }\n",
              "\n",
              "    .colab-df-convert {\n",
              "      background-color: #E8F0FE;\n",
              "      border: none;\n",
              "      border-radius: 50%;\n",
              "      cursor: pointer;\n",
              "      display: none;\n",
              "      fill: #1967D2;\n",
              "      height: 32px;\n",
              "      padding: 0 0 0 0;\n",
              "      width: 32px;\n",
              "    }\n",
              "\n",
              "    .colab-df-convert:hover {\n",
              "      background-color: #E2EBFA;\n",
              "      box-shadow: 0px 1px 2px rgba(60, 64, 67, 0.3), 0px 1px 3px 1px rgba(60, 64, 67, 0.15);\n",
              "      fill: #174EA6;\n",
              "    }\n",
              "\n",
              "    [theme=dark] .colab-df-convert {\n",
              "      background-color: #3B4455;\n",
              "      fill: #D2E3FC;\n",
              "    }\n",
              "\n",
              "    [theme=dark] .colab-df-convert:hover {\n",
              "      background-color: #434B5C;\n",
              "      box-shadow: 0px 1px 3px 1px rgba(0, 0, 0, 0.15);\n",
              "      filter: drop-shadow(0px 1px 2px rgba(0, 0, 0, 0.3));\n",
              "      fill: #FFFFFF;\n",
              "    }\n",
              "  </style>\n",
              "\n",
              "      <script>\n",
              "        const buttonEl =\n",
              "          document.querySelector('#df-b0b95744-fe94-4e96-9caa-ac0be03d8afe button.colab-df-convert');\n",
              "        buttonEl.style.display =\n",
              "          google.colab.kernel.accessAllowed ? 'block' : 'none';\n",
              "\n",
              "        async function convertToInteractive(key) {\n",
              "          const element = document.querySelector('#df-b0b95744-fe94-4e96-9caa-ac0be03d8afe');\n",
              "          const dataTable =\n",
              "            await google.colab.kernel.invokeFunction('convertToInteractive',\n",
              "                                                     [key], {});\n",
              "          if (!dataTable) return;\n",
              "\n",
              "          const docLinkHtml = 'Like what you see? Visit the ' +\n",
              "            '<a target=\"_blank\" href=https://colab.research.google.com/notebooks/data_table.ipynb>data table notebook</a>'\n",
              "            + ' to learn more about interactive tables.';\n",
              "          element.innerHTML = '';\n",
              "          dataTable['output_type'] = 'display_data';\n",
              "          await google.colab.output.renderOutput(dataTable, element);\n",
              "          const docLink = document.createElement('div');\n",
              "          docLink.innerHTML = docLinkHtml;\n",
              "          element.appendChild(docLink);\n",
              "        }\n",
              "      </script>\n",
              "    </div>\n",
              "  </div>\n",
              "  "
            ],
            "text/plain": [
              "               0         1         2         3         4         5         6  \\\n",
              "99691  -0.006884 -0.003916 -0.005685 -0.006578 -0.003546 -0.005923 -0.007805   \n",
              "49685  -0.004202 -0.003520  0.002594 -0.008670 -0.002073  0.004881 -0.003698   \n",
              "29914  -0.014919 -0.014815 -0.007342 -0.018296 -0.011102 -0.009942 -0.019400   \n",
              "105991 -0.070913 -0.066558 -0.028718 -0.080413 -0.048969 -0.041902 -0.085933   \n",
              "62318  -0.000503  0.000091 -0.000419  0.000439 -0.000087 -0.000358  0.000369   \n",
              "...          ...       ...       ...       ...       ...       ...       ...   \n",
              "430    -0.043599 -0.042611 -0.029272 -0.051547 -0.036114 -0.032377 -0.051625   \n",
              "88852  -0.016365 -0.007649 -0.006665 -0.020585 -0.004654 -0.006000 -0.020401   \n",
              "109313  0.001830 -0.000815 -0.009192  0.001435 -0.006093 -0.002984  0.007139   \n",
              "1244   -0.036662 -0.031132 -0.020195 -0.042724 -0.024268 -0.024073 -0.045044   \n",
              "74113   0.006509  0.001315 -0.004505  0.011294 -0.001123 -0.007187  0.006311   \n",
              "\n",
              "               7         8         9  ...         8         9        10  \\\n",
              "99691  -0.004108 -0.005220 -0.005607  ...  0.001472  0.001215 -0.000831   \n",
              "49685   0.003591 -0.001932 -0.009995  ...  0.000949  0.000078 -0.012771   \n",
              "29914  -0.008524 -0.012650 -0.018272  ...  0.000175  0.000707 -0.000666   \n",
              "105991 -0.036550 -0.055618 -0.074761  ... -0.000917 -0.002661  0.004948   \n",
              "62318  -0.000406 -0.000158  0.001530  ... -0.000461  0.001990 -0.000248   \n",
              "...          ...       ...       ...  ...       ...       ...       ...   \n",
              "430    -0.030056 -0.038975 -0.052018  ... -0.000059 -0.000100  0.001057   \n",
              "88852  -0.001302 -0.009416 -0.021437  ... -0.000431  0.000242  0.000745   \n",
              "109313 -0.006339 -0.003086 -0.002012  ...  0.000347  0.001225  0.002913   \n",
              "1244   -0.019398 -0.029003 -0.042617  ...  0.000107  0.000219  0.000145   \n",
              "74113  -0.007960  0.001374  0.011218  ...  0.002363  0.000176  0.001074   \n",
              "\n",
              "              11        12        13        14        15        16        17  \n",
              "99691  -0.000002  0.000996 -0.000905 -0.000182 -0.003242 -0.000081  0.000474  \n",
              "49685  -0.000368  0.000437  0.000418 -0.000525  0.001517  0.000403  0.000497  \n",
              "29914  -0.001059  0.000525 -0.000871  0.000439  0.004178 -0.001093  0.000787  \n",
              "105991  0.001432  0.000609  0.000364  0.000026 -0.004157 -0.001003 -0.000109  \n",
              "62318  -0.003771  0.000494 -0.000081 -0.001592 -0.001618 -0.000275 -0.000044  \n",
              "...          ...       ...       ...       ...       ...       ...       ...  \n",
              "430    -0.000730 -0.000033 -0.000074  0.000133  0.004868  0.000527 -0.000181  \n",
              "88852  -0.000740  0.000050  0.000401 -0.000399 -0.003571  0.000151 -0.000664  \n",
              "109313 -0.000831  0.002137 -0.001270  0.000601 -0.005891  0.000283 -0.000769  \n",
              "1244   -0.000698 -0.000405  0.000231 -0.000414  0.004563  0.000374 -0.000234  \n",
              "74113  -0.000878  0.000904  0.013218  0.017052 -0.001069  0.001162 -0.000570  \n",
              "\n",
              "[21877 rows x 132 columns]"
            ]
          },
          "execution_count": 119,
          "metadata": {},
          "output_type": "execute_result"
        }
      ],
      "source": [
        "X_test_ICA"
      ]
    }
  ],
  "metadata": {
    "colab": {
      "provenance": [],
      "include_colab_link": true
    },
    "kernelspec": {
      "display_name": "tutorials",
      "language": "python",
      "name": "tutorials"
    },
    "language_info": {
      "codemirror_mode": {
        "name": "ipython",
        "version": 3
      },
      "file_extension": ".py",
      "mimetype": "text/x-python",
      "name": "python",
      "nbconvert_exporter": "python",
      "pygments_lexer": "ipython3",
      "version": "3.6.9"
    }
  },
  "nbformat": 4,
  "nbformat_minor": 0
}